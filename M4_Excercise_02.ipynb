{
  "nbformat": 4,
  "nbformat_minor": 0,
  "metadata": {
    "colab": {
      "provenance": []
    },
    "kernelspec": {
      "name": "python3",
      "display_name": "Python 3"
    },
    "language_info": {
      "name": "python"
    },
    "widgets": {
      "application/vnd.jupyter.widget-state+json": {
        "01165a6e06d445548b09d2755a902cf6": {
          "model_module": "@jupyter-widgets/controls",
          "model_name": "HBoxModel",
          "model_module_version": "1.5.0",
          "state": {
            "_dom_classes": [],
            "_model_module": "@jupyter-widgets/controls",
            "_model_module_version": "1.5.0",
            "_model_name": "HBoxModel",
            "_view_count": null,
            "_view_module": "@jupyter-widgets/controls",
            "_view_module_version": "1.5.0",
            "_view_name": "HBoxView",
            "box_style": "",
            "children": [
              "IPY_MODEL_9535c14e0fc7492a8f5e9321da7a9539",
              "IPY_MODEL_0e14b608852f44939ed36d2a47203c48",
              "IPY_MODEL_f548e1fb8a1d4949a4fdfb4577e2e667"
            ],
            "layout": "IPY_MODEL_7149425e4b3549939fdbb5847042e6d9"
          }
        },
        "9535c14e0fc7492a8f5e9321da7a9539": {
          "model_module": "@jupyter-widgets/controls",
          "model_name": "HTMLModel",
          "model_module_version": "1.5.0",
          "state": {
            "_dom_classes": [],
            "_model_module": "@jupyter-widgets/controls",
            "_model_module_version": "1.5.0",
            "_model_name": "HTMLModel",
            "_view_count": null,
            "_view_module": "@jupyter-widgets/controls",
            "_view_module_version": "1.5.0",
            "_view_name": "HTMLView",
            "description": "",
            "description_tooltip": null,
            "layout": "IPY_MODEL_2cd6ecc52ef444999291f805e60a0e2c",
            "placeholder": "​",
            "style": "IPY_MODEL_97a2bb8870084dc8867f6ea85c4aa423",
            "value": "100%"
          }
        },
        "0e14b608852f44939ed36d2a47203c48": {
          "model_module": "@jupyter-widgets/controls",
          "model_name": "FloatProgressModel",
          "model_module_version": "1.5.0",
          "state": {
            "_dom_classes": [],
            "_model_module": "@jupyter-widgets/controls",
            "_model_module_version": "1.5.0",
            "_model_name": "FloatProgressModel",
            "_view_count": null,
            "_view_module": "@jupyter-widgets/controls",
            "_view_module_version": "1.5.0",
            "_view_name": "ProgressView",
            "bar_style": "success",
            "description": "",
            "description_tooltip": null,
            "layout": "IPY_MODEL_0ceffd2f9fff4ad592057da40c42ab3a",
            "max": 9912422,
            "min": 0,
            "orientation": "horizontal",
            "style": "IPY_MODEL_9b12fbf02a1b44fdbc30ad23600d9ca5",
            "value": 9912422
          }
        },
        "f548e1fb8a1d4949a4fdfb4577e2e667": {
          "model_module": "@jupyter-widgets/controls",
          "model_name": "HTMLModel",
          "model_module_version": "1.5.0",
          "state": {
            "_dom_classes": [],
            "_model_module": "@jupyter-widgets/controls",
            "_model_module_version": "1.5.0",
            "_model_name": "HTMLModel",
            "_view_count": null,
            "_view_module": "@jupyter-widgets/controls",
            "_view_module_version": "1.5.0",
            "_view_name": "HTMLView",
            "description": "",
            "description_tooltip": null,
            "layout": "IPY_MODEL_42fde77bdbe4436c85bbae869afa837a",
            "placeholder": "​",
            "style": "IPY_MODEL_160cc50b5d084f65839084d48ac3e94a",
            "value": " 9912422/9912422 [00:00&lt;00:00, 13307134.09it/s]"
          }
        },
        "7149425e4b3549939fdbb5847042e6d9": {
          "model_module": "@jupyter-widgets/base",
          "model_name": "LayoutModel",
          "model_module_version": "1.2.0",
          "state": {
            "_model_module": "@jupyter-widgets/base",
            "_model_module_version": "1.2.0",
            "_model_name": "LayoutModel",
            "_view_count": null,
            "_view_module": "@jupyter-widgets/base",
            "_view_module_version": "1.2.0",
            "_view_name": "LayoutView",
            "align_content": null,
            "align_items": null,
            "align_self": null,
            "border": null,
            "bottom": null,
            "display": null,
            "flex": null,
            "flex_flow": null,
            "grid_area": null,
            "grid_auto_columns": null,
            "grid_auto_flow": null,
            "grid_auto_rows": null,
            "grid_column": null,
            "grid_gap": null,
            "grid_row": null,
            "grid_template_areas": null,
            "grid_template_columns": null,
            "grid_template_rows": null,
            "height": null,
            "justify_content": null,
            "justify_items": null,
            "left": null,
            "margin": null,
            "max_height": null,
            "max_width": null,
            "min_height": null,
            "min_width": null,
            "object_fit": null,
            "object_position": null,
            "order": null,
            "overflow": null,
            "overflow_x": null,
            "overflow_y": null,
            "padding": null,
            "right": null,
            "top": null,
            "visibility": null,
            "width": null
          }
        },
        "2cd6ecc52ef444999291f805e60a0e2c": {
          "model_module": "@jupyter-widgets/base",
          "model_name": "LayoutModel",
          "model_module_version": "1.2.0",
          "state": {
            "_model_module": "@jupyter-widgets/base",
            "_model_module_version": "1.2.0",
            "_model_name": "LayoutModel",
            "_view_count": null,
            "_view_module": "@jupyter-widgets/base",
            "_view_module_version": "1.2.0",
            "_view_name": "LayoutView",
            "align_content": null,
            "align_items": null,
            "align_self": null,
            "border": null,
            "bottom": null,
            "display": null,
            "flex": null,
            "flex_flow": null,
            "grid_area": null,
            "grid_auto_columns": null,
            "grid_auto_flow": null,
            "grid_auto_rows": null,
            "grid_column": null,
            "grid_gap": null,
            "grid_row": null,
            "grid_template_areas": null,
            "grid_template_columns": null,
            "grid_template_rows": null,
            "height": null,
            "justify_content": null,
            "justify_items": null,
            "left": null,
            "margin": null,
            "max_height": null,
            "max_width": null,
            "min_height": null,
            "min_width": null,
            "object_fit": null,
            "object_position": null,
            "order": null,
            "overflow": null,
            "overflow_x": null,
            "overflow_y": null,
            "padding": null,
            "right": null,
            "top": null,
            "visibility": null,
            "width": null
          }
        },
        "97a2bb8870084dc8867f6ea85c4aa423": {
          "model_module": "@jupyter-widgets/controls",
          "model_name": "DescriptionStyleModel",
          "model_module_version": "1.5.0",
          "state": {
            "_model_module": "@jupyter-widgets/controls",
            "_model_module_version": "1.5.0",
            "_model_name": "DescriptionStyleModel",
            "_view_count": null,
            "_view_module": "@jupyter-widgets/base",
            "_view_module_version": "1.2.0",
            "_view_name": "StyleView",
            "description_width": ""
          }
        },
        "0ceffd2f9fff4ad592057da40c42ab3a": {
          "model_module": "@jupyter-widgets/base",
          "model_name": "LayoutModel",
          "model_module_version": "1.2.0",
          "state": {
            "_model_module": "@jupyter-widgets/base",
            "_model_module_version": "1.2.0",
            "_model_name": "LayoutModel",
            "_view_count": null,
            "_view_module": "@jupyter-widgets/base",
            "_view_module_version": "1.2.0",
            "_view_name": "LayoutView",
            "align_content": null,
            "align_items": null,
            "align_self": null,
            "border": null,
            "bottom": null,
            "display": null,
            "flex": null,
            "flex_flow": null,
            "grid_area": null,
            "grid_auto_columns": null,
            "grid_auto_flow": null,
            "grid_auto_rows": null,
            "grid_column": null,
            "grid_gap": null,
            "grid_row": null,
            "grid_template_areas": null,
            "grid_template_columns": null,
            "grid_template_rows": null,
            "height": null,
            "justify_content": null,
            "justify_items": null,
            "left": null,
            "margin": null,
            "max_height": null,
            "max_width": null,
            "min_height": null,
            "min_width": null,
            "object_fit": null,
            "object_position": null,
            "order": null,
            "overflow": null,
            "overflow_x": null,
            "overflow_y": null,
            "padding": null,
            "right": null,
            "top": null,
            "visibility": null,
            "width": null
          }
        },
        "9b12fbf02a1b44fdbc30ad23600d9ca5": {
          "model_module": "@jupyter-widgets/controls",
          "model_name": "ProgressStyleModel",
          "model_module_version": "1.5.0",
          "state": {
            "_model_module": "@jupyter-widgets/controls",
            "_model_module_version": "1.5.0",
            "_model_name": "ProgressStyleModel",
            "_view_count": null,
            "_view_module": "@jupyter-widgets/base",
            "_view_module_version": "1.2.0",
            "_view_name": "StyleView",
            "bar_color": null,
            "description_width": ""
          }
        },
        "42fde77bdbe4436c85bbae869afa837a": {
          "model_module": "@jupyter-widgets/base",
          "model_name": "LayoutModel",
          "model_module_version": "1.2.0",
          "state": {
            "_model_module": "@jupyter-widgets/base",
            "_model_module_version": "1.2.0",
            "_model_name": "LayoutModel",
            "_view_count": null,
            "_view_module": "@jupyter-widgets/base",
            "_view_module_version": "1.2.0",
            "_view_name": "LayoutView",
            "align_content": null,
            "align_items": null,
            "align_self": null,
            "border": null,
            "bottom": null,
            "display": null,
            "flex": null,
            "flex_flow": null,
            "grid_area": null,
            "grid_auto_columns": null,
            "grid_auto_flow": null,
            "grid_auto_rows": null,
            "grid_column": null,
            "grid_gap": null,
            "grid_row": null,
            "grid_template_areas": null,
            "grid_template_columns": null,
            "grid_template_rows": null,
            "height": null,
            "justify_content": null,
            "justify_items": null,
            "left": null,
            "margin": null,
            "max_height": null,
            "max_width": null,
            "min_height": null,
            "min_width": null,
            "object_fit": null,
            "object_position": null,
            "order": null,
            "overflow": null,
            "overflow_x": null,
            "overflow_y": null,
            "padding": null,
            "right": null,
            "top": null,
            "visibility": null,
            "width": null
          }
        },
        "160cc50b5d084f65839084d48ac3e94a": {
          "model_module": "@jupyter-widgets/controls",
          "model_name": "DescriptionStyleModel",
          "model_module_version": "1.5.0",
          "state": {
            "_model_module": "@jupyter-widgets/controls",
            "_model_module_version": "1.5.0",
            "_model_name": "DescriptionStyleModel",
            "_view_count": null,
            "_view_module": "@jupyter-widgets/base",
            "_view_module_version": "1.2.0",
            "_view_name": "StyleView",
            "description_width": ""
          }
        },
        "e8c284a418254a9eb9bc4573c66bca37": {
          "model_module": "@jupyter-widgets/controls",
          "model_name": "HBoxModel",
          "model_module_version": "1.5.0",
          "state": {
            "_dom_classes": [],
            "_model_module": "@jupyter-widgets/controls",
            "_model_module_version": "1.5.0",
            "_model_name": "HBoxModel",
            "_view_count": null,
            "_view_module": "@jupyter-widgets/controls",
            "_view_module_version": "1.5.0",
            "_view_name": "HBoxView",
            "box_style": "",
            "children": [
              "IPY_MODEL_88353d374ed847eb9826b0b7aaf443be",
              "IPY_MODEL_ebcbccb4a1df44a9aa3a7e1b4da81545",
              "IPY_MODEL_32e7cfea513b46099870b6a586146b89"
            ],
            "layout": "IPY_MODEL_ee54c4a22bf54873a1bfd74d117a62d4"
          }
        },
        "88353d374ed847eb9826b0b7aaf443be": {
          "model_module": "@jupyter-widgets/controls",
          "model_name": "HTMLModel",
          "model_module_version": "1.5.0",
          "state": {
            "_dom_classes": [],
            "_model_module": "@jupyter-widgets/controls",
            "_model_module_version": "1.5.0",
            "_model_name": "HTMLModel",
            "_view_count": null,
            "_view_module": "@jupyter-widgets/controls",
            "_view_module_version": "1.5.0",
            "_view_name": "HTMLView",
            "description": "",
            "description_tooltip": null,
            "layout": "IPY_MODEL_46ffb8684f0a4ad5bb5bfc424b76820b",
            "placeholder": "​",
            "style": "IPY_MODEL_f476c4999c4748fab98490347e997aeb",
            "value": "100%"
          }
        },
        "ebcbccb4a1df44a9aa3a7e1b4da81545": {
          "model_module": "@jupyter-widgets/controls",
          "model_name": "FloatProgressModel",
          "model_module_version": "1.5.0",
          "state": {
            "_dom_classes": [],
            "_model_module": "@jupyter-widgets/controls",
            "_model_module_version": "1.5.0",
            "_model_name": "FloatProgressModel",
            "_view_count": null,
            "_view_module": "@jupyter-widgets/controls",
            "_view_module_version": "1.5.0",
            "_view_name": "ProgressView",
            "bar_style": "success",
            "description": "",
            "description_tooltip": null,
            "layout": "IPY_MODEL_676193dd9b114fb69dbbe88c91420301",
            "max": 28881,
            "min": 0,
            "orientation": "horizontal",
            "style": "IPY_MODEL_3d08b5e042cb4bb4bcb31bc8dfe871ef",
            "value": 28881
          }
        },
        "32e7cfea513b46099870b6a586146b89": {
          "model_module": "@jupyter-widgets/controls",
          "model_name": "HTMLModel",
          "model_module_version": "1.5.0",
          "state": {
            "_dom_classes": [],
            "_model_module": "@jupyter-widgets/controls",
            "_model_module_version": "1.5.0",
            "_model_name": "HTMLModel",
            "_view_count": null,
            "_view_module": "@jupyter-widgets/controls",
            "_view_module_version": "1.5.0",
            "_view_name": "HTMLView",
            "description": "",
            "description_tooltip": null,
            "layout": "IPY_MODEL_4844cb4d0db849a69db1c2e6407edf72",
            "placeholder": "​",
            "style": "IPY_MODEL_72e7b6b9ef56423c9f4538e0ab039c00",
            "value": " 28881/28881 [00:00&lt;00:00, 343590.82it/s]"
          }
        },
        "ee54c4a22bf54873a1bfd74d117a62d4": {
          "model_module": "@jupyter-widgets/base",
          "model_name": "LayoutModel",
          "model_module_version": "1.2.0",
          "state": {
            "_model_module": "@jupyter-widgets/base",
            "_model_module_version": "1.2.0",
            "_model_name": "LayoutModel",
            "_view_count": null,
            "_view_module": "@jupyter-widgets/base",
            "_view_module_version": "1.2.0",
            "_view_name": "LayoutView",
            "align_content": null,
            "align_items": null,
            "align_self": null,
            "border": null,
            "bottom": null,
            "display": null,
            "flex": null,
            "flex_flow": null,
            "grid_area": null,
            "grid_auto_columns": null,
            "grid_auto_flow": null,
            "grid_auto_rows": null,
            "grid_column": null,
            "grid_gap": null,
            "grid_row": null,
            "grid_template_areas": null,
            "grid_template_columns": null,
            "grid_template_rows": null,
            "height": null,
            "justify_content": null,
            "justify_items": null,
            "left": null,
            "margin": null,
            "max_height": null,
            "max_width": null,
            "min_height": null,
            "min_width": null,
            "object_fit": null,
            "object_position": null,
            "order": null,
            "overflow": null,
            "overflow_x": null,
            "overflow_y": null,
            "padding": null,
            "right": null,
            "top": null,
            "visibility": null,
            "width": null
          }
        },
        "46ffb8684f0a4ad5bb5bfc424b76820b": {
          "model_module": "@jupyter-widgets/base",
          "model_name": "LayoutModel",
          "model_module_version": "1.2.0",
          "state": {
            "_model_module": "@jupyter-widgets/base",
            "_model_module_version": "1.2.0",
            "_model_name": "LayoutModel",
            "_view_count": null,
            "_view_module": "@jupyter-widgets/base",
            "_view_module_version": "1.2.0",
            "_view_name": "LayoutView",
            "align_content": null,
            "align_items": null,
            "align_self": null,
            "border": null,
            "bottom": null,
            "display": null,
            "flex": null,
            "flex_flow": null,
            "grid_area": null,
            "grid_auto_columns": null,
            "grid_auto_flow": null,
            "grid_auto_rows": null,
            "grid_column": null,
            "grid_gap": null,
            "grid_row": null,
            "grid_template_areas": null,
            "grid_template_columns": null,
            "grid_template_rows": null,
            "height": null,
            "justify_content": null,
            "justify_items": null,
            "left": null,
            "margin": null,
            "max_height": null,
            "max_width": null,
            "min_height": null,
            "min_width": null,
            "object_fit": null,
            "object_position": null,
            "order": null,
            "overflow": null,
            "overflow_x": null,
            "overflow_y": null,
            "padding": null,
            "right": null,
            "top": null,
            "visibility": null,
            "width": null
          }
        },
        "f476c4999c4748fab98490347e997aeb": {
          "model_module": "@jupyter-widgets/controls",
          "model_name": "DescriptionStyleModel",
          "model_module_version": "1.5.0",
          "state": {
            "_model_module": "@jupyter-widgets/controls",
            "_model_module_version": "1.5.0",
            "_model_name": "DescriptionStyleModel",
            "_view_count": null,
            "_view_module": "@jupyter-widgets/base",
            "_view_module_version": "1.2.0",
            "_view_name": "StyleView",
            "description_width": ""
          }
        },
        "676193dd9b114fb69dbbe88c91420301": {
          "model_module": "@jupyter-widgets/base",
          "model_name": "LayoutModel",
          "model_module_version": "1.2.0",
          "state": {
            "_model_module": "@jupyter-widgets/base",
            "_model_module_version": "1.2.0",
            "_model_name": "LayoutModel",
            "_view_count": null,
            "_view_module": "@jupyter-widgets/base",
            "_view_module_version": "1.2.0",
            "_view_name": "LayoutView",
            "align_content": null,
            "align_items": null,
            "align_self": null,
            "border": null,
            "bottom": null,
            "display": null,
            "flex": null,
            "flex_flow": null,
            "grid_area": null,
            "grid_auto_columns": null,
            "grid_auto_flow": null,
            "grid_auto_rows": null,
            "grid_column": null,
            "grid_gap": null,
            "grid_row": null,
            "grid_template_areas": null,
            "grid_template_columns": null,
            "grid_template_rows": null,
            "height": null,
            "justify_content": null,
            "justify_items": null,
            "left": null,
            "margin": null,
            "max_height": null,
            "max_width": null,
            "min_height": null,
            "min_width": null,
            "object_fit": null,
            "object_position": null,
            "order": null,
            "overflow": null,
            "overflow_x": null,
            "overflow_y": null,
            "padding": null,
            "right": null,
            "top": null,
            "visibility": null,
            "width": null
          }
        },
        "3d08b5e042cb4bb4bcb31bc8dfe871ef": {
          "model_module": "@jupyter-widgets/controls",
          "model_name": "ProgressStyleModel",
          "model_module_version": "1.5.0",
          "state": {
            "_model_module": "@jupyter-widgets/controls",
            "_model_module_version": "1.5.0",
            "_model_name": "ProgressStyleModel",
            "_view_count": null,
            "_view_module": "@jupyter-widgets/base",
            "_view_module_version": "1.2.0",
            "_view_name": "StyleView",
            "bar_color": null,
            "description_width": ""
          }
        },
        "4844cb4d0db849a69db1c2e6407edf72": {
          "model_module": "@jupyter-widgets/base",
          "model_name": "LayoutModel",
          "model_module_version": "1.2.0",
          "state": {
            "_model_module": "@jupyter-widgets/base",
            "_model_module_version": "1.2.0",
            "_model_name": "LayoutModel",
            "_view_count": null,
            "_view_module": "@jupyter-widgets/base",
            "_view_module_version": "1.2.0",
            "_view_name": "LayoutView",
            "align_content": null,
            "align_items": null,
            "align_self": null,
            "border": null,
            "bottom": null,
            "display": null,
            "flex": null,
            "flex_flow": null,
            "grid_area": null,
            "grid_auto_columns": null,
            "grid_auto_flow": null,
            "grid_auto_rows": null,
            "grid_column": null,
            "grid_gap": null,
            "grid_row": null,
            "grid_template_areas": null,
            "grid_template_columns": null,
            "grid_template_rows": null,
            "height": null,
            "justify_content": null,
            "justify_items": null,
            "left": null,
            "margin": null,
            "max_height": null,
            "max_width": null,
            "min_height": null,
            "min_width": null,
            "object_fit": null,
            "object_position": null,
            "order": null,
            "overflow": null,
            "overflow_x": null,
            "overflow_y": null,
            "padding": null,
            "right": null,
            "top": null,
            "visibility": null,
            "width": null
          }
        },
        "72e7b6b9ef56423c9f4538e0ab039c00": {
          "model_module": "@jupyter-widgets/controls",
          "model_name": "DescriptionStyleModel",
          "model_module_version": "1.5.0",
          "state": {
            "_model_module": "@jupyter-widgets/controls",
            "_model_module_version": "1.5.0",
            "_model_name": "DescriptionStyleModel",
            "_view_count": null,
            "_view_module": "@jupyter-widgets/base",
            "_view_module_version": "1.2.0",
            "_view_name": "StyleView",
            "description_width": ""
          }
        },
        "93fb1e2810c347beb4eb7586d4854c0d": {
          "model_module": "@jupyter-widgets/controls",
          "model_name": "HBoxModel",
          "model_module_version": "1.5.0",
          "state": {
            "_dom_classes": [],
            "_model_module": "@jupyter-widgets/controls",
            "_model_module_version": "1.5.0",
            "_model_name": "HBoxModel",
            "_view_count": null,
            "_view_module": "@jupyter-widgets/controls",
            "_view_module_version": "1.5.0",
            "_view_name": "HBoxView",
            "box_style": "",
            "children": [
              "IPY_MODEL_929b563106534c01909a850b4df70510",
              "IPY_MODEL_71c168b08bc5465da21d776c1bfee22a",
              "IPY_MODEL_394cf30e99f745638b43848c4aa4e83a"
            ],
            "layout": "IPY_MODEL_8f7905c291674199a405b15c5d36ce3f"
          }
        },
        "929b563106534c01909a850b4df70510": {
          "model_module": "@jupyter-widgets/controls",
          "model_name": "HTMLModel",
          "model_module_version": "1.5.0",
          "state": {
            "_dom_classes": [],
            "_model_module": "@jupyter-widgets/controls",
            "_model_module_version": "1.5.0",
            "_model_name": "HTMLModel",
            "_view_count": null,
            "_view_module": "@jupyter-widgets/controls",
            "_view_module_version": "1.5.0",
            "_view_name": "HTMLView",
            "description": "",
            "description_tooltip": null,
            "layout": "IPY_MODEL_8b5e69a065124802a21e5b7342aba555",
            "placeholder": "​",
            "style": "IPY_MODEL_37628bbd73e747b4b92d6032f95d0fbd",
            "value": "100%"
          }
        },
        "71c168b08bc5465da21d776c1bfee22a": {
          "model_module": "@jupyter-widgets/controls",
          "model_name": "FloatProgressModel",
          "model_module_version": "1.5.0",
          "state": {
            "_dom_classes": [],
            "_model_module": "@jupyter-widgets/controls",
            "_model_module_version": "1.5.0",
            "_model_name": "FloatProgressModel",
            "_view_count": null,
            "_view_module": "@jupyter-widgets/controls",
            "_view_module_version": "1.5.0",
            "_view_name": "ProgressView",
            "bar_style": "success",
            "description": "",
            "description_tooltip": null,
            "layout": "IPY_MODEL_d4f135cd2ab04d619943a11d91c7a420",
            "max": 1648877,
            "min": 0,
            "orientation": "horizontal",
            "style": "IPY_MODEL_19ef4119404f4fb782900653a97f11be",
            "value": 1648877
          }
        },
        "394cf30e99f745638b43848c4aa4e83a": {
          "model_module": "@jupyter-widgets/controls",
          "model_name": "HTMLModel",
          "model_module_version": "1.5.0",
          "state": {
            "_dom_classes": [],
            "_model_module": "@jupyter-widgets/controls",
            "_model_module_version": "1.5.0",
            "_model_name": "HTMLModel",
            "_view_count": null,
            "_view_module": "@jupyter-widgets/controls",
            "_view_module_version": "1.5.0",
            "_view_name": "HTMLView",
            "description": "",
            "description_tooltip": null,
            "layout": "IPY_MODEL_965f84a93ba84fad8891c218735ffa35",
            "placeholder": "​",
            "style": "IPY_MODEL_2c6d623f4e404a218c20870050504bb2",
            "value": " 1648877/1648877 [00:00&lt;00:00, 6142991.99it/s]"
          }
        },
        "8f7905c291674199a405b15c5d36ce3f": {
          "model_module": "@jupyter-widgets/base",
          "model_name": "LayoutModel",
          "model_module_version": "1.2.0",
          "state": {
            "_model_module": "@jupyter-widgets/base",
            "_model_module_version": "1.2.0",
            "_model_name": "LayoutModel",
            "_view_count": null,
            "_view_module": "@jupyter-widgets/base",
            "_view_module_version": "1.2.0",
            "_view_name": "LayoutView",
            "align_content": null,
            "align_items": null,
            "align_self": null,
            "border": null,
            "bottom": null,
            "display": null,
            "flex": null,
            "flex_flow": null,
            "grid_area": null,
            "grid_auto_columns": null,
            "grid_auto_flow": null,
            "grid_auto_rows": null,
            "grid_column": null,
            "grid_gap": null,
            "grid_row": null,
            "grid_template_areas": null,
            "grid_template_columns": null,
            "grid_template_rows": null,
            "height": null,
            "justify_content": null,
            "justify_items": null,
            "left": null,
            "margin": null,
            "max_height": null,
            "max_width": null,
            "min_height": null,
            "min_width": null,
            "object_fit": null,
            "object_position": null,
            "order": null,
            "overflow": null,
            "overflow_x": null,
            "overflow_y": null,
            "padding": null,
            "right": null,
            "top": null,
            "visibility": null,
            "width": null
          }
        },
        "8b5e69a065124802a21e5b7342aba555": {
          "model_module": "@jupyter-widgets/base",
          "model_name": "LayoutModel",
          "model_module_version": "1.2.0",
          "state": {
            "_model_module": "@jupyter-widgets/base",
            "_model_module_version": "1.2.0",
            "_model_name": "LayoutModel",
            "_view_count": null,
            "_view_module": "@jupyter-widgets/base",
            "_view_module_version": "1.2.0",
            "_view_name": "LayoutView",
            "align_content": null,
            "align_items": null,
            "align_self": null,
            "border": null,
            "bottom": null,
            "display": null,
            "flex": null,
            "flex_flow": null,
            "grid_area": null,
            "grid_auto_columns": null,
            "grid_auto_flow": null,
            "grid_auto_rows": null,
            "grid_column": null,
            "grid_gap": null,
            "grid_row": null,
            "grid_template_areas": null,
            "grid_template_columns": null,
            "grid_template_rows": null,
            "height": null,
            "justify_content": null,
            "justify_items": null,
            "left": null,
            "margin": null,
            "max_height": null,
            "max_width": null,
            "min_height": null,
            "min_width": null,
            "object_fit": null,
            "object_position": null,
            "order": null,
            "overflow": null,
            "overflow_x": null,
            "overflow_y": null,
            "padding": null,
            "right": null,
            "top": null,
            "visibility": null,
            "width": null
          }
        },
        "37628bbd73e747b4b92d6032f95d0fbd": {
          "model_module": "@jupyter-widgets/controls",
          "model_name": "DescriptionStyleModel",
          "model_module_version": "1.5.0",
          "state": {
            "_model_module": "@jupyter-widgets/controls",
            "_model_module_version": "1.5.0",
            "_model_name": "DescriptionStyleModel",
            "_view_count": null,
            "_view_module": "@jupyter-widgets/base",
            "_view_module_version": "1.2.0",
            "_view_name": "StyleView",
            "description_width": ""
          }
        },
        "d4f135cd2ab04d619943a11d91c7a420": {
          "model_module": "@jupyter-widgets/base",
          "model_name": "LayoutModel",
          "model_module_version": "1.2.0",
          "state": {
            "_model_module": "@jupyter-widgets/base",
            "_model_module_version": "1.2.0",
            "_model_name": "LayoutModel",
            "_view_count": null,
            "_view_module": "@jupyter-widgets/base",
            "_view_module_version": "1.2.0",
            "_view_name": "LayoutView",
            "align_content": null,
            "align_items": null,
            "align_self": null,
            "border": null,
            "bottom": null,
            "display": null,
            "flex": null,
            "flex_flow": null,
            "grid_area": null,
            "grid_auto_columns": null,
            "grid_auto_flow": null,
            "grid_auto_rows": null,
            "grid_column": null,
            "grid_gap": null,
            "grid_row": null,
            "grid_template_areas": null,
            "grid_template_columns": null,
            "grid_template_rows": null,
            "height": null,
            "justify_content": null,
            "justify_items": null,
            "left": null,
            "margin": null,
            "max_height": null,
            "max_width": null,
            "min_height": null,
            "min_width": null,
            "object_fit": null,
            "object_position": null,
            "order": null,
            "overflow": null,
            "overflow_x": null,
            "overflow_y": null,
            "padding": null,
            "right": null,
            "top": null,
            "visibility": null,
            "width": null
          }
        },
        "19ef4119404f4fb782900653a97f11be": {
          "model_module": "@jupyter-widgets/controls",
          "model_name": "ProgressStyleModel",
          "model_module_version": "1.5.0",
          "state": {
            "_model_module": "@jupyter-widgets/controls",
            "_model_module_version": "1.5.0",
            "_model_name": "ProgressStyleModel",
            "_view_count": null,
            "_view_module": "@jupyter-widgets/base",
            "_view_module_version": "1.2.0",
            "_view_name": "StyleView",
            "bar_color": null,
            "description_width": ""
          }
        },
        "965f84a93ba84fad8891c218735ffa35": {
          "model_module": "@jupyter-widgets/base",
          "model_name": "LayoutModel",
          "model_module_version": "1.2.0",
          "state": {
            "_model_module": "@jupyter-widgets/base",
            "_model_module_version": "1.2.0",
            "_model_name": "LayoutModel",
            "_view_count": null,
            "_view_module": "@jupyter-widgets/base",
            "_view_module_version": "1.2.0",
            "_view_name": "LayoutView",
            "align_content": null,
            "align_items": null,
            "align_self": null,
            "border": null,
            "bottom": null,
            "display": null,
            "flex": null,
            "flex_flow": null,
            "grid_area": null,
            "grid_auto_columns": null,
            "grid_auto_flow": null,
            "grid_auto_rows": null,
            "grid_column": null,
            "grid_gap": null,
            "grid_row": null,
            "grid_template_areas": null,
            "grid_template_columns": null,
            "grid_template_rows": null,
            "height": null,
            "justify_content": null,
            "justify_items": null,
            "left": null,
            "margin": null,
            "max_height": null,
            "max_width": null,
            "min_height": null,
            "min_width": null,
            "object_fit": null,
            "object_position": null,
            "order": null,
            "overflow": null,
            "overflow_x": null,
            "overflow_y": null,
            "padding": null,
            "right": null,
            "top": null,
            "visibility": null,
            "width": null
          }
        },
        "2c6d623f4e404a218c20870050504bb2": {
          "model_module": "@jupyter-widgets/controls",
          "model_name": "DescriptionStyleModel",
          "model_module_version": "1.5.0",
          "state": {
            "_model_module": "@jupyter-widgets/controls",
            "_model_module_version": "1.5.0",
            "_model_name": "DescriptionStyleModel",
            "_view_count": null,
            "_view_module": "@jupyter-widgets/base",
            "_view_module_version": "1.2.0",
            "_view_name": "StyleView",
            "description_width": ""
          }
        },
        "7f4bab8618074d84a7c406586a0919bc": {
          "model_module": "@jupyter-widgets/controls",
          "model_name": "HBoxModel",
          "model_module_version": "1.5.0",
          "state": {
            "_dom_classes": [],
            "_model_module": "@jupyter-widgets/controls",
            "_model_module_version": "1.5.0",
            "_model_name": "HBoxModel",
            "_view_count": null,
            "_view_module": "@jupyter-widgets/controls",
            "_view_module_version": "1.5.0",
            "_view_name": "HBoxView",
            "box_style": "",
            "children": [
              "IPY_MODEL_54c2eb41ecf24a73b37e22104c7ba2fb",
              "IPY_MODEL_2e8d3cdbee394341a5877b3adabe2dcb",
              "IPY_MODEL_70d125ebe10a4dda922a20900d0aaff0"
            ],
            "layout": "IPY_MODEL_853ef96d5104495f9a9b46484bbf7741"
          }
        },
        "54c2eb41ecf24a73b37e22104c7ba2fb": {
          "model_module": "@jupyter-widgets/controls",
          "model_name": "HTMLModel",
          "model_module_version": "1.5.0",
          "state": {
            "_dom_classes": [],
            "_model_module": "@jupyter-widgets/controls",
            "_model_module_version": "1.5.0",
            "_model_name": "HTMLModel",
            "_view_count": null,
            "_view_module": "@jupyter-widgets/controls",
            "_view_module_version": "1.5.0",
            "_view_name": "HTMLView",
            "description": "",
            "description_tooltip": null,
            "layout": "IPY_MODEL_7658bba8f8834403b95cf82da09cd2a6",
            "placeholder": "​",
            "style": "IPY_MODEL_fb97a1b4a415413a924d325296bff3f3",
            "value": "100%"
          }
        },
        "2e8d3cdbee394341a5877b3adabe2dcb": {
          "model_module": "@jupyter-widgets/controls",
          "model_name": "FloatProgressModel",
          "model_module_version": "1.5.0",
          "state": {
            "_dom_classes": [],
            "_model_module": "@jupyter-widgets/controls",
            "_model_module_version": "1.5.0",
            "_model_name": "FloatProgressModel",
            "_view_count": null,
            "_view_module": "@jupyter-widgets/controls",
            "_view_module_version": "1.5.0",
            "_view_name": "ProgressView",
            "bar_style": "success",
            "description": "",
            "description_tooltip": null,
            "layout": "IPY_MODEL_eefdf1f61c1146d8845029ba35ed8057",
            "max": 4542,
            "min": 0,
            "orientation": "horizontal",
            "style": "IPY_MODEL_79af81c411a54533a90ba83063125425",
            "value": 4542
          }
        },
        "70d125ebe10a4dda922a20900d0aaff0": {
          "model_module": "@jupyter-widgets/controls",
          "model_name": "HTMLModel",
          "model_module_version": "1.5.0",
          "state": {
            "_dom_classes": [],
            "_model_module": "@jupyter-widgets/controls",
            "_model_module_version": "1.5.0",
            "_model_name": "HTMLModel",
            "_view_count": null,
            "_view_module": "@jupyter-widgets/controls",
            "_view_module_version": "1.5.0",
            "_view_name": "HTMLView",
            "description": "",
            "description_tooltip": null,
            "layout": "IPY_MODEL_1d79258ccd4641dc9edb620bcb4654f4",
            "placeholder": "​",
            "style": "IPY_MODEL_56ceded010c4421582665351729c78f4",
            "value": " 4542/4542 [00:00&lt;00:00, 32439.19it/s]"
          }
        },
        "853ef96d5104495f9a9b46484bbf7741": {
          "model_module": "@jupyter-widgets/base",
          "model_name": "LayoutModel",
          "model_module_version": "1.2.0",
          "state": {
            "_model_module": "@jupyter-widgets/base",
            "_model_module_version": "1.2.0",
            "_model_name": "LayoutModel",
            "_view_count": null,
            "_view_module": "@jupyter-widgets/base",
            "_view_module_version": "1.2.0",
            "_view_name": "LayoutView",
            "align_content": null,
            "align_items": null,
            "align_self": null,
            "border": null,
            "bottom": null,
            "display": null,
            "flex": null,
            "flex_flow": null,
            "grid_area": null,
            "grid_auto_columns": null,
            "grid_auto_flow": null,
            "grid_auto_rows": null,
            "grid_column": null,
            "grid_gap": null,
            "grid_row": null,
            "grid_template_areas": null,
            "grid_template_columns": null,
            "grid_template_rows": null,
            "height": null,
            "justify_content": null,
            "justify_items": null,
            "left": null,
            "margin": null,
            "max_height": null,
            "max_width": null,
            "min_height": null,
            "min_width": null,
            "object_fit": null,
            "object_position": null,
            "order": null,
            "overflow": null,
            "overflow_x": null,
            "overflow_y": null,
            "padding": null,
            "right": null,
            "top": null,
            "visibility": null,
            "width": null
          }
        },
        "7658bba8f8834403b95cf82da09cd2a6": {
          "model_module": "@jupyter-widgets/base",
          "model_name": "LayoutModel",
          "model_module_version": "1.2.0",
          "state": {
            "_model_module": "@jupyter-widgets/base",
            "_model_module_version": "1.2.0",
            "_model_name": "LayoutModel",
            "_view_count": null,
            "_view_module": "@jupyter-widgets/base",
            "_view_module_version": "1.2.0",
            "_view_name": "LayoutView",
            "align_content": null,
            "align_items": null,
            "align_self": null,
            "border": null,
            "bottom": null,
            "display": null,
            "flex": null,
            "flex_flow": null,
            "grid_area": null,
            "grid_auto_columns": null,
            "grid_auto_flow": null,
            "grid_auto_rows": null,
            "grid_column": null,
            "grid_gap": null,
            "grid_row": null,
            "grid_template_areas": null,
            "grid_template_columns": null,
            "grid_template_rows": null,
            "height": null,
            "justify_content": null,
            "justify_items": null,
            "left": null,
            "margin": null,
            "max_height": null,
            "max_width": null,
            "min_height": null,
            "min_width": null,
            "object_fit": null,
            "object_position": null,
            "order": null,
            "overflow": null,
            "overflow_x": null,
            "overflow_y": null,
            "padding": null,
            "right": null,
            "top": null,
            "visibility": null,
            "width": null
          }
        },
        "fb97a1b4a415413a924d325296bff3f3": {
          "model_module": "@jupyter-widgets/controls",
          "model_name": "DescriptionStyleModel",
          "model_module_version": "1.5.0",
          "state": {
            "_model_module": "@jupyter-widgets/controls",
            "_model_module_version": "1.5.0",
            "_model_name": "DescriptionStyleModel",
            "_view_count": null,
            "_view_module": "@jupyter-widgets/base",
            "_view_module_version": "1.2.0",
            "_view_name": "StyleView",
            "description_width": ""
          }
        },
        "eefdf1f61c1146d8845029ba35ed8057": {
          "model_module": "@jupyter-widgets/base",
          "model_name": "LayoutModel",
          "model_module_version": "1.2.0",
          "state": {
            "_model_module": "@jupyter-widgets/base",
            "_model_module_version": "1.2.0",
            "_model_name": "LayoutModel",
            "_view_count": null,
            "_view_module": "@jupyter-widgets/base",
            "_view_module_version": "1.2.0",
            "_view_name": "LayoutView",
            "align_content": null,
            "align_items": null,
            "align_self": null,
            "border": null,
            "bottom": null,
            "display": null,
            "flex": null,
            "flex_flow": null,
            "grid_area": null,
            "grid_auto_columns": null,
            "grid_auto_flow": null,
            "grid_auto_rows": null,
            "grid_column": null,
            "grid_gap": null,
            "grid_row": null,
            "grid_template_areas": null,
            "grid_template_columns": null,
            "grid_template_rows": null,
            "height": null,
            "justify_content": null,
            "justify_items": null,
            "left": null,
            "margin": null,
            "max_height": null,
            "max_width": null,
            "min_height": null,
            "min_width": null,
            "object_fit": null,
            "object_position": null,
            "order": null,
            "overflow": null,
            "overflow_x": null,
            "overflow_y": null,
            "padding": null,
            "right": null,
            "top": null,
            "visibility": null,
            "width": null
          }
        },
        "79af81c411a54533a90ba83063125425": {
          "model_module": "@jupyter-widgets/controls",
          "model_name": "ProgressStyleModel",
          "model_module_version": "1.5.0",
          "state": {
            "_model_module": "@jupyter-widgets/controls",
            "_model_module_version": "1.5.0",
            "_model_name": "ProgressStyleModel",
            "_view_count": null,
            "_view_module": "@jupyter-widgets/base",
            "_view_module_version": "1.2.0",
            "_view_name": "StyleView",
            "bar_color": null,
            "description_width": ""
          }
        },
        "1d79258ccd4641dc9edb620bcb4654f4": {
          "model_module": "@jupyter-widgets/base",
          "model_name": "LayoutModel",
          "model_module_version": "1.2.0",
          "state": {
            "_model_module": "@jupyter-widgets/base",
            "_model_module_version": "1.2.0",
            "_model_name": "LayoutModel",
            "_view_count": null,
            "_view_module": "@jupyter-widgets/base",
            "_view_module_version": "1.2.0",
            "_view_name": "LayoutView",
            "align_content": null,
            "align_items": null,
            "align_self": null,
            "border": null,
            "bottom": null,
            "display": null,
            "flex": null,
            "flex_flow": null,
            "grid_area": null,
            "grid_auto_columns": null,
            "grid_auto_flow": null,
            "grid_auto_rows": null,
            "grid_column": null,
            "grid_gap": null,
            "grid_row": null,
            "grid_template_areas": null,
            "grid_template_columns": null,
            "grid_template_rows": null,
            "height": null,
            "justify_content": null,
            "justify_items": null,
            "left": null,
            "margin": null,
            "max_height": null,
            "max_width": null,
            "min_height": null,
            "min_width": null,
            "object_fit": null,
            "object_position": null,
            "order": null,
            "overflow": null,
            "overflow_x": null,
            "overflow_y": null,
            "padding": null,
            "right": null,
            "top": null,
            "visibility": null,
            "width": null
          }
        },
        "56ceded010c4421582665351729c78f4": {
          "model_module": "@jupyter-widgets/controls",
          "model_name": "DescriptionStyleModel",
          "model_module_version": "1.5.0",
          "state": {
            "_model_module": "@jupyter-widgets/controls",
            "_model_module_version": "1.5.0",
            "_model_name": "DescriptionStyleModel",
            "_view_count": null,
            "_view_module": "@jupyter-widgets/base",
            "_view_module_version": "1.2.0",
            "_view_name": "StyleView",
            "description_width": ""
          }
        }
      }
    }
  },
  "cells": [
    {
      "cell_type": "markdown",
      "source": [
        "### Task\n",
        "* Build, train, and evaluate 2 special types of networks neural network with Pytorch.\n",
        "* A CNN for a spatial prediction problem\n",
        "* A RNN or LSTM for a sequential problem\n",
        "* Experiment with at least 2 different variations of hyperparameters for each network.\n",
        "* Optional: Use gradio to build a simple interactive demo (in the notebook)."
      ],
      "metadata": {
        "id": "MRZswbewXU4X"
      }
    },
    {
      "cell_type": "markdown",
      "source": [
        "### CNN"
      ],
      "metadata": {
        "id": "Szb1Q36QXyqz"
      }
    },
    {
      "cell_type": "code",
      "source": [
        "import torch\n",
        "import torch.nn as nn\n",
        "import torch.nn.functional as F\n",
        "import torchvision\n",
        "import torchvision.transforms as transforms\n",
        "import matplotlib.pyplot as plt\n",
        "import numpy as np\n",
        "\n",
        "\n",
        "# Device configuration\n",
        "device = torch.device('cuda' if torch.cuda.is_available() else 'cpu')"
      ],
      "metadata": {
        "id": "cSvcaJ0bwsEE"
      },
      "execution_count": 1,
      "outputs": []
    },
    {
      "cell_type": "code",
      "execution_count": 2,
      "metadata": {
        "id": "_hJ384ZcXQiw",
        "colab": {
          "base_uri": "https://localhost:8080/",
          "height": 423,
          "referenced_widgets": [
            "01165a6e06d445548b09d2755a902cf6",
            "9535c14e0fc7492a8f5e9321da7a9539",
            "0e14b608852f44939ed36d2a47203c48",
            "f548e1fb8a1d4949a4fdfb4577e2e667",
            "7149425e4b3549939fdbb5847042e6d9",
            "2cd6ecc52ef444999291f805e60a0e2c",
            "97a2bb8870084dc8867f6ea85c4aa423",
            "0ceffd2f9fff4ad592057da40c42ab3a",
            "9b12fbf02a1b44fdbc30ad23600d9ca5",
            "42fde77bdbe4436c85bbae869afa837a",
            "160cc50b5d084f65839084d48ac3e94a",
            "e8c284a418254a9eb9bc4573c66bca37",
            "88353d374ed847eb9826b0b7aaf443be",
            "ebcbccb4a1df44a9aa3a7e1b4da81545",
            "32e7cfea513b46099870b6a586146b89",
            "ee54c4a22bf54873a1bfd74d117a62d4",
            "46ffb8684f0a4ad5bb5bfc424b76820b",
            "f476c4999c4748fab98490347e997aeb",
            "676193dd9b114fb69dbbe88c91420301",
            "3d08b5e042cb4bb4bcb31bc8dfe871ef",
            "4844cb4d0db849a69db1c2e6407edf72",
            "72e7b6b9ef56423c9f4538e0ab039c00",
            "93fb1e2810c347beb4eb7586d4854c0d",
            "929b563106534c01909a850b4df70510",
            "71c168b08bc5465da21d776c1bfee22a",
            "394cf30e99f745638b43848c4aa4e83a",
            "8f7905c291674199a405b15c5d36ce3f",
            "8b5e69a065124802a21e5b7342aba555",
            "37628bbd73e747b4b92d6032f95d0fbd",
            "d4f135cd2ab04d619943a11d91c7a420",
            "19ef4119404f4fb782900653a97f11be",
            "965f84a93ba84fad8891c218735ffa35",
            "2c6d623f4e404a218c20870050504bb2",
            "7f4bab8618074d84a7c406586a0919bc",
            "54c2eb41ecf24a73b37e22104c7ba2fb",
            "2e8d3cdbee394341a5877b3adabe2dcb",
            "70d125ebe10a4dda922a20900d0aaff0",
            "853ef96d5104495f9a9b46484bbf7741",
            "7658bba8f8834403b95cf82da09cd2a6",
            "fb97a1b4a415413a924d325296bff3f3",
            "eefdf1f61c1146d8845029ba35ed8057",
            "79af81c411a54533a90ba83063125425",
            "1d79258ccd4641dc9edb620bcb4654f4",
            "56ceded010c4421582665351729c78f4"
          ]
        },
        "outputId": "2a5a48de-a689-4c06-8724-258202afdf7f"
      },
      "outputs": [
        {
          "output_type": "stream",
          "name": "stdout",
          "text": [
            "Downloading http://yann.lecun.com/exdb/mnist/train-images-idx3-ubyte.gz\n",
            "Downloading http://yann.lecun.com/exdb/mnist/train-images-idx3-ubyte.gz to data/MNIST/raw/train-images-idx3-ubyte.gz\n"
          ]
        },
        {
          "output_type": "display_data",
          "data": {
            "text/plain": [
              "  0%|          | 0/9912422 [00:00<?, ?it/s]"
            ],
            "application/vnd.jupyter.widget-view+json": {
              "version_major": 2,
              "version_minor": 0,
              "model_id": "01165a6e06d445548b09d2755a902cf6"
            }
          },
          "metadata": {}
        },
        {
          "output_type": "stream",
          "name": "stdout",
          "text": [
            "Extracting data/MNIST/raw/train-images-idx3-ubyte.gz to data/MNIST/raw\n",
            "\n",
            "Downloading http://yann.lecun.com/exdb/mnist/train-labels-idx1-ubyte.gz\n",
            "Downloading http://yann.lecun.com/exdb/mnist/train-labels-idx1-ubyte.gz to data/MNIST/raw/train-labels-idx1-ubyte.gz\n"
          ]
        },
        {
          "output_type": "display_data",
          "data": {
            "text/plain": [
              "  0%|          | 0/28881 [00:00<?, ?it/s]"
            ],
            "application/vnd.jupyter.widget-view+json": {
              "version_major": 2,
              "version_minor": 0,
              "model_id": "e8c284a418254a9eb9bc4573c66bca37"
            }
          },
          "metadata": {}
        },
        {
          "output_type": "stream",
          "name": "stdout",
          "text": [
            "Extracting data/MNIST/raw/train-labels-idx1-ubyte.gz to data/MNIST/raw\n",
            "\n",
            "Downloading http://yann.lecun.com/exdb/mnist/t10k-images-idx3-ubyte.gz\n",
            "Downloading http://yann.lecun.com/exdb/mnist/t10k-images-idx3-ubyte.gz to data/MNIST/raw/t10k-images-idx3-ubyte.gz\n"
          ]
        },
        {
          "output_type": "display_data",
          "data": {
            "text/plain": [
              "  0%|          | 0/1648877 [00:00<?, ?it/s]"
            ],
            "application/vnd.jupyter.widget-view+json": {
              "version_major": 2,
              "version_minor": 0,
              "model_id": "93fb1e2810c347beb4eb7586d4854c0d"
            }
          },
          "metadata": {}
        },
        {
          "output_type": "stream",
          "name": "stdout",
          "text": [
            "Extracting data/MNIST/raw/t10k-images-idx3-ubyte.gz to data/MNIST/raw\n",
            "\n",
            "Downloading http://yann.lecun.com/exdb/mnist/t10k-labels-idx1-ubyte.gz\n",
            "Downloading http://yann.lecun.com/exdb/mnist/t10k-labels-idx1-ubyte.gz to data/MNIST/raw/t10k-labels-idx1-ubyte.gz\n"
          ]
        },
        {
          "output_type": "display_data",
          "data": {
            "text/plain": [
              "  0%|          | 0/4542 [00:00<?, ?it/s]"
            ],
            "application/vnd.jupyter.widget-view+json": {
              "version_major": 2,
              "version_minor": 0,
              "model_id": "7f4bab8618074d84a7c406586a0919bc"
            }
          },
          "metadata": {}
        },
        {
          "output_type": "stream",
          "name": "stdout",
          "text": [
            "Extracting data/MNIST/raw/t10k-labels-idx1-ubyte.gz to data/MNIST/raw\n",
            "\n"
          ]
        }
      ],
      "source": [
        "# Mnist dataset has 70,000 data with 60,000 train data and 10,000 test data.\n",
        "\n",
        "from torchvision import datasets\n",
        "from torchvision.transforms import ToTensor\n",
        "train_data = datasets.MNIST(root = 'data', train = True, transform = ToTensor(), download = True)\n",
        "test_data = datasets.MNIST(root = 'data', train = False, transform = ToTensor())"
      ]
    },
    {
      "cell_type": "code",
      "source": [
        "# Hyper-parameters of the model(?)\n",
        "num_epochs = 4\n",
        "batch_size = 4\n",
        "learning_rate = 0.003"
      ],
      "metadata": {
        "id": "suo_LPgXJ4wn"
      },
      "execution_count": 3,
      "outputs": []
    },
    {
      "cell_type": "code",
      "source": [
        "print(train_data)"
      ],
      "metadata": {
        "colab": {
          "base_uri": "https://localhost:8080/"
        },
        "id": "BaMxukUgmFj6",
        "outputId": "3a87e42c-cefc-4d80-b8f5-0766ee9a2985"
      },
      "execution_count": 4,
      "outputs": [
        {
          "output_type": "stream",
          "name": "stdout",
          "text": [
            "Dataset MNIST\n",
            "    Number of datapoints: 60000\n",
            "    Root location: data\n",
            "    Split: Train\n",
            "    StandardTransform\n",
            "Transform: ToTensor()\n"
          ]
        }
      ]
    },
    {
      "cell_type": "code",
      "source": [
        "print(train_data.data.size())\n",
        "print(test_data.data.size())"
      ],
      "metadata": {
        "colab": {
          "base_uri": "https://localhost:8080/"
        },
        "id": "dyIK8ue6cRoW",
        "outputId": "395e05d9-d727-4ae5-d959-e4818da3e24f"
      },
      "execution_count": 5,
      "outputs": [
        {
          "output_type": "stream",
          "name": "stdout",
          "text": [
            "torch.Size([60000, 28, 28])\n",
            "torch.Size([10000, 28, 28])\n"
          ]
        }
      ]
    },
    {
      "cell_type": "code",
      "source": [
        "from torch.utils.data import DataLoader\n",
        "train_loader = torch.utils.data.DataLoader(train_data, batch_size=64, shuffle=True, num_workers=1)\n",
        "test_loader = torch.utils.data.DataLoader(test_data, batch_size=1000, shuffle=True, num_workers=1)"
      ],
      "metadata": {
        "id": "_QkCyAwqnml1"
      },
      "execution_count": 6,
      "outputs": []
    },
    {
      "cell_type": "code",
      "source": [
        "classes = ('zero', 'one', 'two', 'three', 'four', 'five', 'six', 'seven', 'eight', 'nine')"
      ],
      "metadata": {
        "id": "sdd6PZzUREEd"
      },
      "execution_count": 7,
      "outputs": []
    },
    {
      "cell_type": "code",
      "source": [
        "# implement conv net\n",
        "class ConvNet(nn.Module):\n",
        "    def __init__(self):\n",
        "        super(ConvNet, self).__init__()\n",
        "        self.conv1 = nn.Conv2d(1, 6, 5) #3 channels, 6 filters, 5x5 filter size\n",
        "        self.pool = nn.MaxPool2d(2,2) #size 2X2, stride: 2\n",
        "        self.conv2 = nn.Conv2d(6, 16, 5)\n",
        "        self.fc1 = nn.Linear(16*4*4, 120) #16*5*5= number of output channels * dimension of the output layer after feature learning; 120 manually set as outcome of the \n",
        "        self.fc2 = nn.Linear(120, 84)\n",
        "        self.fc3 = nn.Linear(84, 10) #the output dimension (in our case 10) needs to be equal to the number of classes\n",
        "    \n",
        "    def forward(self, x):\n",
        "        x = self.pool(F.relu(self.conv1(x)))\n",
        "        x = self.pool(F.relu(self.conv2(x)))\n",
        "        x = x.view(-1, 16*4*4) #torch.view() function freshape the input tensor\n",
        "        x = F.relu(self.fc1(x))\n",
        "        x = F.relu(self.fc2(x))\n",
        "        x = self.fc3(x)\n",
        "        return x\n",
        "    \n",
        "model = ConvNet().to(device)"
      ],
      "metadata": {
        "id": "nvchxf9Hy0nV"
      },
      "execution_count": 22,
      "outputs": []
    },
    {
      "cell_type": "code",
      "source": [
        "criterion = nn.CrossEntropyLoss() #CrossEntropyLoss already includes SoftMax\n",
        "optimizer = torch.optim.SGD(model.parameters(), lr=learning_rate)"
      ],
      "metadata": {
        "id": "54LnNMchtJDD"
      },
      "execution_count": 20,
      "outputs": []
    },
    {
      "cell_type": "code",
      "source": [
        "n_total_steps = len(train_loader)\n",
        "for epoch in range(num_epochs):\n",
        "    for i, (images, labels) in enumerate(train_loader):\n",
        "        # origin shape: [4, 3, 32, 32] = 4, 3, 1024\n",
        "        # input_layer: 3 input channels, 6 output channels, 5 kernel size\n",
        "        images = images.to(device)\n",
        "        labels = labels.to(device)\n",
        "\n",
        "        # Forward pass\n",
        "        outputs = model(images)\n",
        "        loss = criterion(outputs, labels)\n",
        "        \n",
        "        # Backward and optimize\n",
        "        optimizer.zero_grad() #with zero_grad() we ensure that the gradients are properly reset to zero at the start of each iteration\n",
        "        loss.backward()\n",
        "        optimizer.step()\n",
        "        #wandb.log({\"loss\": loss})  uncomment this line if you want to send data to weights and biases interface\n",
        "\n",
        "\n",
        "        if (i+1) % 2000 == 0:\n",
        "            print (f'Epoch [{epoch+1}/{num_epochs}], Step [{i+1}/{n_total_steps}], Loss: {loss.item():.4f}')\n",
        "            # Calculate average accuracy for every 2000 steps\n",
        "            model.eval()\n",
        "            with torch.no_grad():\n",
        "                correct = 0\n",
        "                total = 0\n",
        "                for images, labels in test_loader:\n",
        "                    images = images.to(device)\n",
        "                    labels = labels.to(device)\n",
        "                    outputs = model(images)\n",
        "                    _, predicted = torch.max(outputs.data, 1)\n",
        "                    total += labels.size(0)\n",
        "                    correct += (predicted == labels).sum().item()\n",
        "                accuracy = correct / total\n",
        "                #wandb.log({\"accuracy\": accuracy}) uncomment this line if you want to send data to weights and biases interface\n",
        "        \n",
        "print('Finished Training')\n",
        "PATH = './cnn.pth'\n",
        "torch.save(model.state_dict(), PATH)"
      ],
      "metadata": {
        "colab": {
          "base_uri": "https://localhost:8080/"
        },
        "id": "gKDfI3ektIxq",
        "outputId": "73e67f5d-d545-45f7-ba4d-791d25448d1d"
      },
      "execution_count": 23,
      "outputs": [
        {
          "output_type": "stream",
          "name": "stdout",
          "text": [
            "Finished Training\n"
          ]
        }
      ]
    },
    {
      "cell_type": "code",
      "source": [
        "with torch.no_grad():\n",
        "    n_correct = 0\n",
        "    n_samples = 0\n",
        "    n_class_correct = [0 for i in range(10)]\n",
        "    n_class_samples = [0 for i in range(10)]\n",
        "    for images, labels in test_loader:\n",
        "        images = images.to(device)\n",
        "        labels = labels.to(device)\n",
        "        outputs = model(images)\n",
        "        # max returns (value ,index)\n",
        "        _, predicted = torch.max(outputs, 1)\n",
        "        n_samples += labels.size(0)\n",
        "        n_correct += (predicted == labels).sum().item()\n",
        "        \n",
        "        for i in range(batch_size):\n",
        "            label = labels[i]\n",
        "            pred = predicted[i]\n",
        "            if (label == pred):\n",
        "                n_class_correct[label] += 1\n",
        "            n_class_samples[label] += 1\n",
        "\n",
        "    acc = 100.0 * n_correct / n_samples\n",
        "    print(f'Accuracy of the network: {acc} %')\n",
        "\n",
        "    for i in range(10):\n",
        "        acc = 100.0 * n_class_correct[i] / n_class_samples[i]\n",
        "        print(f'Accuracy of {classes[i]}: {acc} %')"
      ],
      "metadata": {
        "colab": {
          "base_uri": "https://localhost:8080/"
        },
        "id": "_CnOKHjh0Dko",
        "outputId": "25f23a41-1573-44ce-82a8-96144fefcdfe"
      },
      "execution_count": 24,
      "outputs": [
        {
          "output_type": "stream",
          "name": "stdout",
          "text": [
            "Accuracy of the network: 9.8 %\n",
            "Accuracy of zero: 100.0 %\n",
            "Accuracy of one: 0.0 %\n",
            "Accuracy of two: 0.0 %\n",
            "Accuracy of three: 0.0 %\n",
            "Accuracy of four: 0.0 %\n",
            "Accuracy of five: 0.0 %\n",
            "Accuracy of six: 0.0 %\n",
            "Accuracy of seven: 0.0 %\n",
            "Accuracy of eight: 0.0 %\n",
            "Accuracy of nine: 0.0 %\n"
          ]
        }
      ]
    },
    {
      "cell_type": "markdown",
      "source": [
        "### Find out **Hyperparameter** !!!"
      ],
      "metadata": {
        "id": "J2p2bEIuxhCr"
      }
    },
    {
      "cell_type": "markdown",
      "source": [
        "We tried various parameters :\n",
        "1. The number of filters (6, 16, 32)\n",
        "2. Epoch, learning rate change (4/50, 0.003/0.001)\n",
        "3. Optimizer (RMSprop, Adam)"
      ],
      "metadata": {
        "id": "49Ch6gXNx5o3"
      }
    },
    {
      "cell_type": "markdown",
      "source": [
        "Our result!!!\n",
        "\n",
        "![image.png](data:image/png;base64,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)"
      ],
      "metadata": {
        "id": "sBzrrKmGHxYW"
      }
    },
    {
      "cell_type": "markdown",
      "source": [
        "### Test_01 with different the number of filters(6, 16, 32)"
      ],
      "metadata": {
        "id": "9KeIl8u8_RZY"
      }
    },
    {
      "cell_type": "code",
      "source": [
        "# change the number of filters with 16\n",
        "# implement conv net\n",
        "class ConvNet(nn.Module):\n",
        "    def __init__(self):\n",
        "        super(ConvNet, self).__init__()\n",
        "        self.conv1 = nn.Conv2d(1, 16, 5) #3 channels, 6 filters, 5x5 filter size\n",
        "        self.pool = nn.MaxPool2d(2,2) #size 2X2, stride: 2\n",
        "        self.conv2 = nn.Conv2d(16, 32, 5)\n",
        "        self.fc1 = nn.Linear(32*4*4, 120) #16*5*5= number of output channels * dimension of the output layer after feature learning; 120 manually set as outcome of the \n",
        "        self.fc2 = nn.Linear(120, 84)\n",
        "        self.fc3 = nn.Linear(84, 10) #the output dimension (in our case 10) needs to be equal to the number of classes\n",
        "    \n",
        "    def forward(self, x):\n",
        "        x = self.pool(F.relu(self.conv1(x)))\n",
        "        x = self.pool(F.relu(self.conv2(x)))\n",
        "        x = x.view(-1, 32*4*4) #torch.view() function freshape the input tensor\n",
        "        x = F.relu(self.fc1(x))\n",
        "        x = F.relu(self.fc2(x))\n",
        "        x = self.fc3(x)\n",
        "        return x\n",
        "    \n",
        "model = ConvNet().to(device)"
      ],
      "metadata": {
        "id": "bl8xER9uZTIV"
      },
      "execution_count": 27,
      "outputs": []
    },
    {
      "cell_type": "code",
      "source": [
        "n_total_steps = len(train_loader)\n",
        "for epoch in range(num_epochs):\n",
        "    for i, (images, labels) in enumerate(train_loader):\n",
        "        # origin shape: [4, 3, 32, 32] = 4, 3, 1024\n",
        "        # input_layer: 3 input channels, 6 output channels, 5 kernel size\n",
        "        images = images.to(device)\n",
        "        labels = labels.to(device)\n",
        "\n",
        "        # Forward pass\n",
        "        outputs = model(images)\n",
        "        loss = criterion(outputs, labels)\n",
        "        \n",
        "        # Backward and optimize\n",
        "        optimizer.zero_grad() #with zero_grad() we ensure that the gradients are properly reset to zero at the start of each iteration\n",
        "        loss.backward()\n",
        "        optimizer.step()\n",
        "        #wandb.log({\"loss\": loss})  uncomment this line if you want to send data to weights and biases interface\n",
        "\n",
        "\n",
        "        if (i+1) % 2000 == 0:\n",
        "            print (f'Epoch [{epoch+1}/{num_epochs}], Step [{i+1}/{n_total_steps}], Loss: {loss.item():.4f}')\n",
        "            # Calculate average accuracy for every 2000 steps\n",
        "            model.eval()\n",
        "            with torch.no_grad():\n",
        "                correct = 0\n",
        "                total = 0\n",
        "                for images, labels in test_loader:\n",
        "                    images = images.to(device)\n",
        "                    labels = labels.to(device)\n",
        "                    outputs = model(images)\n",
        "                    _, predicted = torch.max(outputs.data, 1)\n",
        "                    total += labels.size(0)\n",
        "                    correct += (predicted == labels).sum().item()\n",
        "                accuracy = correct / total\n",
        "                #wandb.log({\"accuracy\": accuracy}) uncomment this line if you want to send data to weights and biases interface\n",
        "        \n",
        "print('Finished Training')\n",
        "PATH = './cnn.pth'\n",
        "torch.save(model.state_dict(), PATH)"
      ],
      "metadata": {
        "id": "0z4InDr2ZTC-",
        "colab": {
          "base_uri": "https://localhost:8080/"
        },
        "outputId": "410d7499-e3f1-4ff0-ccbb-5a68026106ad"
      },
      "execution_count": 28,
      "outputs": [
        {
          "output_type": "stream",
          "name": "stdout",
          "text": [
            "Finished Training\n"
          ]
        }
      ]
    },
    {
      "cell_type": "code",
      "source": [
        "with torch.no_grad():\n",
        "    n_correct = 0\n",
        "    n_samples = 0\n",
        "    n_class_correct = [0 for i in range(10)]\n",
        "    n_class_samples = [0 for i in range(10)]\n",
        "    for images, labels in test_loader:\n",
        "        images = images.to(device)\n",
        "        labels = labels.to(device)\n",
        "        outputs = model(images)\n",
        "        # max returns (value ,index)\n",
        "        _, predicted = torch.max(outputs, 1)\n",
        "        n_samples += labels.size(0)\n",
        "        n_correct += (predicted == labels).sum().item()\n",
        "        \n",
        "        for i in range(batch_size):\n",
        "            label = labels[i]\n",
        "            pred = predicted[i]\n",
        "            if (label == pred):\n",
        "                n_class_correct[label] += 1\n",
        "            n_class_samples[label] += 1\n",
        "\n",
        "    acc = 100.0 * n_correct / n_samples\n",
        "    print(f'Accuracy of the network: {acc} %')\n",
        "\n",
        "    for i in range(10):\n",
        "        acc = 100.0 * n_class_correct[i] / n_class_samples[i]\n",
        "        print(f'Accuracy of {classes[i]}: {acc} %')"
      ],
      "metadata": {
        "colab": {
          "base_uri": "https://localhost:8080/"
        },
        "id": "2hz6wNQ71Xkm",
        "outputId": "1b9fb1d2-5cbc-4aa8-8dab-0ea0d23671eb"
      },
      "execution_count": 29,
      "outputs": [
        {
          "output_type": "stream",
          "name": "stdout",
          "text": [
            "Accuracy of the network: 10.1 %\n",
            "Accuracy of zero: 0.0 %\n",
            "Accuracy of one: 0.0 %\n",
            "Accuracy of two: 0.0 %\n",
            "Accuracy of three: 100.0 %\n",
            "Accuracy of four: 0.0 %\n",
            "Accuracy of five: 0.0 %\n",
            "Accuracy of six: 0.0 %\n",
            "Accuracy of seven: 0.0 %\n",
            "Accuracy of eight: 0.0 %\n",
            "Accuracy of nine: 0.0 %\n"
          ]
        }
      ]
    },
    {
      "cell_type": "code",
      "source": [
        "# change the number of filters with 32\n",
        "# implement conv net\n",
        "class ConvNet(nn.Module):\n",
        "    def __init__(self):\n",
        "        super(ConvNet, self).__init__()\n",
        "        self.conv1 = nn.Conv2d(1, 32, 5) #3 channels, 6 filters, 5x5 filter size\n",
        "        self.pool = nn.MaxPool2d(2,2) #size 2X2, stride: 2\n",
        "        self.conv2 = nn.Conv2d(32, 64, 5)\n",
        "        self.fc1 = nn.Linear(64*4*4, 120) #16*5*5= number of output channels * dimension of the output layer after feature learning; 120 manually set as outcome of the \n",
        "        self.fc2 = nn.Linear(120, 84)\n",
        "        self.fc3 = nn.Linear(84, 10) #the output dimension (in our case 10) needs to be equal to the number of classes\n",
        "    \n",
        "    def forward(self, x):\n",
        "        x = self.pool(F.relu(self.conv1(x)))\n",
        "        x = self.pool(F.relu(self.conv2(x)))\n",
        "        x = x.view(-1, 64*4*4) #torch.view() function freshape the input tensor\n",
        "        x = F.relu(self.fc1(x))\n",
        "        x = F.relu(self.fc2(x))\n",
        "        x = self.fc3(x)\n",
        "        return x\n",
        "    \n",
        "model = ConvNet().to(device)"
      ],
      "metadata": {
        "id": "6Gpp1Nf81ZTG"
      },
      "execution_count": 30,
      "outputs": []
    },
    {
      "cell_type": "code",
      "source": [
        "n_total_steps = len(train_loader)\n",
        "for epoch in range(num_epochs):\n",
        "    for i, (images, labels) in enumerate(train_loader):\n",
        "        # origin shape: [4, 3, 32, 32] = 4, 3, 1024\n",
        "        # input_layer: 3 input channels, 6 output channels, 5 kernel size\n",
        "        images = images.to(device)\n",
        "        labels = labels.to(device)\n",
        "\n",
        "        # Forward pass\n",
        "        outputs = model(images)\n",
        "        loss = criterion(outputs, labels)\n",
        "        \n",
        "        # Backward and optimize\n",
        "        optimizer.zero_grad() #with zero_grad() we ensure that the gradients are properly reset to zero at the start of each iteration\n",
        "        loss.backward()\n",
        "        optimizer.step()\n",
        "        #wandb.log({\"loss\": loss})  uncomment this line if you want to send data to weights and biases interface\n",
        "\n",
        "\n",
        "        if (i+1) % 2000 == 0:\n",
        "            print (f'Epoch [{epoch+1}/{num_epochs}], Step [{i+1}/{n_total_steps}], Loss: {loss.item():.4f}')\n",
        "            # Calculate average accuracy for every 2000 steps\n",
        "            model.eval()\n",
        "            with torch.no_grad():\n",
        "                correct = 0\n",
        "                total = 0\n",
        "                for images, labels in test_loader:\n",
        "                    images = images.to(device)\n",
        "                    labels = labels.to(device)\n",
        "                    outputs = model(images)\n",
        "                    _, predicted = torch.max(outputs.data, 1)\n",
        "                    total += labels.size(0)\n",
        "                    correct += (predicted == labels).sum().item()\n",
        "                accuracy = correct / total\n",
        "                #wandb.log({\"accuracy\": accuracy}) uncomment this line if you want to send data to weights and biases interface\n",
        "        \n",
        "print('Finished Training')\n",
        "PATH = './cnn.pth'\n",
        "torch.save(model.state_dict(), PATH)"
      ],
      "metadata": {
        "colab": {
          "base_uri": "https://localhost:8080/"
        },
        "id": "YiR3lyqY1ZPi",
        "outputId": "d95e2ce0-a248-44a9-8e29-d3c70b5c944a"
      },
      "execution_count": 31,
      "outputs": [
        {
          "output_type": "stream",
          "name": "stdout",
          "text": [
            "Finished Training\n"
          ]
        }
      ]
    },
    {
      "cell_type": "code",
      "source": [
        "with torch.no_grad():\n",
        "    n_correct = 0\n",
        "    n_samples = 0\n",
        "    n_class_correct = [0 for i in range(10)]\n",
        "    n_class_samples = [0 for i in range(10)]\n",
        "    for images, labels in test_loader:\n",
        "        images = images.to(device)\n",
        "        labels = labels.to(device)\n",
        "        outputs = model(images)\n",
        "        # max returns (value ,index)\n",
        "        _, predicted = torch.max(outputs, 1)\n",
        "        n_samples += labels.size(0)\n",
        "        n_correct += (predicted == labels).sum().item()\n",
        "        \n",
        "        for i in range(batch_size):\n",
        "            label = labels[i]\n",
        "            pred = predicted[i]\n",
        "            if (label == pred):\n",
        "                n_class_correct[label] += 1\n",
        "            n_class_samples[label] += 1\n",
        "\n",
        "    acc = 100.0 * n_correct / n_samples\n",
        "    print(f'Accuracy of the network: {acc} %')\n",
        "\n",
        "    for i in range(10):\n",
        "        acc = 100.0 * n_class_correct[i] / n_class_samples[i]\n",
        "        print(f'Accuracy of {classes[i]}: {acc} %')"
      ],
      "metadata": {
        "colab": {
          "base_uri": "https://localhost:8080/"
        },
        "id": "ktit5vrA1bG0",
        "outputId": "a3d86110-2a09-4487-8624-04058491c571"
      },
      "execution_count": 32,
      "outputs": [
        {
          "output_type": "stream",
          "name": "stdout",
          "text": [
            "Accuracy of the network: 10.09 %\n",
            "Accuracy of zero: 0.0 %\n",
            "Accuracy of one: 0.0 %\n",
            "Accuracy of two: 0.0 %\n",
            "Accuracy of three: 0.0 %\n",
            "Accuracy of four: 0.0 %\n",
            "Accuracy of five: 0.0 %\n",
            "Accuracy of six: 0.0 %\n",
            "Accuracy of seven: 0.0 %\n",
            "Accuracy of eight: 0.0 %\n",
            "Accuracy of nine: 100.0 %\n"
          ]
        }
      ]
    },
    {
      "cell_type": "markdown",
      "source": [
        "### Test_02 with \n",
        "\n",
        "1. **num_epochs** = 50\n",
        "2. **learning_rate** = 0.001"
      ],
      "metadata": {
        "id": "3f-PgT493_Ix"
      }
    },
    {
      "cell_type": "code",
      "source": [
        "# try to the Hyper-parameters of the model\n",
        "num_epochs = 10\n",
        "learning_rate = 0.001"
      ],
      "metadata": {
        "id": "sKbCCzM34eJF"
      },
      "execution_count": 37,
      "outputs": []
    },
    {
      "cell_type": "code",
      "source": [
        "# change the number of filters with 32\n",
        "# implement conv net\n",
        "class ConvNet(nn.Module):\n",
        "    def __init__(self):\n",
        "        super(ConvNet, self).__init__()\n",
        "        self.conv1 = nn.Conv2d(1, 32, 5) #3 channels, 6 filters, 5x5 filter size\n",
        "        self.pool = nn.MaxPool2d(2,2) #size 2X2, stride: 2\n",
        "        self.conv2 = nn.Conv2d(32, 64, 5)\n",
        "        self.fc1 = nn.Linear(64*4*4, 120) #16*5*5= number of output channels * dimension of the output layer after feature learning; 120 manually set as outcome of the \n",
        "        self.fc2 = nn.Linear(120, 84)\n",
        "        self.fc3 = nn.Linear(84, 10) #the output dimension (in our case 10) needs to be equal to the number of classes\n",
        "    \n",
        "    def forward(self, x):\n",
        "        x = self.pool(F.relu(self.conv1(x)))\n",
        "        x = self.pool(F.relu(self.conv2(x)))\n",
        "        x = x.view(-1, 64*4*4) #torch.view() function freshape the input tensor\n",
        "        x = F.relu(self.fc1(x))\n",
        "        x = F.relu(self.fc2(x))\n",
        "        x = self.fc3(x)\n",
        "        return x\n",
        "    \n",
        "model = ConvNet().to(device)"
      ],
      "metadata": {
        "id": "stDQropC1bDH"
      },
      "execution_count": 38,
      "outputs": []
    },
    {
      "cell_type": "code",
      "source": [
        "criterion = nn.CrossEntropyLoss() #CrossEntropyLoss already includes SoftMax\n",
        "optimizer = torch.optim.SGD(model.parameters(), lr=learning_rate)"
      ],
      "metadata": {
        "id": "lafWRoCZ3zhE"
      },
      "execution_count": 39,
      "outputs": []
    },
    {
      "cell_type": "code",
      "source": [
        "n_total_steps = len(train_loader)\n",
        "for epoch in range(num_epochs):\n",
        "    for i, (images, labels) in enumerate(train_loader):\n",
        "        # origin shape: [4, 3, 32, 32] = 4, 3, 1024\n",
        "        # input_layer: 3 input channels, 6 output channels, 5 kernel size\n",
        "        images = images.to(device)\n",
        "        labels = labels.to(device)\n",
        "\n",
        "        # Forward pass\n",
        "        outputs = model(images)\n",
        "        loss = criterion(outputs, labels)\n",
        "        \n",
        "        # Backward and optimize\n",
        "        optimizer.zero_grad() #with zero_grad() we ensure that the gradients are properly reset to zero at the start of each iteration\n",
        "        loss.backward()\n",
        "        optimizer.step()\n",
        "        #wandb.log({\"loss\": loss})  uncomment this line if you want to send data to weights and biases interface\n",
        "\n",
        "\n",
        "        if (i+1) % 2000 == 0:\n",
        "            print (f'Epoch [{epoch+1}/{num_epochs}], Step [{i+1}/{n_total_steps}], Loss: {loss.item():.4f}')\n",
        "            # Calculate average accuracy for every 2000 steps\n",
        "            model.eval()\n",
        "            with torch.no_grad():\n",
        "                correct = 0\n",
        "                total = 0\n",
        "                for images, labels in test_loader:\n",
        "                    images = images.to(device)\n",
        "                    labels = labels.to(device)\n",
        "                    outputs = model(images)\n",
        "                    _, predicted = torch.max(outputs.data, 1)\n",
        "                    total += labels.size(0)\n",
        "                    correct += (predicted == labels).sum().item()\n",
        "                accuracy = correct / total\n",
        "                #wandb.log({\"accuracy\": accuracy}) uncomment this line if you want to send data to weights and biases interface\n",
        "        \n",
        "print('Finished Training')\n",
        "PATH = './cnn.pth'\n",
        "torch.save(model.state_dict(), PATH)"
      ],
      "metadata": {
        "colab": {
          "base_uri": "https://localhost:8080/"
        },
        "id": "bWRARshj1bAE",
        "outputId": "13c41ead-8c1e-4e28-90e1-695cead2af68"
      },
      "execution_count": 40,
      "outputs": [
        {
          "output_type": "stream",
          "name": "stdout",
          "text": [
            "Finished Training\n"
          ]
        }
      ]
    },
    {
      "cell_type": "code",
      "source": [
        "with torch.no_grad():\n",
        "    n_correct = 0\n",
        "    n_samples = 0\n",
        "    n_class_correct = [0 for i in range(10)]\n",
        "    n_class_samples = [0 for i in range(10)]\n",
        "    for images, labels in test_loader:\n",
        "        images = images.to(device)\n",
        "        labels = labels.to(device)\n",
        "        outputs = model(images)\n",
        "        # max returns (value ,index)\n",
        "        _, predicted = torch.max(outputs, 1)\n",
        "        n_samples += labels.size(0)\n",
        "        n_correct += (predicted == labels).sum().item()\n",
        "        \n",
        "        for i in range(batch_size):\n",
        "            label = labels[i]\n",
        "            pred = predicted[i]\n",
        "            if (label == pred):\n",
        "                n_class_correct[label] += 1\n",
        "            n_class_samples[label] += 1\n",
        "\n",
        "    acc = 100.0 * n_correct / n_samples\n",
        "    print(f'Accuracy of the network: {acc} %')\n",
        "\n",
        "    for i in range(10):\n",
        "        acc = 100.0 * n_class_correct[i] / n_class_samples[i]\n",
        "        print(f'Accuracy of {classes[i]}: {acc} %')"
      ],
      "metadata": {
        "colab": {
          "base_uri": "https://localhost:8080/"
        },
        "id": "PRt9Dzk81a9U",
        "outputId": "1040bbac-b86e-4fdd-9a5e-975cb9b6a987"
      },
      "execution_count": 41,
      "outputs": [
        {
          "output_type": "stream",
          "name": "stdout",
          "text": [
            "Accuracy of the network: 87.62 %\n",
            "Accuracy of zero: 97.5103734439834 %\n",
            "Accuracy of one: 97.33333333333333 %\n",
            "Accuracy of two: 88.671875 %\n",
            "Accuracy of three: 86.328125 %\n",
            "Accuracy of four: 87.5 %\n",
            "Accuracy of five: 80.0 %\n",
            "Accuracy of six: 90.51724137931035 %\n",
            "Accuracy of seven: 84.72222222222223 %\n",
            "Accuracy of eight: 84.29752066115702 %\n",
            "Accuracy of nine: 82.1969696969697 %\n"
          ]
        }
      ]
    },
    {
      "cell_type": "markdown",
      "source": [
        "### **Test_03 with Cnn function with Adam** <FONT COLOR=\"red\">( BEST MODEL)"
      ],
      "metadata": {
        "id": "4JQ08eFk4m_1"
      }
    },
    {
      "cell_type": "code",
      "source": [
        "# try to the Hyper-parameters of the model\n",
        "num_epochs = 10\n",
        "learning_rate = 0.001"
      ],
      "metadata": {
        "id": "2LFJpITdDey0"
      },
      "execution_count": 42,
      "outputs": []
    },
    {
      "cell_type": "code",
      "source": [
        "# change the number of filters with 32, optim with Adam\n",
        "# implement conv net\n",
        "class ConvNet(nn.Module):\n",
        "    def __init__(self):\n",
        "        super(ConvNet, self).__init__()\n",
        "        self.conv1 = nn.Conv2d(1, 32, 5) #3 channels, 6 filters, 5x5 filter size\n",
        "        self.pool = nn.MaxPool2d(2,2) #size 2X2, stride: 2\n",
        "        self.conv2 = nn.Conv2d(32, 64, 5)\n",
        "        self.fc1 = nn.Linear(64*4*4, 120) #16*5*5= number of output channels * dimension of the output layer after feature learning; 120 manually set as outcome of the \n",
        "        self.fc2 = nn.Linear(120, 84)\n",
        "        self.fc3 = nn.Linear(84, 10) #the output dimension (in our case 10) needs to be equal to the number of classes\n",
        "    \n",
        "    def forward(self, x):\n",
        "        x = self.pool(F.relu(self.conv1(x)))\n",
        "        x = self.pool(F.relu(self.conv2(x)))\n",
        "        x = x.view(-1, 64*4*4) #torch.view() function freshape the input tensor\n",
        "        x = F.relu(self.fc1(x))\n",
        "        x = F.relu(self.fc2(x))\n",
        "        x = self.fc3(x)\n",
        "        return x\n",
        "    \n",
        "model = ConvNet().to(device)"
      ],
      "metadata": {
        "id": "E2cALq2j1a6H"
      },
      "execution_count": 43,
      "outputs": []
    },
    {
      "cell_type": "code",
      "source": [
        "criterion = nn.CrossEntropyLoss() #CrossEntropyLoss already includes SoftMax\n",
        "optimizer = torch.optim.Adam(model.parameters(), lr=learning_rate)"
      ],
      "metadata": {
        "id": "pham8rA51ZGU"
      },
      "execution_count": 44,
      "outputs": []
    },
    {
      "cell_type": "code",
      "source": [
        "n_total_steps = len(train_loader)\n",
        "for epoch in range(num_epochs):\n",
        "    for i, (images, labels) in enumerate(train_loader):\n",
        "        # origin shape: [4, 3, 32, 32] = 4, 3, 1024\n",
        "        # input_layer: 3 input channels, 6 output channels, 5 kernel size\n",
        "        images = images.to(device)\n",
        "        labels = labels.to(device)\n",
        "\n",
        "        # Forward pass\n",
        "        outputs = model(images)\n",
        "        loss = criterion(outputs, labels)\n",
        "        \n",
        "        # Backward and optimize\n",
        "        optimizer.zero_grad() #with zero_grad() we ensure that the gradients are properly reset to zero at the start of each iteration\n",
        "        loss.backward()\n",
        "        optimizer.step()\n",
        "        #wandb.log({\"loss\": loss})  uncomment this line if you want to send data to weights and biases interface\n",
        "\n",
        "\n",
        "        if (i+1) % 2000 == 0:\n",
        "            print (f'Epoch [{epoch+1}/{num_epochs}], Step [{i+1}/{n_total_steps}], Loss: {loss.item():.4f}')\n",
        "            # Calculate average accuracy for every 2000 steps\n",
        "            model.eval()\n",
        "            with torch.no_grad():\n",
        "                correct = 0\n",
        "                total = 0\n",
        "                for images, labels in test_loader:\n",
        "                    images = images.to(device)\n",
        "                    labels = labels.to(device)\n",
        "                    outputs = model(images)\n",
        "                    _, predicted = torch.max(outputs.data, 1)\n",
        "                    total += labels.size(0)\n",
        "                    correct += (predicted == labels).sum().item()\n",
        "                accuracy = correct / total\n",
        "                #wandb.log({\"accuracy\": accuracy}) uncomment this line if you want to send data to weights and biases interface\n",
        "        \n",
        "print('Finished Training')\n",
        "PATH = './cnn.pth'\n",
        "torch.save(model.state_dict(), PATH)"
      ],
      "metadata": {
        "colab": {
          "base_uri": "https://localhost:8080/"
        },
        "id": "oFYo_J-j5_Rf",
        "outputId": "3905b16c-56d5-428b-f5ce-b4ace2188929"
      },
      "execution_count": 45,
      "outputs": [
        {
          "output_type": "stream",
          "name": "stdout",
          "text": [
            "Finished Training\n"
          ]
        }
      ]
    },
    {
      "cell_type": "code",
      "source": [
        "with torch.no_grad():\n",
        "    n_correct = 0\n",
        "    n_samples = 0\n",
        "    n_class_correct = [0 for i in range(10)]\n",
        "    n_class_samples = [0 for i in range(10)]\n",
        "    for images, labels in test_loader:\n",
        "        images = images.to(device)\n",
        "        labels = labels.to(device)\n",
        "        outputs = model(images)\n",
        "        # max returns (value ,index)\n",
        "        _, predicted = torch.max(outputs, 1)\n",
        "        n_samples += labels.size(0)\n",
        "        n_correct += (predicted == labels).sum().item()\n",
        "        \n",
        "        for i in range(batch_size):\n",
        "            label = labels[i]\n",
        "            pred = predicted[i]\n",
        "            if (label == pred):\n",
        "                n_class_correct[label] += 1\n",
        "            n_class_samples[label] += 1\n",
        "\n",
        "    acc = 100.0 * n_correct / n_samples\n",
        "    print(f'Accuracy of the network: {acc} %')\n",
        "\n",
        "    for i in range(10):\n",
        "        acc = 100.0 * n_class_correct[i] / n_class_samples[i]\n",
        "        print(f'Accuracy of {classes[i]}: {acc} %')"
      ],
      "metadata": {
        "colab": {
          "base_uri": "https://localhost:8080/"
        },
        "id": "fid2ogwB6Bu2",
        "outputId": "bd9a3fe6-a734-4480-f439-994fe72021d4"
      },
      "execution_count": 46,
      "outputs": [
        {
          "output_type": "stream",
          "name": "stdout",
          "text": [
            "Accuracy of the network: 99.17 %\n",
            "Accuracy of zero: 99.24242424242425 %\n",
            "Accuracy of one: 99.6742671009772 %\n",
            "Accuracy of two: 100.0 %\n",
            "Accuracy of three: 99.60159362549801 %\n",
            "Accuracy of four: 97.95918367346938 %\n",
            "Accuracy of five: 98.66071428571429 %\n",
            "Accuracy of six: 100.0 %\n",
            "Accuracy of seven: 98.49056603773585 %\n",
            "Accuracy of eight: 98.72881355932203 %\n",
            "Accuracy of nine: 98.81422924901186 %\n"
          ]
        }
      ]
    },
    {
      "cell_type": "markdown",
      "source": [
        "### Save the Model"
      ],
      "metadata": {
        "id": "SRaI5A9bIDou"
      }
    },
    {
      "cell_type": "code",
      "source": [
        "# Save the trained RNN model\n",
        "torch.save(ConvNet, 'model_cnn.pkl')\n",
        "\n",
        "# model load\n",
        "model = torch.load('model_cnn.pkl')"
      ],
      "metadata": {
        "id": "FZcdXy_QIDCs"
      },
      "execution_count": 52,
      "outputs": []
    }
  ]
}