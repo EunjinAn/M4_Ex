{
  "cells": [
    {
      "cell_type": "markdown",
      "metadata": {
        "id": "k4hhKfh1VLXp"
      },
      "source": [
        "### Task\n",
        "* Build, train, and evaluate 2 special types of networks neural network with Pytorch.\n",
        "* A CNN for a spatial prediction problem\n",
        "* A RNN or LSTM for a sequential problem\n",
        "* Experiment with at least 2 different variations of hyperparameters for each network.\n",
        "* Optional: Use gradio to build a simple interactive demo (in the notebook)"
      ]
    },
    {
      "cell_type": "markdown",
      "metadata": {
        "id": "uaI7R64kVSHv"
      },
      "source": [
        "## LSTM"
      ]
    },
    {
      "cell_type": "markdown",
      "metadata": {
        "id": "BGOeW5jpVmqW"
      },
      "source": [
        "# Importing required libraries\n"
      ]
    },
    {
      "cell_type": "code",
      "execution_count": 107,
      "metadata": {
        "id": "eRXyvwcj8eYT"
      },
      "outputs": [],
      "source": [
        "# pip install\n",
        "!pip install tweet-preprocessor -q"
      ]
    },
    {
      "cell_type": "code",
      "execution_count": 108,
      "metadata": {
        "id": "3MuMeAMB62x6"
      },
      "outputs": [],
      "source": [
        "# import required libraries\n",
        "import torch\n",
        "import pandas as pd\n",
        "import torch.nn as nn\n",
        "import torch.optim as optim\n",
        "import numpy as np\n",
        "from torch.utils.data import DataLoader, TensorDataset, Dataset\n",
        "from sklearn import preprocessing\n",
        "import matplotlib.pyplot as plt\n",
        "import preprocessor as prepro # twitter prepro\n",
        "import re\n",
        "\n",
        "\n",
        "from sklearn.model_selection import train_test_split\n"
      ]
    },
    {
      "cell_type": "markdown",
      "metadata": {},
      "source": []
    },
    {
      "cell_type": "code",
      "execution_count": null,
      "metadata": {
        "id": "zJjk1V-P6xJ6"
      },
      "outputs": [],
      "source": [
        "# Data downloading\n",
        "data = pd.read_json('https://github.com/SDS-AAU/SDS-master/raw/master/M2/data/pol_tweets.gz')"
      ]
    },
    {
      "cell_type": "code",
      "execution_count": 110,
      "metadata": {
        "id": "9w96crmBswwy"
      },
      "outputs": [],
      "source": [
        "# taking 1000 datas only as it takes too long to run \n",
        "data = data[:1000]"
      ]
    },
    {
      "cell_type": "code",
      "execution_count": 111,
      "metadata": {
        "colab": {
          "base_uri": "https://localhost:8080/"
        },
        "id": "8lpnW9in7FSl",
        "outputId": "1614c65d-1558-480a-d19e-6a1fccb2ff2e"
      },
      "outputs": [
        {
          "name": "stdout",
          "output_type": "stream",
          "text": [
            "<class 'pandas.core.frame.DataFrame'>\n",
            "Int64Index: 1000 entries, 340675 to 11720\n",
            "Data columns (total 2 columns):\n",
            " #   Column  Non-Null Count  Dtype \n",
            "---  ------  --------------  ----- \n",
            " 0   text    1000 non-null   object\n",
            " 1   labels  1000 non-null   int64 \n",
            "dtypes: int64(1), object(1)\n",
            "memory usage: 23.4+ KB\n"
          ]
        }
      ],
      "source": [
        "data.info()"
      ]
    },
    {
      "cell_type": "code",
      "execution_count": 112,
      "metadata": {
        "colab": {
          "base_uri": "https://localhost:8080/",
          "height": 206
        },
        "id": "hi1JEqLd7V-b",
        "outputId": "fecd922d-7341-469e-c1f4-94afff7324d6"
      },
      "outputs": [
        {
          "data": {
            "text/html": [
              "\n",
              "  <div id=\"df-8859e401-2fa9-454e-be59-0559ad879214\">\n",
              "    <div class=\"colab-df-container\">\n",
              "      <div>\n",
              "<style scoped>\n",
              "    .dataframe tbody tr th:only-of-type {\n",
              "        vertical-align: middle;\n",
              "    }\n",
              "\n",
              "    .dataframe tbody tr th {\n",
              "        vertical-align: top;\n",
              "    }\n",
              "\n",
              "    .dataframe thead th {\n",
              "        text-align: right;\n",
              "    }\n",
              "</style>\n",
              "<table border=\"1\" class=\"dataframe\">\n",
              "  <thead>\n",
              "    <tr style=\"text-align: right;\">\n",
              "      <th></th>\n",
              "      <th>text</th>\n",
              "      <th>labels</th>\n",
              "    </tr>\n",
              "  </thead>\n",
              "  <tbody>\n",
              "    <tr>\n",
              "      <th>340675</th>\n",
              "      <td>RT @GreenBeretFound Today we remember Sgt. 1st...</td>\n",
              "      <td>0</td>\n",
              "    </tr>\n",
              "    <tr>\n",
              "      <th>289492</th>\n",
              "      <td>Yes, yes, yes, yes and yes. 😷 #JerseyStrong 💪🏾...</td>\n",
              "      <td>1</td>\n",
              "    </tr>\n",
              "    <tr>\n",
              "      <th>371088</th>\n",
              "      <td>Made new friends this afternoon delivering mas...</td>\n",
              "      <td>1</td>\n",
              "    </tr>\n",
              "    <tr>\n",
              "      <th>82212</th>\n",
              "      <td>RT @TXMilitary Happening TODAY: Pilots with th...</td>\n",
              "      <td>0</td>\n",
              "    </tr>\n",
              "    <tr>\n",
              "      <th>476047</th>\n",
              "      <td>RT @SteveScalise President Trump's legal team ...</td>\n",
              "      <td>0</td>\n",
              "    </tr>\n",
              "  </tbody>\n",
              "</table>\n",
              "</div>\n",
              "      <button class=\"colab-df-convert\" onclick=\"convertToInteractive('df-8859e401-2fa9-454e-be59-0559ad879214')\"\n",
              "              title=\"Convert this dataframe to an interactive table.\"\n",
              "              style=\"display:none;\">\n",
              "        \n",
              "  <svg xmlns=\"http://www.w3.org/2000/svg\" height=\"24px\"viewBox=\"0 0 24 24\"\n",
              "       width=\"24px\">\n",
              "    <path d=\"M0 0h24v24H0V0z\" fill=\"none\"/>\n",
              "    <path d=\"M18.56 5.44l.94 2.06.94-2.06 2.06-.94-2.06-.94-.94-2.06-.94 2.06-2.06.94zm-11 1L8.5 8.5l.94-2.06 2.06-.94-2.06-.94L8.5 2.5l-.94 2.06-2.06.94zm10 10l.94 2.06.94-2.06 2.06-.94-2.06-.94-.94-2.06-.94 2.06-2.06.94z\"/><path d=\"M17.41 7.96l-1.37-1.37c-.4-.4-.92-.59-1.43-.59-.52 0-1.04.2-1.43.59L10.3 9.45l-7.72 7.72c-.78.78-.78 2.05 0 2.83L4 21.41c.39.39.9.59 1.41.59.51 0 1.02-.2 1.41-.59l7.78-7.78 2.81-2.81c.8-.78.8-2.07 0-2.86zM5.41 20L4 18.59l7.72-7.72 1.47 1.35L5.41 20z\"/>\n",
              "  </svg>\n",
              "      </button>\n",
              "      \n",
              "  <style>\n",
              "    .colab-df-container {\n",
              "      display:flex;\n",
              "      flex-wrap:wrap;\n",
              "      gap: 12px;\n",
              "    }\n",
              "\n",
              "    .colab-df-convert {\n",
              "      background-color: #E8F0FE;\n",
              "      border: none;\n",
              "      border-radius: 50%;\n",
              "      cursor: pointer;\n",
              "      display: none;\n",
              "      fill: #1967D2;\n",
              "      height: 32px;\n",
              "      padding: 0 0 0 0;\n",
              "      width: 32px;\n",
              "    }\n",
              "\n",
              "    .colab-df-convert:hover {\n",
              "      background-color: #E2EBFA;\n",
              "      box-shadow: 0px 1px 2px rgba(60, 64, 67, 0.3), 0px 1px 3px 1px rgba(60, 64, 67, 0.15);\n",
              "      fill: #174EA6;\n",
              "    }\n",
              "\n",
              "    [theme=dark] .colab-df-convert {\n",
              "      background-color: #3B4455;\n",
              "      fill: #D2E3FC;\n",
              "    }\n",
              "\n",
              "    [theme=dark] .colab-df-convert:hover {\n",
              "      background-color: #434B5C;\n",
              "      box-shadow: 0px 1px 3px 1px rgba(0, 0, 0, 0.15);\n",
              "      filter: drop-shadow(0px 1px 2px rgba(0, 0, 0, 0.3));\n",
              "      fill: #FFFFFF;\n",
              "    }\n",
              "  </style>\n",
              "\n",
              "      <script>\n",
              "        const buttonEl =\n",
              "          document.querySelector('#df-8859e401-2fa9-454e-be59-0559ad879214 button.colab-df-convert');\n",
              "        buttonEl.style.display =\n",
              "          google.colab.kernel.accessAllowed ? 'block' : 'none';\n",
              "\n",
              "        async function convertToInteractive(key) {\n",
              "          const element = document.querySelector('#df-8859e401-2fa9-454e-be59-0559ad879214');\n",
              "          const dataTable =\n",
              "            await google.colab.kernel.invokeFunction('convertToInteractive',\n",
              "                                                     [key], {});\n",
              "          if (!dataTable) return;\n",
              "\n",
              "          const docLinkHtml = 'Like what you see? Visit the ' +\n",
              "            '<a target=\"_blank\" href=https://colab.research.google.com/notebooks/data_table.ipynb>data table notebook</a>'\n",
              "            + ' to learn more about interactive tables.';\n",
              "          element.innerHTML = '';\n",
              "          dataTable['output_type'] = 'display_data';\n",
              "          await google.colab.output.renderOutput(dataTable, element);\n",
              "          const docLink = document.createElement('div');\n",
              "          docLink.innerHTML = docLinkHtml;\n",
              "          element.appendChild(docLink);\n",
              "        }\n",
              "      </script>\n",
              "    </div>\n",
              "  </div>\n",
              "  "
            ],
            "text/plain": [
              "                                                     text  labels\n",
              "340675  RT @GreenBeretFound Today we remember Sgt. 1st...       0\n",
              "289492  Yes, yes, yes, yes and yes. 😷 #JerseyStrong 💪🏾...       1\n",
              "371088  Made new friends this afternoon delivering mas...       1\n",
              "82212   RT @TXMilitary Happening TODAY: Pilots with th...       0\n",
              "476047  RT @SteveScalise President Trump's legal team ...       0"
            ]
          },
          "execution_count": 112,
          "metadata": {},
          "output_type": "execute_result"
        }
      ],
      "source": [
        "data.head()"
      ]
    },
    {
      "cell_type": "markdown",
      "metadata": {
        "id": "IJr1bnwkV4_g"
      },
      "source": [
        "# Preprocessing text"
      ]
    },
    {
      "cell_type": "code",
      "execution_count": 113,
      "metadata": {
        "id": "1cKXosvQ-J_f"
      },
      "outputs": [],
      "source": [
        "#prepro settings\n",
        "prepro.set_options(prepro.OPT.URL, prepro.OPT.NUMBER, prepro.OPT.RESERVED, prepro.OPT.MENTION, prepro.OPT.SMILEY, prepro.OPT.HASHTAG, prepro.OPT.EMOJI)"
      ]
    },
    {
      "cell_type": "code",
      "execution_count": 114,
      "metadata": {
        "id": "RtJz2LSkNwJc"
      },
      "outputs": [],
      "source": [
        "def pre_process(text):\n",
        "  clean_text = text.lower()\n",
        "  clean_text = re.sub('[^a-zA-Z]+ ',' ', clean_text)\n",
        "  return clean_text\n",
        "  "
      ]
    },
    {
      "cell_type": "code",
      "execution_count": 115,
      "metadata": {
        "id": "NZdf82Eo8May"
      },
      "outputs": [],
      "source": [
        "data['text'] = data['text'].map(lambda t: prepro.clean(t))\n",
        "data['text'] = data['text'].apply(pre_process) #all in lowercase"
      ]
    },
    {
      "cell_type": "code",
      "execution_count": 116,
      "metadata": {
        "colab": {
          "base_uri": "https://localhost:8080/",
          "height": 206
        },
        "id": "_4aDT4Zp8kNM",
        "outputId": "1d75db33-6e67-4b52-f0d1-5d253fec1f88"
      },
      "outputs": [
        {
          "data": {
            "text/html": [
              "\n",
              "  <div id=\"df-bdd90e6d-d0a6-4ca9-9e2d-3a0b79312ad3\">\n",
              "    <div class=\"colab-df-container\">\n",
              "      <div>\n",
              "<style scoped>\n",
              "    .dataframe tbody tr th:only-of-type {\n",
              "        vertical-align: middle;\n",
              "    }\n",
              "\n",
              "    .dataframe tbody tr th {\n",
              "        vertical-align: top;\n",
              "    }\n",
              "\n",
              "    .dataframe thead th {\n",
              "        text-align: right;\n",
              "    }\n",
              "</style>\n",
              "<table border=\"1\" class=\"dataframe\">\n",
              "  <thead>\n",
              "    <tr style=\"text-align: right;\">\n",
              "      <th></th>\n",
              "      <th>text</th>\n",
              "      <th>labels</th>\n",
              "    </tr>\n",
              "  </thead>\n",
              "  <tbody>\n",
              "    <tr>\n",
              "      <th>340675</th>\n",
              "      <td>today we remember sgt st class ryan j savard k...</td>\n",
              "      <td>0</td>\n",
              "    </tr>\n",
              "    <tr>\n",
              "      <th>289492</th>\n",
              "      <td>yes yes yes yes and yes qt prioritize science ...</td>\n",
              "      <td>1</td>\n",
              "    </tr>\n",
              "    <tr>\n",
              "      <th>371088</th>\n",
              "      <td>made new friends this afternoon delivering mas...</td>\n",
              "      <td>1</td>\n",
              "    </tr>\n",
              "    <tr>\n",
              "      <th>82212</th>\n",
              "      <td>happening today pilots with the texas air guar...</td>\n",
              "      <td>0</td>\n",
              "    </tr>\n",
              "    <tr>\n",
              "      <th>476047</th>\n",
              "      <td>president trump's legal team completely destro...</td>\n",
              "      <td>0</td>\n",
              "    </tr>\n",
              "  </tbody>\n",
              "</table>\n",
              "</div>\n",
              "      <button class=\"colab-df-convert\" onclick=\"convertToInteractive('df-bdd90e6d-d0a6-4ca9-9e2d-3a0b79312ad3')\"\n",
              "              title=\"Convert this dataframe to an interactive table.\"\n",
              "              style=\"display:none;\">\n",
              "        \n",
              "  <svg xmlns=\"http://www.w3.org/2000/svg\" height=\"24px\"viewBox=\"0 0 24 24\"\n",
              "       width=\"24px\">\n",
              "    <path d=\"M0 0h24v24H0V0z\" fill=\"none\"/>\n",
              "    <path d=\"M18.56 5.44l.94 2.06.94-2.06 2.06-.94-2.06-.94-.94-2.06-.94 2.06-2.06.94zm-11 1L8.5 8.5l.94-2.06 2.06-.94-2.06-.94L8.5 2.5l-.94 2.06-2.06.94zm10 10l.94 2.06.94-2.06 2.06-.94-2.06-.94-.94-2.06-.94 2.06-2.06.94z\"/><path d=\"M17.41 7.96l-1.37-1.37c-.4-.4-.92-.59-1.43-.59-.52 0-1.04.2-1.43.59L10.3 9.45l-7.72 7.72c-.78.78-.78 2.05 0 2.83L4 21.41c.39.39.9.59 1.41.59.51 0 1.02-.2 1.41-.59l7.78-7.78 2.81-2.81c.8-.78.8-2.07 0-2.86zM5.41 20L4 18.59l7.72-7.72 1.47 1.35L5.41 20z\"/>\n",
              "  </svg>\n",
              "      </button>\n",
              "      \n",
              "  <style>\n",
              "    .colab-df-container {\n",
              "      display:flex;\n",
              "      flex-wrap:wrap;\n",
              "      gap: 12px;\n",
              "    }\n",
              "\n",
              "    .colab-df-convert {\n",
              "      background-color: #E8F0FE;\n",
              "      border: none;\n",
              "      border-radius: 50%;\n",
              "      cursor: pointer;\n",
              "      display: none;\n",
              "      fill: #1967D2;\n",
              "      height: 32px;\n",
              "      padding: 0 0 0 0;\n",
              "      width: 32px;\n",
              "    }\n",
              "\n",
              "    .colab-df-convert:hover {\n",
              "      background-color: #E2EBFA;\n",
              "      box-shadow: 0px 1px 2px rgba(60, 64, 67, 0.3), 0px 1px 3px 1px rgba(60, 64, 67, 0.15);\n",
              "      fill: #174EA6;\n",
              "    }\n",
              "\n",
              "    [theme=dark] .colab-df-convert {\n",
              "      background-color: #3B4455;\n",
              "      fill: #D2E3FC;\n",
              "    }\n",
              "\n",
              "    [theme=dark] .colab-df-convert:hover {\n",
              "      background-color: #434B5C;\n",
              "      box-shadow: 0px 1px 3px 1px rgba(0, 0, 0, 0.15);\n",
              "      filter: drop-shadow(0px 1px 2px rgba(0, 0, 0, 0.3));\n",
              "      fill: #FFFFFF;\n",
              "    }\n",
              "  </style>\n",
              "\n",
              "      <script>\n",
              "        const buttonEl =\n",
              "          document.querySelector('#df-bdd90e6d-d0a6-4ca9-9e2d-3a0b79312ad3 button.colab-df-convert');\n",
              "        buttonEl.style.display =\n",
              "          google.colab.kernel.accessAllowed ? 'block' : 'none';\n",
              "\n",
              "        async function convertToInteractive(key) {\n",
              "          const element = document.querySelector('#df-bdd90e6d-d0a6-4ca9-9e2d-3a0b79312ad3');\n",
              "          const dataTable =\n",
              "            await google.colab.kernel.invokeFunction('convertToInteractive',\n",
              "                                                     [key], {});\n",
              "          if (!dataTable) return;\n",
              "\n",
              "          const docLinkHtml = 'Like what you see? Visit the ' +\n",
              "            '<a target=\"_blank\" href=https://colab.research.google.com/notebooks/data_table.ipynb>data table notebook</a>'\n",
              "            + ' to learn more about interactive tables.';\n",
              "          element.innerHTML = '';\n",
              "          dataTable['output_type'] = 'display_data';\n",
              "          await google.colab.output.renderOutput(dataTable, element);\n",
              "          const docLink = document.createElement('div');\n",
              "          docLink.innerHTML = docLinkHtml;\n",
              "          element.appendChild(docLink);\n",
              "        }\n",
              "      </script>\n",
              "    </div>\n",
              "  </div>\n",
              "  "
            ],
            "text/plain": [
              "                                                     text  labels\n",
              "340675  today we remember sgt st class ryan j savard k...       0\n",
              "289492  yes yes yes yes and yes qt prioritize science ...       1\n",
              "371088  made new friends this afternoon delivering mas...       1\n",
              "82212   happening today pilots with the texas air guar...       0\n",
              "476047  president trump's legal team completely destro...       0"
            ]
          },
          "execution_count": 116,
          "metadata": {},
          "output_type": "execute_result"
        }
      ],
      "source": [
        "data.head()"
      ]
    },
    {
      "cell_type": "code",
      "execution_count": 117,
      "metadata": {
        "colab": {
          "base_uri": "https://localhost:8080/"
        },
        "id": "GpV_OSpp_ldJ",
        "outputId": "2028ad24-8abe-45e3-9dc5-6e0fd2930e7c"
      },
      "outputs": [
        {
          "data": {
            "text/plain": [
              "(1000, 2)"
            ]
          },
          "execution_count": 117,
          "metadata": {},
          "output_type": "execute_result"
        }
      ],
      "source": [
        "data.shape"
      ]
    },
    {
      "cell_type": "code",
      "execution_count": 118,
      "metadata": {
        "colab": {
          "base_uri": "https://localhost:8080/"
        },
        "id": "ZJOse5AP_lZv",
        "outputId": "4cfdb318-ea85-46f0-91ec-7a1ad70fdab8"
      },
      "outputs": [
        {
          "data": {
            "text/plain": [
              "1    612\n",
              "0    388\n",
              "Name: labels, dtype: int64"
            ]
          },
          "execution_count": 118,
          "metadata": {},
          "output_type": "execute_result"
        }
      ],
      "source": [
        "data['labels'].value_counts()"
      ]
    },
    {
      "cell_type": "code",
      "execution_count": 119,
      "metadata": {
        "id": "nL4d5MtIDL7V"
      },
      "outputs": [],
      "source": [
        "data.reset_index(drop = True, inplace = True)"
      ]
    },
    {
      "cell_type": "code",
      "execution_count": 120,
      "metadata": {
        "id": "-lfWy9l9NBRl"
      },
      "outputs": [],
      "source": [
        "data['text'] = data['text'].apply(str.split) #converting to tokens"
      ]
    },
    {
      "cell_type": "code",
      "execution_count": 121,
      "metadata": {
        "colab": {
          "base_uri": "https://localhost:8080/",
          "height": 206
        },
        "id": "jjNlpXgIDV-_",
        "outputId": "77cb4f0c-4546-42be-a7c1-f3d9d544dc98"
      },
      "outputs": [
        {
          "data": {
            "text/html": [
              "\n",
              "  <div id=\"df-3a7837e0-952b-48a6-b563-9d31e453d15b\">\n",
              "    <div class=\"colab-df-container\">\n",
              "      <div>\n",
              "<style scoped>\n",
              "    .dataframe tbody tr th:only-of-type {\n",
              "        vertical-align: middle;\n",
              "    }\n",
              "\n",
              "    .dataframe tbody tr th {\n",
              "        vertical-align: top;\n",
              "    }\n",
              "\n",
              "    .dataframe thead th {\n",
              "        text-align: right;\n",
              "    }\n",
              "</style>\n",
              "<table border=\"1\" class=\"dataframe\">\n",
              "  <thead>\n",
              "    <tr style=\"text-align: right;\">\n",
              "      <th></th>\n",
              "      <th>text</th>\n",
              "      <th>labels</th>\n",
              "    </tr>\n",
              "  </thead>\n",
              "  <tbody>\n",
              "    <tr>\n",
              "      <th>0</th>\n",
              "      <td>[today, we, remember, sgt, st, class, ryan, j,...</td>\n",
              "      <td>0</td>\n",
              "    </tr>\n",
              "    <tr>\n",
              "      <th>1</th>\n",
              "      <td>[yes, yes, yes, yes, and, yes, qt, prioritize,...</td>\n",
              "      <td>1</td>\n",
              "    </tr>\n",
              "    <tr>\n",
              "      <th>2</th>\n",
              "      <td>[made, new, friends, this, afternoon, deliveri...</td>\n",
              "      <td>1</td>\n",
              "    </tr>\n",
              "    <tr>\n",
              "      <th>3</th>\n",
              "      <td>[happening, today, pilots, with, the, texas, a...</td>\n",
              "      <td>0</td>\n",
              "    </tr>\n",
              "    <tr>\n",
              "      <th>4</th>\n",
              "      <td>[president, trump's, legal, team, completely, ...</td>\n",
              "      <td>0</td>\n",
              "    </tr>\n",
              "  </tbody>\n",
              "</table>\n",
              "</div>\n",
              "      <button class=\"colab-df-convert\" onclick=\"convertToInteractive('df-3a7837e0-952b-48a6-b563-9d31e453d15b')\"\n",
              "              title=\"Convert this dataframe to an interactive table.\"\n",
              "              style=\"display:none;\">\n",
              "        \n",
              "  <svg xmlns=\"http://www.w3.org/2000/svg\" height=\"24px\"viewBox=\"0 0 24 24\"\n",
              "       width=\"24px\">\n",
              "    <path d=\"M0 0h24v24H0V0z\" fill=\"none\"/>\n",
              "    <path d=\"M18.56 5.44l.94 2.06.94-2.06 2.06-.94-2.06-.94-.94-2.06-.94 2.06-2.06.94zm-11 1L8.5 8.5l.94-2.06 2.06-.94-2.06-.94L8.5 2.5l-.94 2.06-2.06.94zm10 10l.94 2.06.94-2.06 2.06-.94-2.06-.94-.94-2.06-.94 2.06-2.06.94z\"/><path d=\"M17.41 7.96l-1.37-1.37c-.4-.4-.92-.59-1.43-.59-.52 0-1.04.2-1.43.59L10.3 9.45l-7.72 7.72c-.78.78-.78 2.05 0 2.83L4 21.41c.39.39.9.59 1.41.59.51 0 1.02-.2 1.41-.59l7.78-7.78 2.81-2.81c.8-.78.8-2.07 0-2.86zM5.41 20L4 18.59l7.72-7.72 1.47 1.35L5.41 20z\"/>\n",
              "  </svg>\n",
              "      </button>\n",
              "      \n",
              "  <style>\n",
              "    .colab-df-container {\n",
              "      display:flex;\n",
              "      flex-wrap:wrap;\n",
              "      gap: 12px;\n",
              "    }\n",
              "\n",
              "    .colab-df-convert {\n",
              "      background-color: #E8F0FE;\n",
              "      border: none;\n",
              "      border-radius: 50%;\n",
              "      cursor: pointer;\n",
              "      display: none;\n",
              "      fill: #1967D2;\n",
              "      height: 32px;\n",
              "      padding: 0 0 0 0;\n",
              "      width: 32px;\n",
              "    }\n",
              "\n",
              "    .colab-df-convert:hover {\n",
              "      background-color: #E2EBFA;\n",
              "      box-shadow: 0px 1px 2px rgba(60, 64, 67, 0.3), 0px 1px 3px 1px rgba(60, 64, 67, 0.15);\n",
              "      fill: #174EA6;\n",
              "    }\n",
              "\n",
              "    [theme=dark] .colab-df-convert {\n",
              "      background-color: #3B4455;\n",
              "      fill: #D2E3FC;\n",
              "    }\n",
              "\n",
              "    [theme=dark] .colab-df-convert:hover {\n",
              "      background-color: #434B5C;\n",
              "      box-shadow: 0px 1px 3px 1px rgba(0, 0, 0, 0.15);\n",
              "      filter: drop-shadow(0px 1px 2px rgba(0, 0, 0, 0.3));\n",
              "      fill: #FFFFFF;\n",
              "    }\n",
              "  </style>\n",
              "\n",
              "      <script>\n",
              "        const buttonEl =\n",
              "          document.querySelector('#df-3a7837e0-952b-48a6-b563-9d31e453d15b button.colab-df-convert');\n",
              "        buttonEl.style.display =\n",
              "          google.colab.kernel.accessAllowed ? 'block' : 'none';\n",
              "\n",
              "        async function convertToInteractive(key) {\n",
              "          const element = document.querySelector('#df-3a7837e0-952b-48a6-b563-9d31e453d15b');\n",
              "          const dataTable =\n",
              "            await google.colab.kernel.invokeFunction('convertToInteractive',\n",
              "                                                     [key], {});\n",
              "          if (!dataTable) return;\n",
              "\n",
              "          const docLinkHtml = 'Like what you see? Visit the ' +\n",
              "            '<a target=\"_blank\" href=https://colab.research.google.com/notebooks/data_table.ipynb>data table notebook</a>'\n",
              "            + ' to learn more about interactive tables.';\n",
              "          element.innerHTML = '';\n",
              "          dataTable['output_type'] = 'display_data';\n",
              "          await google.colab.output.renderOutput(dataTable, element);\n",
              "          const docLink = document.createElement('div');\n",
              "          docLink.innerHTML = docLinkHtml;\n",
              "          element.appendChild(docLink);\n",
              "        }\n",
              "      </script>\n",
              "    </div>\n",
              "  </div>\n",
              "  "
            ],
            "text/plain": [
              "                                                text  labels\n",
              "0  [today, we, remember, sgt, st, class, ryan, j,...       0\n",
              "1  [yes, yes, yes, yes, and, yes, qt, prioritize,...       1\n",
              "2  [made, new, friends, this, afternoon, deliveri...       1\n",
              "3  [happening, today, pilots, with, the, texas, a...       0\n",
              "4  [president, trump's, legal, team, completely, ...       0"
            ]
          },
          "execution_count": 121,
          "metadata": {},
          "output_type": "execute_result"
        }
      ],
      "source": [
        "data.head()"
      ]
    },
    {
      "attachments": {},
      "cell_type": "markdown",
      "metadata": {
        "id": "VWS5Qn3tWDkd"
      },
      "source": [
        "# Train-Test Split"
      ]
    },
    {
      "cell_type": "code",
      "execution_count": 122,
      "metadata": {
        "id": "5NrvII8fDZRB"
      },
      "outputs": [],
      "source": [
        "# Splitting the dataset into the Training set and Test set\n",
        "train, test = train_test_split(data, test_size=0.3)"
      ]
    },
    {
      "cell_type": "code",
      "execution_count": 123,
      "metadata": {
        "colab": {
          "base_uri": "https://localhost:8080/"
        },
        "id": "2kJ-0Jp3DZJ7",
        "outputId": "bcafdb1b-37f9-4f92-e474-79471bff6927"
      },
      "outputs": [
        {
          "name": "stdout",
          "output_type": "stream",
          "text": [
            "(700, 2)\n",
            "(300, 2)\n"
          ]
        }
      ],
      "source": [
        "print(train.shape)\n",
        "print(test.shape)"
      ]
    },
    {
      "cell_type": "code",
      "execution_count": 124,
      "metadata": {
        "id": "Tc0vvRLgMZUq"
      },
      "outputs": [],
      "source": [
        "train = train.to_numpy()\n",
        "test = test.to_numpy()"
      ]
    },
    {
      "cell_type": "code",
      "execution_count": 125,
      "metadata": {
        "colab": {
          "base_uri": "https://localhost:8080/"
        },
        "id": "X2Aey-ISMZR1",
        "outputId": "a7d25b51-1703-417e-9300-8b177dc5d585"
      },
      "outputs": [
        {
          "data": {
            "text/plain": [
              "numpy.ndarray"
            ]
          },
          "execution_count": 125,
          "metadata": {},
          "output_type": "execute_result"
        }
      ],
      "source": [
        "type(train)"
      ]
    },
    {
      "cell_type": "code",
      "execution_count": 126,
      "metadata": {
        "id": "7dazQRKVDY52"
      },
      "outputs": [],
      "source": [
        "train = [(tokens, label) for tokens, label in train]\n",
        "test = [(tokens, label) for tokens, label in test]\n"
      ]
    },
    {
      "cell_type": "code",
      "execution_count": 127,
      "metadata": {
        "colab": {
          "base_uri": "https://localhost:8080/"
        },
        "id": "igrggc28V91e",
        "outputId": "1a1dc310-51f1-455e-be04-19ee9c4a217f"
      },
      "outputs": [
        {
          "name": "stdout",
          "output_type": "stream",
          "text": [
            "(['generation', 'ratify', 'virginia', 'appreciates', 'steadfast', 'commitment', 'to', 'the', 'fight', 'for', 'gender', 'equality', '&amp', 'the', 'era', 'if', 're-elected', 'he', 'will', 'persist', 'as', 'an', 'advocate', 'for', 'gender', 'equality', '&amp', 'the', 'era', 'in', 'the', 'u.s', 'senate', 'we', 'love', 'sen', 'warner', 'link', 'in', 'bio', 'to', 'find', 'out', 'more!'], 1)\n"
          ]
        }
      ],
      "source": [
        "print(train[0])"
      ]
    },
    {
      "cell_type": "code",
      "execution_count": 127,
      "metadata": {
        "id": "o2npcrZubwOl"
      },
      "outputs": [],
      "source": []
    },
    {
      "cell_type": "code",
      "execution_count": 128,
      "metadata": {
        "id": "aFIeUQ-xV1_Q"
      },
      "outputs": [],
      "source": [
        "vocab = { }\n",
        "vocab['<PAD>'] = len(vocab)\n",
        "vocab['<UNK>'] = len(vocab)\n",
        "for text, label in train:\n",
        "  for word in text:\n",
        "    if word not in vocab:\n",
        "      vocab[word]= len(vocab)"
      ]
    },
    {
      "cell_type": "code",
      "execution_count": 129,
      "metadata": {
        "colab": {
          "base_uri": "https://localhost:8080/"
        },
        "id": "GEAlZN4ubFJ_",
        "outputId": "bdc5231b-c948-4235-e5e5-7b3b2704d3ab"
      },
      "outputs": [
        {
          "data": {
            "text/plain": [
              "0"
            ]
          },
          "execution_count": 129,
          "metadata": {},
          "output_type": "execute_result"
        }
      ],
      "source": [
        "vocab['<PAD>']"
      ]
    },
    {
      "cell_type": "code",
      "execution_count": 130,
      "metadata": {
        "colab": {
          "base_uri": "https://localhost:8080/"
        },
        "id": "aDf-0isfV1vP",
        "outputId": "13c82134-c459-4118-ddac-9aee8eb90128"
      },
      "outputs": [
        {
          "data": {
            "text/plain": [
              "5142"
            ]
          },
          "execution_count": 130,
          "metadata": {},
          "output_type": "execute_result"
        }
      ],
      "source": [
        "len(vocab)"
      ]
    },
    {
      "cell_type": "code",
      "execution_count": 131,
      "metadata": {
        "id": "RRZJsSofY_U9"
      },
      "outputs": [],
      "source": [
        "#converting tokens into numeric\n",
        "train_text = []\n",
        "train_label = []\n",
        "N = 75\n",
        "for tokens, label in train:\n",
        "  train_label.append(label)\n",
        "  temp = np.zeros(N, dtype = int)\n",
        "  for i, t in enumerate(tokens[:N]):\n",
        "    if t in vocab:\n",
        "      temp[i] = vocab[t]\n",
        "    else:\n",
        "      temp[i] = vocab['<UNK>']\n",
        "  train_text.append(temp)"
      ]
    },
    {
      "cell_type": "code",
      "execution_count": 132,
      "metadata": {
        "id": "ePdxyaE1gOcc"
      },
      "outputs": [],
      "source": [
        "#converting tokens into numeric\n",
        "test_text = []\n",
        "test_label = []\n",
        "for tokens, label in test:\n",
        "  test_label.append(label)\n",
        "  temp = np.zeros(N, dtype = int)\n",
        "  for i, t in enumerate(tokens[:N]):\n",
        "    if t in vocab:\n",
        "      temp[i] = vocab[t]\n",
        "    else:\n",
        "      temp[i] = vocab['<UNK>']\n",
        "  test_text.append(temp)"
      ]
    },
    {
      "cell_type": "code",
      "execution_count": 132,
      "metadata": {
        "id": "4j03Iin7gMZc"
      },
      "outputs": [],
      "source": []
    },
    {
      "cell_type": "code",
      "execution_count": 133,
      "metadata": {
        "colab": {
          "base_uri": "https://localhost:8080/"
        },
        "id": "hjGiQpZbfiuj",
        "outputId": "f2d82e0f-7278-4d77-e6c4-7a515e46118c"
      },
      "outputs": [
        {
          "data": {
            "text/plain": [
              "[array([ 2,  3,  4,  5,  6,  7,  8,  9, 10, 11, 12, 13, 14,  9, 15, 16, 17,\n",
              "        18, 19, 20, 21, 22, 23, 11, 12, 13, 14,  9, 15, 24,  9, 25, 26, 27,\n",
              "        28, 29, 30, 31, 24, 32,  8, 33, 34, 35,  0,  0,  0,  0,  0,  0,  0,\n",
              "         0,  0,  0,  0,  0,  0,  0,  0,  0,  0,  0,  0,  0,  0,  0,  0,  0,\n",
              "         0,  0,  0,  0,  0,  0,  0]),\n",
              " array([24, 36, 37,  9, 38, 39, 40, 41, 42, 43, 44,  9, 45, 46, 47, 48, 49,\n",
              "        50, 47, 51, 52, 53, 54, 37, 55, 56, 43, 57, 58,  9, 59,  0,  0,  0,\n",
              "         0,  0,  0,  0,  0,  0,  0,  0,  0,  0,  0,  0,  0,  0,  0,  0,  0,\n",
              "         0,  0,  0,  0,  0,  0,  0,  0,  0,  0,  0,  0,  0,  0,  0,  0,  0,\n",
              "         0,  0,  0,  0,  0,  0,  0]),\n",
              " array([16, 60, 61, 62, 63, 37, 64, 65, 66, 67, 62, 68, 69,  9, 61, 22, 70,\n",
              "        71, 72, 73,  9, 74, 50, 75, 76, 77, 78, 72, 46, 79, 34, 37, 65, 80,\n",
              "        22, 81, 82,  0,  0,  0,  0,  0,  0,  0,  0,  0,  0,  0,  0,  0,  0,\n",
              "         0,  0,  0,  0,  0,  0,  0,  0,  0,  0,  0,  0,  0,  0,  0,  0,  0,\n",
              "         0,  0,  0,  0,  0,  0,  0])]"
            ]
          },
          "execution_count": 133,
          "metadata": {},
          "output_type": "execute_result"
        }
      ],
      "source": [
        "train_text[:3]\n"
      ]
    },
    {
      "cell_type": "code",
      "execution_count": 134,
      "metadata": {
        "colab": {
          "base_uri": "https://localhost:8080/"
        },
        "id": "jKFppTZcfrgN",
        "outputId": "4df03aa6-f286-4673-c00c-5e5bac3c694e"
      },
      "outputs": [
        {
          "data": {
            "text/plain": [
              "[1, 1, 0]"
            ]
          },
          "execution_count": 134,
          "metadata": {},
          "output_type": "execute_result"
        }
      ],
      "source": [
        "train_label[:3]"
      ]
    },
    {
      "cell_type": "code",
      "execution_count": 135,
      "metadata": {
        "id": "IuZW1ub_V1sr"
      },
      "outputs": [],
      "source": [
        "# Split the data into training and testing sets\n",
        "train_data = TensorDataset(torch.from_numpy(np.array(train_text)), torch.from_numpy(np.array(train_label)))\n",
        "test_data = TensorDataset(torch.from_numpy(np.array(test_text)), torch.from_numpy(np.array(test_label)))\n",
        "\n",
        "train_loader = DataLoader(train_data, batch_size=1, shuffle=True)\n",
        "test_loader = DataLoader(test_data, batch_size=1, shuffle=False)"
      ]
    },
    {
      "cell_type": "code",
      "execution_count": 136,
      "metadata": {
        "colab": {
          "base_uri": "https://localhost:8080/"
        },
        "id": "5pDhA5bVgvJA",
        "outputId": "5166ee94-0672-4d29-8d73-ff9a7637549c"
      },
      "outputs": [
        {
          "data": {
            "text/plain": [
              "(tensor([ 2,  3,  4,  5,  6,  7,  8,  9, 10, 11, 12, 13, 14,  9, 15, 16, 17, 18,\n",
              "         19, 20, 21, 22, 23, 11, 12, 13, 14,  9, 15, 24,  9, 25, 26, 27, 28, 29,\n",
              "         30, 31, 24, 32,  8, 33, 34, 35,  0,  0,  0,  0,  0,  0,  0,  0,  0,  0,\n",
              "          0,  0,  0,  0,  0,  0,  0,  0,  0,  0,  0,  0,  0,  0,  0,  0,  0,  0,\n",
              "          0,  0,  0]), tensor(1))"
            ]
          },
          "execution_count": 136,
          "metadata": {},
          "output_type": "execute_result"
        }
      ],
      "source": [
        "train_data[0]"
      ]
    },
    {
      "cell_type": "code",
      "execution_count": 136,
      "metadata": {
        "id": "s4jrWm0NgvFn"
      },
      "outputs": [],
      "source": []
    },
    {
      "cell_type": "markdown",
      "metadata": {
        "id": "1BQEOMEeg7jr"
      },
      "source": [
        "# Training LSTM model three hidden layer "
      ]
    },
    {
      "cell_type": "code",
      "execution_count": 137,
      "metadata": {
        "id": "BobVvvIOgvDI"
      },
      "outputs": [],
      "source": [
        "# Initialize the LSTM model\n",
        "# Define the input size, hidden size and number of outputs\n",
        "input_size = 50\n",
        "hidden_size = 3\n",
        "output_size = 1\n",
        "num_epochs = 50\n",
        "\n",
        "# 1. Creating a LSTM model\n",
        "# Define the LSTM model and Linear output fully connected layer\n",
        "embed = nn.Embedding(len(vocab), input_size, padding_idx=0)\n",
        "lstm = nn.LSTM(input_size, hidden_size, batch_first=True)\n",
        "fc = nn.Linear(hidden_size, output_size)\n",
        "\n"
      ]
    },
    {
      "cell_type": "markdown",
      "metadata": {
        "id": "MaBdFiNUW0R4"
      },
      "source": [
        "## Using SGD as an optimiser"
      ]
    },
    {
      "cell_type": "code",
      "execution_count": 138,
      "metadata": {
        "id": "DFQL-W1IO_-r"
      },
      "outputs": [],
      "source": [
        "# Define the loss function and optimizer\n",
        "criterion = nn.MSELoss()\n",
        "optimizer = optim.SGD(lstm.parameters(), lr=0.01)"
      ]
    },
    {
      "cell_type": "code",
      "execution_count": 139,
      "metadata": {
        "colab": {
          "base_uri": "https://localhost:8080/"
        },
        "id": "bhWyTgF2ntdv",
        "outputId": "9d6ef764-f0c2-4980-ee95-726f29075aca"
      },
      "outputs": [
        {
          "name": "stdout",
          "output_type": "stream",
          "text": [
            "epochs: 0\n",
            "epochs: 1\n",
            "epochs: 2\n",
            "epochs: 3\n",
            "epochs: 4\n",
            "epochs: 5\n",
            "epochs: 6\n",
            "epochs: 7\n",
            "epochs: 8\n",
            "epochs: 9\n",
            "epochs: 10\n",
            "epochs: 11\n",
            "epochs: 12\n",
            "epochs: 13\n",
            "epochs: 14\n",
            "epochs: 15\n",
            "epochs: 16\n",
            "epochs: 17\n",
            "epochs: 18\n",
            "epochs: 19\n",
            "epochs: 20\n",
            "epochs: 21\n",
            "epochs: 22\n",
            "epochs: 23\n",
            "epochs: 24\n",
            "epochs: 25\n",
            "epochs: 26\n",
            "epochs: 27\n",
            "epochs: 28\n",
            "epochs: 29\n",
            "epochs: 30\n",
            "epochs: 31\n",
            "epochs: 32\n",
            "epochs: 33\n",
            "epochs: 34\n",
            "epochs: 35\n",
            "epochs: 36\n",
            "epochs: 37\n",
            "epochs: 38\n",
            "epochs: 39\n",
            "epochs: 40\n",
            "epochs: 41\n",
            "epochs: 42\n",
            "epochs: 43\n",
            "epochs: 44\n",
            "epochs: 45\n",
            "epochs: 46\n",
            "epochs: 47\n",
            "epochs: 48\n",
            "epochs: 49\n"
          ]
        }
      ],
      "source": [
        "# Initializing Hyperparameters\n",
        "num_epochs = 50\n",
        "train_losses = []\n",
        "test_losses = []\n",
        "\n",
        "# Loop over the number of epochs\n",
        "for epoch in range(num_epochs):\n",
        "    print('epochs:',epoch)\n",
        "    train_loss = 0\n",
        "\n",
        "    # Initialize the hidden state and the cell state\n",
        "    # The hidden state and the cell state reset to zero for every epoch\n",
        "    hs = torch.zeros(1, 1, hidden_size)\n",
        "    cs = torch.zeros(1, 1, hidden_size)\n",
        "    \n",
        "    # Get the input and target at position i\n",
        "    for i, (data, label) in enumerate(train_loader):\n",
        "        label = label.view(-1, 1, 1)\n",
        "        hidden = (hs, cs)\n",
        "        # Run the forward pass\n",
        "        embeddings = embed(data)\n",
        "        output, hidden = lstm(embeddings, hidden)\n",
        "        output = fc(hidden[-1])\n",
        "        \n",
        "        # 2. Network Evaluation\n",
        "        loss = criterion(output, label.float())\n",
        "        hs = hs.detach()\n",
        "        cs = cs.detach()\n",
        "\n",
        "        # 3. Gradient Calculation\n",
        "        loss.backward()\n",
        "\n",
        "        # 4. Back Propagation\n",
        "        optimizer.step()\n",
        "        optimizer.zero_grad()\n",
        "\n",
        "        train_loss += loss.item()\n",
        "\n",
        "    # Calculate the average training loss\n",
        "    train_loss = train_loss / len(train_loader)\n",
        "    train_losses.append(train_loss)\n"
      ]
    },
    {
      "cell_type": "code",
      "execution_count": 140,
      "metadata": {
        "colab": {
          "base_uri": "https://localhost:8080/",
          "height": 295
        },
        "id": "F7MQlu_38DY0",
        "outputId": "ef0871b9-a151-4286-f0b6-27ee48133e50"
      },
      "outputs": [
        {
          "data": {
            "image/png": "[encoded data removed]",
            "text/plain": [
              "<Figure size 432x288 with 1 Axes>"
            ]
          },
          "metadata": {
            "needs_background": "light"
          },
          "output_type": "display_data"
        }
      ],
      "source": [
        "# Plot the MSE loss for each epoch\n",
        "plt.plot(train_losses)\n",
        "plt.xlabel('Epoch')\n",
        "plt.ylabel('MSE Loss')\n",
        "plt.title('Training Loss over Epochs')\n",
        "plt.show()\n",
        "     "
      ]
    },
    {
      "cell_type": "code",
      "execution_count": 141,
      "metadata": {
        "colab": {
          "base_uri": "https://localhost:8080/"
        },
        "id": "xz8BQ8y2rhXC",
        "outputId": "24fb75e1-0a92-40f5-fdcf-78022319e41e"
      },
      "outputs": [
        {
          "name": "stdout",
          "output_type": "stream",
          "text": [
            "Test MSE: 0.2371307219588198\n"
          ]
        }
      ],
      "source": [
        "# Evaluate the LSTM model\n",
        "mse = 0\n",
        "\n",
        "#By wrapping the evaluation code in a with torch.no_grad() context, \n",
        "#you can avoid unnecessary memory usage and speed up the evaluation process.\n",
        "with torch.no_grad():\n",
        "    # Initialize the hidden state and the cell state\n",
        "    # The hidden state and the cell state reset to zero for every epoch\n",
        "    hs = torch.zeros(1, 1, hidden_size)\n",
        "    cs = torch.zeros(1, 1, hidden_size)\n",
        "\n",
        "    for data, label in test_loader:\n",
        "        label = label.view(-1, 1, 1)\n",
        "        hidden = (hs, cs)\n",
        "        embeddings = embed(data)\n",
        "        output, hidden = lstm(embeddings, hidden)\n",
        "        output = fc(hidden[-1])\n",
        "        hs = hs.detach()\n",
        "        cs = cs.detach()\n",
        "        \n",
        "        mse += ((output - label)**2).mean().item()\n",
        "\n",
        "mse /= len(test_loader)\n",
        "print('Test MSE: {}'.format(mse))"
      ]
    },
    {
      "cell_type": "code",
      "execution_count": 142,
      "metadata": {
        "id": "7mpg3iFH7ll5"
      },
      "outputs": [],
      "source": [
        "# Save the trained RNN model\n",
        "torch.save(lstm.state_dict(), 'lstm.pt_sgd3')\n"
      ]
    },
    {
      "cell_type": "markdown",
      "metadata": {
        "id": "CGxDNtI3u7Vf"
      },
      "source": [
        "## Using AdamW as an optimiser"
      ]
    },
    {
      "cell_type": "code",
      "execution_count": 143,
      "metadata": {
        "id": "OU1BmtVLuOQJ"
      },
      "outputs": [],
      "source": [
        "\n",
        "# Define the loss function and optimizer\n",
        "criterion = nn.MSELoss()\n",
        "#optimizer = optim.SGD(lstm.parameters(), lr=0.01)\n",
        "optimizer = optim.AdamW(lstm.parameters(), lr=0.01)\n"
      ]
    },
    {
      "cell_type": "code",
      "execution_count": 144,
      "metadata": {
        "colab": {
          "base_uri": "https://localhost:8080/"
        },
        "id": "PwbO1F6JuiYM",
        "outputId": "6fff50aa-1660-49e6-a534-5bb24b97d396"
      },
      "outputs": [
        {
          "name": "stdout",
          "output_type": "stream",
          "text": [
            "epochs: 0\n",
            "epochs: 1\n",
            "epochs: 2\n",
            "epochs: 3\n",
            "epochs: 4\n",
            "epochs: 5\n",
            "epochs: 6\n",
            "epochs: 7\n",
            "epochs: 8\n",
            "epochs: 9\n",
            "epochs: 10\n",
            "epochs: 11\n",
            "epochs: 12\n",
            "epochs: 13\n",
            "epochs: 14\n",
            "epochs: 15\n",
            "epochs: 16\n",
            "epochs: 17\n",
            "epochs: 18\n",
            "epochs: 19\n",
            "epochs: 20\n",
            "epochs: 21\n",
            "epochs: 22\n",
            "epochs: 23\n",
            "epochs: 24\n",
            "epochs: 25\n",
            "epochs: 26\n",
            "epochs: 27\n",
            "epochs: 28\n",
            "epochs: 29\n",
            "epochs: 30\n",
            "epochs: 31\n",
            "epochs: 32\n",
            "epochs: 33\n",
            "epochs: 34\n",
            "epochs: 35\n",
            "epochs: 36\n",
            "epochs: 37\n",
            "epochs: 38\n",
            "epochs: 39\n",
            "epochs: 40\n",
            "epochs: 41\n",
            "epochs: 42\n",
            "epochs: 43\n",
            "epochs: 44\n",
            "epochs: 45\n",
            "epochs: 46\n",
            "epochs: 47\n",
            "epochs: 48\n",
            "epochs: 49\n"
          ]
        }
      ],
      "source": [
        "# Initializing Hyperparameters\n",
        "num_epochs = 50\n",
        "train_losses = []\n",
        "test_losses = []\n",
        "\n",
        "# Loop over the number of epochs\n",
        "for epoch in range(num_epochs):\n",
        "    print('epochs:',epoch)\n",
        "    train_loss = 0\n",
        "\n",
        "    # Initialize the hidden state and the cell state\n",
        "    # The hidden state and the cell state reset to zero for every epoch\n",
        "    hs = torch.zeros(1, 1, hidden_size)\n",
        "    cs = torch.zeros(1, 1, hidden_size)\n",
        "    \n",
        "    # Get the input and target at position i\n",
        "    for i, (data, label) in enumerate(train_loader):\n",
        "        label = label.view(-1, 1, 1)\n",
        "        hidden = (hs, cs)\n",
        "        # Run the forward pass\n",
        "        embeddings = embed(data)\n",
        "        output, hidden = lstm(embeddings, hidden)\n",
        "        output = fc(hidden[-1])\n",
        "        \n",
        "        # 2. Network Evaluation\n",
        "        loss = criterion(output, label.float())\n",
        "        hs = hs.detach()\n",
        "        cs = cs.detach()\n",
        "\n",
        "        # 3. Gradient Calculation\n",
        "        loss.backward()\n",
        "\n",
        "        # 4. Back Propagation\n",
        "        optimizer.step()\n",
        "        optimizer.zero_grad()\n",
        "\n",
        "        train_loss += loss.item()\n",
        "\n",
        "    # Calculate the average training loss\n",
        "    train_loss = train_loss / len(train_loader)\n",
        "    train_losses.append(train_loss)\n"
      ]
    },
    {
      "cell_type": "code",
      "execution_count": 145,
      "metadata": {
        "colab": {
          "base_uri": "https://localhost:8080/",
          "height": 295
        },
        "id": "q-pfFXYtaNgn",
        "outputId": "9bdbf61c-cadb-4603-a04a-0f8190a6d1d6"
      },
      "outputs": [
        {
          "data": {
            "image/png": "[encoded data removed]",
            "text/plain": [
              "<Figure size 432x288 with 1 Axes>"
            ]
          },
          "metadata": {
            "needs_background": "light"
          },
          "output_type": "display_data"
        }
      ],
      "source": [
        "# Plot the MSE loss for each epoch\n",
        "plt.plot(train_losses)\n",
        "plt.xlabel('Epoch')\n",
        "plt.ylabel('MSE Loss')\n",
        "plt.title('Training Loss over Epochs')\n",
        "plt.show()\n",
        "     "
      ]
    },
    {
      "cell_type": "code",
      "execution_count": 146,
      "metadata": {
        "colab": {
          "base_uri": "https://localhost:8080/"
        },
        "id": "RtOFBKdLux3i",
        "outputId": "47a13baa-7cfe-4957-a499-a7d6c0a50acb"
      },
      "outputs": [
        {
          "name": "stdout",
          "output_type": "stream",
          "text": [
            "Test MSE: 0.2429755281905333\n"
          ]
        }
      ],
      "source": [
        "# Evaluate the LSTM model\n",
        "mse = 0\n",
        "\n",
        "#By wrapping the evaluation code in a with torch.no_grad() context, \n",
        "#you can avoid unnecessary memory usage and speed up the evaluation process.\n",
        "with torch.no_grad():\n",
        "    # Initialize the hidden state and the cell state\n",
        "    # The hidden state and the cell state reset to zero for every epoch\n",
        "    hs = torch.zeros(1, 1, hidden_size)\n",
        "    cs = torch.zeros(1, 1, hidden_size)\n",
        "\n",
        "    for data, label in test_loader:\n",
        "        label = label.view(-1, 1, 1)\n",
        "        hidden = (hs, cs)\n",
        "        embeddings = embed(data)\n",
        "        output, hidden = lstm(embeddings, hidden)\n",
        "        output = fc(hidden[-1])\n",
        "        hs = hs.detach()\n",
        "        cs = cs.detach()\n",
        "        \n",
        "        mse += ((output - label)**2).mean().item()\n",
        "\n",
        "mse /= len(test_loader)\n",
        "print('Test MSE: {}'.format(mse))"
      ]
    },
    {
      "cell_type": "code",
      "execution_count": 147,
      "metadata": {
        "id": "_ScJWkuNCD9f"
      },
      "outputs": [],
      "source": [
        "# Save the trained RNN model\n",
        "torch.save(lstm.state_dict(), 'lstm.pt_adam3')\n"
      ]
    },
    {
      "cell_type": "code",
      "execution_count": 147,
      "metadata": {
        "id": "IJip7OueCD6a"
      },
      "outputs": [],
      "source": []
    },
    {
      "cell_type": "markdown",
      "metadata": {
        "id": "oOrFk13QO0MU"
      },
      "source": [
        "# Training Model with 6 Hidden Layer "
      ]
    },
    {
      "cell_type": "code",
      "execution_count": 148,
      "metadata": {
        "id": "fSHfRSF-ByC6"
      },
      "outputs": [],
      "source": [
        "# Initialize the LSTM model\n",
        "# Define the input size, hidden size and number of outputs\n",
        "input_size = 50\n",
        "hidden_size = 6\n",
        "output_size = 1\n",
        "num_epochs = 50\n",
        "\n",
        "# 1. Creating a LSTM model\n",
        "# Define the LSTM model and Linear output fully connected layer\n",
        "embed = nn.Embedding(len(vocab), input_size, padding_idx=0)\n",
        "lstm = nn.LSTM(input_size, hidden_size, batch_first=True)\n",
        "fc = nn.Linear(hidden_size, output_size)\n"
      ]
    },
    {
      "cell_type": "code",
      "execution_count": 148,
      "metadata": {
        "id": "bmyFJFBQ7dNy"
      },
      "outputs": [],
      "source": []
    },
    {
      "cell_type": "markdown",
      "metadata": {
        "id": "twx855d8P3Ie"
      },
      "source": [
        "## Using SGD as an optimiser"
      ]
    },
    {
      "cell_type": "code",
      "execution_count": 149,
      "metadata": {
        "id": "LUWmPGoJPate"
      },
      "outputs": [],
      "source": [
        "# Define the loss function and optimizer\n",
        "criterion = nn.MSELoss()\n",
        "optimizer = optim.SGD(lstm.parameters(), lr=0.01)"
      ]
    },
    {
      "cell_type": "code",
      "execution_count": 150,
      "metadata": {
        "colab": {
          "base_uri": "https://localhost:8080/"
        },
        "id": "TB96K39JBx3m",
        "outputId": "dbb5bd07-d1ee-4043-8e71-0f689eb10acb"
      },
      "outputs": [
        {
          "name": "stdout",
          "output_type": "stream",
          "text": [
            "epochs: 0\n",
            "epochs: 1\n",
            "epochs: 2\n",
            "epochs: 3\n",
            "epochs: 4\n",
            "epochs: 5\n",
            "epochs: 6\n",
            "epochs: 7\n",
            "epochs: 8\n",
            "epochs: 9\n",
            "epochs: 10\n",
            "epochs: 11\n",
            "epochs: 12\n",
            "epochs: 13\n",
            "epochs: 14\n",
            "epochs: 15\n",
            "epochs: 16\n",
            "epochs: 17\n",
            "epochs: 18\n",
            "epochs: 19\n",
            "epochs: 20\n",
            "epochs: 21\n",
            "epochs: 22\n",
            "epochs: 23\n",
            "epochs: 24\n",
            "epochs: 25\n",
            "epochs: 26\n",
            "epochs: 27\n",
            "epochs: 28\n",
            "epochs: 29\n",
            "epochs: 30\n",
            "epochs: 31\n",
            "epochs: 32\n",
            "epochs: 33\n",
            "epochs: 34\n",
            "epochs: 35\n",
            "epochs: 36\n",
            "epochs: 37\n",
            "epochs: 38\n",
            "epochs: 39\n",
            "epochs: 40\n",
            "epochs: 41\n",
            "epochs: 42\n",
            "epochs: 43\n",
            "epochs: 44\n",
            "epochs: 45\n",
            "epochs: 46\n",
            "epochs: 47\n",
            "epochs: 48\n",
            "epochs: 49\n"
          ]
        }
      ],
      "source": [
        "# Initializing Hyperparameters\n",
        "num_epochs = 50\n",
        "train_losses = []\n",
        "test_losses = []\n",
        "\n",
        "# Loop over the number of epochs\n",
        "for epoch in range(num_epochs):\n",
        "    print('epochs:',epoch)\n",
        "    train_loss = 0\n",
        "\n",
        "    # Initialize the hidden state and the cell state\n",
        "    # The hidden state and the cell state reset to zero for every epoch\n",
        "    hs = torch.zeros(1, 1, hidden_size)\n",
        "    cs = torch.zeros(1, 1, hidden_size)\n",
        "    \n",
        "    # Get the input and target at position i\n",
        "    for i, (data, label) in enumerate(train_loader):\n",
        "        label = label.view(-1, 1, 1)\n",
        "        hidden = (hs, cs)\n",
        "        # Run the forward pass\n",
        "        embeddings = embed(data)\n",
        "        output, hidden = lstm(embeddings, hidden)\n",
        "        output = fc(hidden[-1])\n",
        "        \n",
        "        # 2. Network Evaluation\n",
        "        loss = criterion(output, label.float())\n",
        "        hs = hs.detach()\n",
        "        cs = cs.detach()\n",
        "\n",
        "        # 3. Gradient Calculation\n",
        "        loss.backward()\n",
        "\n",
        "        # 4. Back Propagation\n",
        "        optimizer.step()\n",
        "        optimizer.zero_grad()\n",
        "\n",
        "        train_loss += loss.item()\n",
        "\n",
        "    # Calculate the average training loss\n",
        "    train_loss = train_loss / len(train_loader)\n",
        "    train_losses.append(train_loss)"
      ]
    },
    {
      "cell_type": "code",
      "execution_count": 151,
      "metadata": {
        "colab": {
          "base_uri": "https://localhost:8080/",
          "height": 295
        },
        "id": "VUAe4CW9aPFU",
        "outputId": "4b892e6f-23f9-4197-f32e-268a9544bb18"
      },
      "outputs": [
        {
          "data": {
            "image/png": "[encoded data removed]",
            "text/plain": [
              "<Figure size 432x288 with 1 Axes>"
            ]
          },
          "metadata": {
            "needs_background": "light"
          },
          "output_type": "display_data"
        }
      ],
      "source": [
        "# Plot the MSE loss for each epoch\n",
        "plt.plot(train_losses)\n",
        "plt.xlabel('Epoch')\n",
        "plt.ylabel('MSE Loss')\n",
        "plt.title('Training Loss over Epochs')\n",
        "plt.show()\n",
        "     "
      ]
    },
    {
      "cell_type": "code",
      "execution_count": 152,
      "metadata": {
        "colab": {
          "base_uri": "https://localhost:8080/"
        },
        "id": "5dCXnRZ2CJo2",
        "outputId": "b91dec4d-831f-4b37-e452-a88557ab33d2"
      },
      "outputs": [
        {
          "name": "stdout",
          "output_type": "stream",
          "text": [
            "Test MSE: 0.22548099341103808\n"
          ]
        }
      ],
      "source": [
        "# Evaluate the LSTM model\n",
        "mse = 0\n",
        "\n",
        "#By wrapping the evaluation code in a with torch.no_grad() context, \n",
        "#you can avoid unnecessary memory usage and speed up the evaluation process.\n",
        "with torch.no_grad():\n",
        "    # Initialize the hidden state and the cell state\n",
        "    # The hidden state and the cell state reset to zero for every epoch\n",
        "    hs = torch.zeros(1, 1, hidden_size)\n",
        "    cs = torch.zeros(1, 1, hidden_size)\n",
        "\n",
        "    for data, label in test_loader:\n",
        "        label = label.view(-1, 1, 1)\n",
        "        hidden = (hs, cs)\n",
        "        embeddings = embed(data)\n",
        "        output, hidden = lstm(embeddings, hidden)\n",
        "        output = fc(hidden[-1])\n",
        "        hs = hs.detach()\n",
        "        cs = cs.detach()\n",
        "        \n",
        "        mse += ((output - label)**2).mean().item()\n",
        "\n",
        "mse /= len(test_loader)\n",
        "print('Test MSE: {}'.format(mse))"
      ]
    },
    {
      "cell_type": "code",
      "execution_count": 153,
      "metadata": {
        "id": "_y4WPZzb7JKO"
      },
      "outputs": [],
      "source": [
        "# Save the trained RNN model\n",
        "torch.save(lstm.state_dict(), 'lstm.pt_Sgd6')\n"
      ]
    },
    {
      "cell_type": "markdown",
      "metadata": {
        "id": "DW_USM8JPz2P"
      },
      "source": [
        "## Using AdamW as an opimiser"
      ]
    },
    {
      "cell_type": "code",
      "execution_count": 154,
      "metadata": {
        "id": "b2NZu4oNOjjR"
      },
      "outputs": [],
      "source": [
        "\n",
        "# Define the loss function and optimizer\n",
        "criterion = nn.MSELoss()\n",
        "optimizer = optim.AdamW(lstm.parameters(), lr=0.01)"
      ]
    },
    {
      "cell_type": "code",
      "execution_count": 155,
      "metadata": {
        "colab": {
          "base_uri": "https://localhost:8080/"
        },
        "id": "lLpiJ1B1OgNo",
        "outputId": "8bffa989-99c6-4776-c62c-df93fb1d5950"
      },
      "outputs": [
        {
          "name": "stdout",
          "output_type": "stream",
          "text": [
            "epochs: 0\n",
            "epochs: 1\n",
            "epochs: 2\n",
            "epochs: 3\n",
            "epochs: 4\n",
            "epochs: 5\n",
            "epochs: 6\n",
            "epochs: 7\n",
            "epochs: 8\n",
            "epochs: 9\n",
            "epochs: 10\n",
            "epochs: 11\n",
            "epochs: 12\n",
            "epochs: 13\n",
            "epochs: 14\n",
            "epochs: 15\n",
            "epochs: 16\n",
            "epochs: 17\n",
            "epochs: 18\n",
            "epochs: 19\n",
            "epochs: 20\n",
            "epochs: 21\n",
            "epochs: 22\n",
            "epochs: 23\n",
            "epochs: 24\n",
            "epochs: 25\n",
            "epochs: 26\n",
            "epochs: 27\n",
            "epochs: 28\n",
            "epochs: 29\n",
            "epochs: 30\n",
            "epochs: 31\n",
            "epochs: 32\n",
            "epochs: 33\n",
            "epochs: 34\n",
            "epochs: 35\n",
            "epochs: 36\n",
            "epochs: 37\n",
            "epochs: 38\n",
            "epochs: 39\n",
            "epochs: 40\n",
            "epochs: 41\n",
            "epochs: 42\n",
            "epochs: 43\n",
            "epochs: 44\n",
            "epochs: 45\n",
            "epochs: 46\n",
            "epochs: 47\n",
            "epochs: 48\n",
            "epochs: 49\n"
          ]
        }
      ],
      "source": [
        "# Initializing Hyperparameters\n",
        "num_epochs = 50\n",
        "train_losses = []\n",
        "test_losses = []\n",
        "\n",
        "# Loop over the number of epochs\n",
        "for epoch in range(num_epochs):\n",
        "    print('epochs:',epoch)\n",
        "    train_loss = 0\n",
        "\n",
        "    # Initialize the hidden state and the cell state\n",
        "    # The hidden state and the cell state reset to zero for every epoch\n",
        "    hs = torch.zeros(1, 1, hidden_size)\n",
        "    cs = torch.zeros(1, 1, hidden_size)\n",
        "    \n",
        "    # Get the input and target at position i\n",
        "    for i, (data, label) in enumerate(train_loader):\n",
        "        label = label.view(-1, 1, 1)\n",
        "        hidden = (hs, cs)\n",
        "        # Run the forward pass\n",
        "        embeddings = embed(data)\n",
        "        output, hidden = lstm(embeddings, hidden)\n",
        "        output = fc(hidden[-1])\n",
        "        \n",
        "        # 2. Network Evaluation\n",
        "        loss = criterion(output, label.float())\n",
        "        hs = hs.detach()\n",
        "        cs = cs.detach()\n",
        "\n",
        "        # 3. Gradient Calculation\n",
        "        loss.backward()\n",
        "\n",
        "        # 4. Back Propagation\n",
        "        optimizer.step()\n",
        "        optimizer.zero_grad()\n",
        "\n",
        "        train_loss += loss.item()\n",
        "\n",
        "    # Calculate the average training loss\n",
        "    train_loss = train_loss / len(train_loader)\n",
        "    train_losses.append(train_loss)"
      ]
    },
    {
      "cell_type": "code",
      "execution_count": 156,
      "metadata": {
        "colab": {
          "base_uri": "https://localhost:8080/",
          "height": 295
        },
        "id": "MwdJoV5naQcP",
        "outputId": "ca5f5d19-6316-40f2-bdec-f7d38c332b5c"
      },
      "outputs": [
        {
          "data": {
            "image/png": "[encoded data removed]",
            "text/plain": [
              "<Figure size 432x288 with 1 Axes>"
            ]
          },
          "metadata": {
            "needs_background": "light"
          },
          "output_type": "display_data"
        }
      ],
      "source": [
        "# Plot the MSE loss for each epoch\n",
        "plt.plot(train_losses)\n",
        "plt.xlabel('Epoch')\n",
        "plt.ylabel('MSE Loss')\n",
        "plt.title('Training Loss over Epochs')\n",
        "plt.show()\n",
        "     "
      ]
    },
    {
      "cell_type": "code",
      "execution_count": 157,
      "metadata": {
        "colab": {
          "base_uri": "https://localhost:8080/"
        },
        "id": "-3CihuNEOtxR",
        "outputId": "8607d87a-8d28-4e09-85e9-0f594c53efe3"
      },
      "outputs": [
        {
          "name": "stdout",
          "output_type": "stream",
          "text": [
            "Test MSE: 0.24941943890725574\n"
          ]
        }
      ],
      "source": [
        "# Evaluate the LSTM model\n",
        "mse = 0\n",
        "\n",
        "#By wrapping the evaluation code in a with torch.no_grad() context, \n",
        "#you can avoid unnecessary memory usage and speed up the evaluation process.\n",
        "with torch.no_grad():\n",
        "    # Initialize the hidden state and the cell state\n",
        "    # The hidden state and the cell state reset to zero for every epoch\n",
        "    hs = torch.zeros(1, 1, hidden_size)\n",
        "    cs = torch.zeros(1, 1, hidden_size)\n",
        "\n",
        "    for data, label in test_loader:\n",
        "        label = label.view(-1, 1, 1)\n",
        "        hidden = (hs, cs)\n",
        "        embeddings = embed(data)\n",
        "        output, hidden = lstm(embeddings, hidden)\n",
        "        output = fc(hidden[-1])\n",
        "        hs = hs.detach()\n",
        "        cs = cs.detach()\n",
        "        \n",
        "        mse += ((output - label)**2).mean().item()\n",
        "\n",
        "mse /= len(test_loader)\n",
        "print('Test MSE: {}'.format(mse))"
      ]
    },
    {
      "cell_type": "code",
      "execution_count": 158,
      "metadata": {
        "id": "9gbAKmOUYXgG"
      },
      "outputs": [],
      "source": [
        "\n",
        "# Save the trained RNN model\n",
        "torch.save(lstm.state_dict(), 'lstm.pt_adam6')\n"
      ]
    },
    {
      "cell_type": "markdown",
      "metadata": {
        "id": "6j6PbdFAW7BC"
      },
      "source": [
        "###Output: \n",
        "\n",
        "hiden layer = 6 , optimiser = SGD , MSE = 0.225\n",
        "\n",
        "hiden layer = 6 , optimiser = AdamW , MSE = 0.242\n",
        "\n",
        "hiden layer = 3 , optimiser = SGD , MSE = 0.237\n",
        "\n",
        "hiden layer = 3 , optimiser = AdamW , MSE = 0.278\n",
        "\n"
      ]
    },
    {
      "cell_type": "code",
      "execution_count": 159,
      "metadata": {
        "colab": {
          "base_uri": "https://localhost:8080/"
        },
        "id": "vmdi6Obthkzj",
        "outputId": "5fcfa90f-386d-4fb8-de05-9e2c72b207fc"
      },
      "outputs": [
        {
          "data": {
            "text/plain": [
              "<All keys matched successfully>"
            ]
          },
          "execution_count": 159,
          "metadata": {},
          "output_type": "execute_result"
        }
      ],
      "source": [
        "# Load the model\n",
        "rnn = nn.LSTM(input_size, hidden_size, batch_first=True)\n",
        "rnn.load_state_dict(torch.load('lstm.pt_Sgd6'))\n"
      ]
    },
    {
      "cell_type": "code",
      "execution_count": 159,
      "metadata": {
        "id": "1hC7_ijYk6qt"
      },
      "outputs": [],
      "source": []
    }
  ],
  "metadata": {
    "colab": {
      "provenance": []
    },
    "kernelspec": {
      "display_name": "Python 3",
      "name": "python3"
    },
    "language_info": {
      "name": "python"
    }
  },
  "nbformat": 4,
  "nbformat_minor": 0
}
