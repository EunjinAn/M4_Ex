{
  "nbformat": 4,
  "nbformat_minor": 0,
  "metadata": {
    "colab": {
      "provenance": []
    },
    "kernelspec": {
      "name": "python3",
      "display_name": "Python 3"
    },
    "language_info": {
      "name": "python"
    },
    "widgets": {
      "application/vnd.jupyter.widget-state+json": {
        "50a874092a78439aa53758512fabb875": {
          "model_module": "@jupyter-widgets/controls",
          "model_name": "HBoxModel",
          "model_module_version": "1.5.0",
          "state": {
            "_dom_classes": [],
            "_model_module": "@jupyter-widgets/controls",
            "_model_module_version": "1.5.0",
            "_model_name": "HBoxModel",
            "_view_count": null,
            "_view_module": "@jupyter-widgets/controls",
            "_view_module_version": "1.5.0",
            "_view_name": "HBoxView",
            "box_style": "",
            "children": [
              "IPY_MODEL_5556d8365843406ba37dbbb1f077cee9",
              "IPY_MODEL_ac41dbfde9374dec96cf6b72e5d45800",
              "IPY_MODEL_b65b60110de74ab7ad2b904bb602926b"
            ],
            "layout": "IPY_MODEL_cf2e333530c849b6a000b5a170944fab"
          }
        },
        "5556d8365843406ba37dbbb1f077cee9": {
          "model_module": "@jupyter-widgets/controls",
          "model_name": "HTMLModel",
          "model_module_version": "1.5.0",
          "state": {
            "_dom_classes": [],
            "_model_module": "@jupyter-widgets/controls",
            "_model_module_version": "1.5.0",
            "_model_name": "HTMLModel",
            "_view_count": null,
            "_view_module": "@jupyter-widgets/controls",
            "_view_module_version": "1.5.0",
            "_view_name": "HTMLView",
            "description": "",
            "description_tooltip": null,
            "layout": "IPY_MODEL_d6a1609d191a42eda182da577b35f721",
            "placeholder": "​",
            "style": "IPY_MODEL_23d683e0258e406682e96e2755fa51ca",
            "value": "100%"
          }
        },
        "ac41dbfde9374dec96cf6b72e5d45800": {
          "model_module": "@jupyter-widgets/controls",
          "model_name": "FloatProgressModel",
          "model_module_version": "1.5.0",
          "state": {
            "_dom_classes": [],
            "_model_module": "@jupyter-widgets/controls",
            "_model_module_version": "1.5.0",
            "_model_name": "FloatProgressModel",
            "_view_count": null,
            "_view_module": "@jupyter-widgets/controls",
            "_view_module_version": "1.5.0",
            "_view_name": "ProgressView",
            "bar_style": "success",
            "description": "",
            "description_tooltip": null,
            "layout": "IPY_MODEL_70b1872384be4ab091f5ba0a0dacfc33",
            "max": 100,
            "min": 0,
            "orientation": "horizontal",
            "style": "IPY_MODEL_00052c9b270f45519d04b57abdd6521b",
            "value": 100
          }
        },
        "b65b60110de74ab7ad2b904bb602926b": {
          "model_module": "@jupyter-widgets/controls",
          "model_name": "HTMLModel",
          "model_module_version": "1.5.0",
          "state": {
            "_dom_classes": [],
            "_model_module": "@jupyter-widgets/controls",
            "_model_module_version": "1.5.0",
            "_model_name": "HTMLModel",
            "_view_count": null,
            "_view_module": "@jupyter-widgets/controls",
            "_view_module_version": "1.5.0",
            "_view_name": "HTMLView",
            "description": "",
            "description_tooltip": null,
            "layout": "IPY_MODEL_1b180cb92b5c49368ea8e502bcb42360",
            "placeholder": "​",
            "style": "IPY_MODEL_675e96c013674b7ba9c7603d9c78f9c7",
            "value": " 100/100 [05:07&lt;00:00,  2.64s/epoch]"
          }
        },
        "cf2e333530c849b6a000b5a170944fab": {
          "model_module": "@jupyter-widgets/base",
          "model_name": "LayoutModel",
          "model_module_version": "1.2.0",
          "state": {
            "_model_module": "@jupyter-widgets/base",
            "_model_module_version": "1.2.0",
            "_model_name": "LayoutModel",
            "_view_count": null,
            "_view_module": "@jupyter-widgets/base",
            "_view_module_version": "1.2.0",
            "_view_name": "LayoutView",
            "align_content": null,
            "align_items": null,
            "align_self": null,
            "border": null,
            "bottom": null,
            "display": null,
            "flex": null,
            "flex_flow": null,
            "grid_area": null,
            "grid_auto_columns": null,
            "grid_auto_flow": null,
            "grid_auto_rows": null,
            "grid_column": null,
            "grid_gap": null,
            "grid_row": null,
            "grid_template_areas": null,
            "grid_template_columns": null,
            "grid_template_rows": null,
            "height": null,
            "justify_content": null,
            "justify_items": null,
            "left": null,
            "margin": null,
            "max_height": null,
            "max_width": null,
            "min_height": null,
            "min_width": null,
            "object_fit": null,
            "object_position": null,
            "order": null,
            "overflow": null,
            "overflow_x": null,
            "overflow_y": null,
            "padding": null,
            "right": null,
            "top": null,
            "visibility": null,
            "width": null
          }
        },
        "d6a1609d191a42eda182da577b35f721": {
          "model_module": "@jupyter-widgets/base",
          "model_name": "LayoutModel",
          "model_module_version": "1.2.0",
          "state": {
            "_model_module": "@jupyter-widgets/base",
            "_model_module_version": "1.2.0",
            "_model_name": "LayoutModel",
            "_view_count": null,
            "_view_module": "@jupyter-widgets/base",
            "_view_module_version": "1.2.0",
            "_view_name": "LayoutView",
            "align_content": null,
            "align_items": null,
            "align_self": null,
            "border": null,
            "bottom": null,
            "display": null,
            "flex": null,
            "flex_flow": null,
            "grid_area": null,
            "grid_auto_columns": null,
            "grid_auto_flow": null,
            "grid_auto_rows": null,
            "grid_column": null,
            "grid_gap": null,
            "grid_row": null,
            "grid_template_areas": null,
            "grid_template_columns": null,
            "grid_template_rows": null,
            "height": null,
            "justify_content": null,
            "justify_items": null,
            "left": null,
            "margin": null,
            "max_height": null,
            "max_width": null,
            "min_height": null,
            "min_width": null,
            "object_fit": null,
            "object_position": null,
            "order": null,
            "overflow": null,
            "overflow_x": null,
            "overflow_y": null,
            "padding": null,
            "right": null,
            "top": null,
            "visibility": null,
            "width": null
          }
        },
        "23d683e0258e406682e96e2755fa51ca": {
          "model_module": "@jupyter-widgets/controls",
          "model_name": "DescriptionStyleModel",
          "model_module_version": "1.5.0",
          "state": {
            "_model_module": "@jupyter-widgets/controls",
            "_model_module_version": "1.5.0",
            "_model_name": "DescriptionStyleModel",
            "_view_count": null,
            "_view_module": "@jupyter-widgets/base",
            "_view_module_version": "1.2.0",
            "_view_name": "StyleView",
            "description_width": ""
          }
        },
        "70b1872384be4ab091f5ba0a0dacfc33": {
          "model_module": "@jupyter-widgets/base",
          "model_name": "LayoutModel",
          "model_module_version": "1.2.0",
          "state": {
            "_model_module": "@jupyter-widgets/base",
            "_model_module_version": "1.2.0",
            "_model_name": "LayoutModel",
            "_view_count": null,
            "_view_module": "@jupyter-widgets/base",
            "_view_module_version": "1.2.0",
            "_view_name": "LayoutView",
            "align_content": null,
            "align_items": null,
            "align_self": null,
            "border": null,
            "bottom": null,
            "display": null,
            "flex": null,
            "flex_flow": null,
            "grid_area": null,
            "grid_auto_columns": null,
            "grid_auto_flow": null,
            "grid_auto_rows": null,
            "grid_column": null,
            "grid_gap": null,
            "grid_row": null,
            "grid_template_areas": null,
            "grid_template_columns": null,
            "grid_template_rows": null,
            "height": null,
            "justify_content": null,
            "justify_items": null,
            "left": null,
            "margin": null,
            "max_height": null,
            "max_width": null,
            "min_height": null,
            "min_width": null,
            "object_fit": null,
            "object_position": null,
            "order": null,
            "overflow": null,
            "overflow_x": null,
            "overflow_y": null,
            "padding": null,
            "right": null,
            "top": null,
            "visibility": null,
            "width": null
          }
        },
        "00052c9b270f45519d04b57abdd6521b": {
          "model_module": "@jupyter-widgets/controls",
          "model_name": "ProgressStyleModel",
          "model_module_version": "1.5.0",
          "state": {
            "_model_module": "@jupyter-widgets/controls",
            "_model_module_version": "1.5.0",
            "_model_name": "ProgressStyleModel",
            "_view_count": null,
            "_view_module": "@jupyter-widgets/base",
            "_view_module_version": "1.2.0",
            "_view_name": "StyleView",
            "bar_color": null,
            "description_width": ""
          }
        },
        "1b180cb92b5c49368ea8e502bcb42360": {
          "model_module": "@jupyter-widgets/base",
          "model_name": "LayoutModel",
          "model_module_version": "1.2.0",
          "state": {
            "_model_module": "@jupyter-widgets/base",
            "_model_module_version": "1.2.0",
            "_model_name": "LayoutModel",
            "_view_count": null,
            "_view_module": "@jupyter-widgets/base",
            "_view_module_version": "1.2.0",
            "_view_name": "LayoutView",
            "align_content": null,
            "align_items": null,
            "align_self": null,
            "border": null,
            "bottom": null,
            "display": null,
            "flex": null,
            "flex_flow": null,
            "grid_area": null,
            "grid_auto_columns": null,
            "grid_auto_flow": null,
            "grid_auto_rows": null,
            "grid_column": null,
            "grid_gap": null,
            "grid_row": null,
            "grid_template_areas": null,
            "grid_template_columns": null,
            "grid_template_rows": null,
            "height": null,
            "justify_content": null,
            "justify_items": null,
            "left": null,
            "margin": null,
            "max_height": null,
            "max_width": null,
            "min_height": null,
            "min_width": null,
            "object_fit": null,
            "object_position": null,
            "order": null,
            "overflow": null,
            "overflow_x": null,
            "overflow_y": null,
            "padding": null,
            "right": null,
            "top": null,
            "visibility": null,
            "width": null
          }
        },
        "675e96c013674b7ba9c7603d9c78f9c7": {
          "model_module": "@jupyter-widgets/controls",
          "model_name": "DescriptionStyleModel",
          "model_module_version": "1.5.0",
          "state": {
            "_model_module": "@jupyter-widgets/controls",
            "_model_module_version": "1.5.0",
            "_model_name": "DescriptionStyleModel",
            "_view_count": null,
            "_view_module": "@jupyter-widgets/base",
            "_view_module_version": "1.2.0",
            "_view_name": "StyleView",
            "description_width": ""
          }
        },
        "d5ae01a3477a442594772b11964558d7": {
          "model_module": "@jupyter-widgets/controls",
          "model_name": "HBoxModel",
          "model_module_version": "1.5.0",
          "state": {
            "_dom_classes": [],
            "_model_module": "@jupyter-widgets/controls",
            "_model_module_version": "1.5.0",
            "_model_name": "HBoxModel",
            "_view_count": null,
            "_view_module": "@jupyter-widgets/controls",
            "_view_module_version": "1.5.0",
            "_view_name": "HBoxView",
            "box_style": "",
            "children": [
              "IPY_MODEL_ec722094e07a4d6f9311e430a13bb26d",
              "IPY_MODEL_92340b02a71e4ae6aebccaa373e1d04c",
              "IPY_MODEL_6f2147d831b842c7bb4ffaf3e4c996a2"
            ],
            "layout": "IPY_MODEL_bce24b6cc92b49c1a74f5b37f2777d00"
          }
        },
        "ec722094e07a4d6f9311e430a13bb26d": {
          "model_module": "@jupyter-widgets/controls",
          "model_name": "HTMLModel",
          "model_module_version": "1.5.0",
          "state": {
            "_dom_classes": [],
            "_model_module": "@jupyter-widgets/controls",
            "_model_module_version": "1.5.0",
            "_model_name": "HTMLModel",
            "_view_count": null,
            "_view_module": "@jupyter-widgets/controls",
            "_view_module_version": "1.5.0",
            "_view_name": "HTMLView",
            "description": "",
            "description_tooltip": null,
            "layout": "IPY_MODEL_aaaa3d45a4ea4d9bbb855009cfb36590",
            "placeholder": "​",
            "style": "IPY_MODEL_9064ddf89c7145aca854c1885f39ca07",
            "value": "100%"
          }
        },
        "92340b02a71e4ae6aebccaa373e1d04c": {
          "model_module": "@jupyter-widgets/controls",
          "model_name": "FloatProgressModel",
          "model_module_version": "1.5.0",
          "state": {
            "_dom_classes": [],
            "_model_module": "@jupyter-widgets/controls",
            "_model_module_version": "1.5.0",
            "_model_name": "FloatProgressModel",
            "_view_count": null,
            "_view_module": "@jupyter-widgets/controls",
            "_view_module_version": "1.5.0",
            "_view_name": "ProgressView",
            "bar_style": "success",
            "description": "",
            "description_tooltip": null,
            "layout": "IPY_MODEL_91920c338a8f43018dba111424ff7ecd",
            "max": 100,
            "min": 0,
            "orientation": "horizontal",
            "style": "IPY_MODEL_016be17769b34bba8715b9d21eb22936",
            "value": 100
          }
        },
        "6f2147d831b842c7bb4ffaf3e4c996a2": {
          "model_module": "@jupyter-widgets/controls",
          "model_name": "HTMLModel",
          "model_module_version": "1.5.0",
          "state": {
            "_dom_classes": [],
            "_model_module": "@jupyter-widgets/controls",
            "_model_module_version": "1.5.0",
            "_model_name": "HTMLModel",
            "_view_count": null,
            "_view_module": "@jupyter-widgets/controls",
            "_view_module_version": "1.5.0",
            "_view_name": "HTMLView",
            "description": "",
            "description_tooltip": null,
            "layout": "IPY_MODEL_ecdb37e30a7343209cc1f3dd8e8478d6",
            "placeholder": "​",
            "style": "IPY_MODEL_664c73a1a3664778ba46584eaea0bdea",
            "value": " 100/100 [05:34&lt;00:00,  3.22s/epoch]"
          }
        },
        "bce24b6cc92b49c1a74f5b37f2777d00": {
          "model_module": "@jupyter-widgets/base",
          "model_name": "LayoutModel",
          "model_module_version": "1.2.0",
          "state": {
            "_model_module": "@jupyter-widgets/base",
            "_model_module_version": "1.2.0",
            "_model_name": "LayoutModel",
            "_view_count": null,
            "_view_module": "@jupyter-widgets/base",
            "_view_module_version": "1.2.0",
            "_view_name": "LayoutView",
            "align_content": null,
            "align_items": null,
            "align_self": null,
            "border": null,
            "bottom": null,
            "display": null,
            "flex": null,
            "flex_flow": null,
            "grid_area": null,
            "grid_auto_columns": null,
            "grid_auto_flow": null,
            "grid_auto_rows": null,
            "grid_column": null,
            "grid_gap": null,
            "grid_row": null,
            "grid_template_areas": null,
            "grid_template_columns": null,
            "grid_template_rows": null,
            "height": null,
            "justify_content": null,
            "justify_items": null,
            "left": null,
            "margin": null,
            "max_height": null,
            "max_width": null,
            "min_height": null,
            "min_width": null,
            "object_fit": null,
            "object_position": null,
            "order": null,
            "overflow": null,
            "overflow_x": null,
            "overflow_y": null,
            "padding": null,
            "right": null,
            "top": null,
            "visibility": null,
            "width": null
          }
        },
        "aaaa3d45a4ea4d9bbb855009cfb36590": {
          "model_module": "@jupyter-widgets/base",
          "model_name": "LayoutModel",
          "model_module_version": "1.2.0",
          "state": {
            "_model_module": "@jupyter-widgets/base",
            "_model_module_version": "1.2.0",
            "_model_name": "LayoutModel",
            "_view_count": null,
            "_view_module": "@jupyter-widgets/base",
            "_view_module_version": "1.2.0",
            "_view_name": "LayoutView",
            "align_content": null,
            "align_items": null,
            "align_self": null,
            "border": null,
            "bottom": null,
            "display": null,
            "flex": null,
            "flex_flow": null,
            "grid_area": null,
            "grid_auto_columns": null,
            "grid_auto_flow": null,
            "grid_auto_rows": null,
            "grid_column": null,
            "grid_gap": null,
            "grid_row": null,
            "grid_template_areas": null,
            "grid_template_columns": null,
            "grid_template_rows": null,
            "height": null,
            "justify_content": null,
            "justify_items": null,
            "left": null,
            "margin": null,
            "max_height": null,
            "max_width": null,
            "min_height": null,
            "min_width": null,
            "object_fit": null,
            "object_position": null,
            "order": null,
            "overflow": null,
            "overflow_x": null,
            "overflow_y": null,
            "padding": null,
            "right": null,
            "top": null,
            "visibility": null,
            "width": null
          }
        },
        "9064ddf89c7145aca854c1885f39ca07": {
          "model_module": "@jupyter-widgets/controls",
          "model_name": "DescriptionStyleModel",
          "model_module_version": "1.5.0",
          "state": {
            "_model_module": "@jupyter-widgets/controls",
            "_model_module_version": "1.5.0",
            "_model_name": "DescriptionStyleModel",
            "_view_count": null,
            "_view_module": "@jupyter-widgets/base",
            "_view_module_version": "1.2.0",
            "_view_name": "StyleView",
            "description_width": ""
          }
        },
        "91920c338a8f43018dba111424ff7ecd": {
          "model_module": "@jupyter-widgets/base",
          "model_name": "LayoutModel",
          "model_module_version": "1.2.0",
          "state": {
            "_model_module": "@jupyter-widgets/base",
            "_model_module_version": "1.2.0",
            "_model_name": "LayoutModel",
            "_view_count": null,
            "_view_module": "@jupyter-widgets/base",
            "_view_module_version": "1.2.0",
            "_view_name": "LayoutView",
            "align_content": null,
            "align_items": null,
            "align_self": null,
            "border": null,
            "bottom": null,
            "display": null,
            "flex": null,
            "flex_flow": null,
            "grid_area": null,
            "grid_auto_columns": null,
            "grid_auto_flow": null,
            "grid_auto_rows": null,
            "grid_column": null,
            "grid_gap": null,
            "grid_row": null,
            "grid_template_areas": null,
            "grid_template_columns": null,
            "grid_template_rows": null,
            "height": null,
            "justify_content": null,
            "justify_items": null,
            "left": null,
            "margin": null,
            "max_height": null,
            "max_width": null,
            "min_height": null,
            "min_width": null,
            "object_fit": null,
            "object_position": null,
            "order": null,
            "overflow": null,
            "overflow_x": null,
            "overflow_y": null,
            "padding": null,
            "right": null,
            "top": null,
            "visibility": null,
            "width": null
          }
        },
        "016be17769b34bba8715b9d21eb22936": {
          "model_module": "@jupyter-widgets/controls",
          "model_name": "ProgressStyleModel",
          "model_module_version": "1.5.0",
          "state": {
            "_model_module": "@jupyter-widgets/controls",
            "_model_module_version": "1.5.0",
            "_model_name": "ProgressStyleModel",
            "_view_count": null,
            "_view_module": "@jupyter-widgets/base",
            "_view_module_version": "1.2.0",
            "_view_name": "StyleView",
            "bar_color": null,
            "description_width": ""
          }
        },
        "ecdb37e30a7343209cc1f3dd8e8478d6": {
          "model_module": "@jupyter-widgets/base",
          "model_name": "LayoutModel",
          "model_module_version": "1.2.0",
          "state": {
            "_model_module": "@jupyter-widgets/base",
            "_model_module_version": "1.2.0",
            "_model_name": "LayoutModel",
            "_view_count": null,
            "_view_module": "@jupyter-widgets/base",
            "_view_module_version": "1.2.0",
            "_view_name": "LayoutView",
            "align_content": null,
            "align_items": null,
            "align_self": null,
            "border": null,
            "bottom": null,
            "display": null,
            "flex": null,
            "flex_flow": null,
            "grid_area": null,
            "grid_auto_columns": null,
            "grid_auto_flow": null,
            "grid_auto_rows": null,
            "grid_column": null,
            "grid_gap": null,
            "grid_row": null,
            "grid_template_areas": null,
            "grid_template_columns": null,
            "grid_template_rows": null,
            "height": null,
            "justify_content": null,
            "justify_items": null,
            "left": null,
            "margin": null,
            "max_height": null,
            "max_width": null,
            "min_height": null,
            "min_width": null,
            "object_fit": null,
            "object_position": null,
            "order": null,
            "overflow": null,
            "overflow_x": null,
            "overflow_y": null,
            "padding": null,
            "right": null,
            "top": null,
            "visibility": null,
            "width": null
          }
        },
        "664c73a1a3664778ba46584eaea0bdea": {
          "model_module": "@jupyter-widgets/controls",
          "model_name": "DescriptionStyleModel",
          "model_module_version": "1.5.0",
          "state": {
            "_model_module": "@jupyter-widgets/controls",
            "_model_module_version": "1.5.0",
            "_model_name": "DescriptionStyleModel",
            "_view_count": null,
            "_view_module": "@jupyter-widgets/base",
            "_view_module_version": "1.2.0",
            "_view_name": "StyleView",
            "description_width": ""
          }
        },
        "a6c79074b08b4cb3862fb7f86a06a317": {
          "model_module": "@jupyter-widgets/controls",
          "model_name": "HBoxModel",
          "model_module_version": "1.5.0",
          "state": {
            "_dom_classes": [],
            "_model_module": "@jupyter-widgets/controls",
            "_model_module_version": "1.5.0",
            "_model_name": "HBoxModel",
            "_view_count": null,
            "_view_module": "@jupyter-widgets/controls",
            "_view_module_version": "1.5.0",
            "_view_name": "HBoxView",
            "box_style": "",
            "children": [
              "IPY_MODEL_1bbb5d94ef3d41779ade6c9e3ec4680f",
              "IPY_MODEL_3efe8b96e735463e9cec4a5fe97b8b96",
              "IPY_MODEL_7d443f85b83549a08f3111fd1296a707"
            ],
            "layout": "IPY_MODEL_965200e2aa58430eb9f8714f29767963"
          }
        },
        "1bbb5d94ef3d41779ade6c9e3ec4680f": {
          "model_module": "@jupyter-widgets/controls",
          "model_name": "HTMLModel",
          "model_module_version": "1.5.0",
          "state": {
            "_dom_classes": [],
            "_model_module": "@jupyter-widgets/controls",
            "_model_module_version": "1.5.0",
            "_model_name": "HTMLModel",
            "_view_count": null,
            "_view_module": "@jupyter-widgets/controls",
            "_view_module_version": "1.5.0",
            "_view_name": "HTMLView",
            "description": "",
            "description_tooltip": null,
            "layout": "IPY_MODEL_58ee4cbf9b9d4d88990acf11ac254711",
            "placeholder": "​",
            "style": "IPY_MODEL_a94a4202bb06425982baf7d7d1166ad3",
            "value": "100%"
          }
        },
        "3efe8b96e735463e9cec4a5fe97b8b96": {
          "model_module": "@jupyter-widgets/controls",
          "model_name": "FloatProgressModel",
          "model_module_version": "1.5.0",
          "state": {
            "_dom_classes": [],
            "_model_module": "@jupyter-widgets/controls",
            "_model_module_version": "1.5.0",
            "_model_name": "FloatProgressModel",
            "_view_count": null,
            "_view_module": "@jupyter-widgets/controls",
            "_view_module_version": "1.5.0",
            "_view_name": "ProgressView",
            "bar_style": "success",
            "description": "",
            "description_tooltip": null,
            "layout": "IPY_MODEL_461f22916df6466d84e9382a976cb444",
            "max": 100,
            "min": 0,
            "orientation": "horizontal",
            "style": "IPY_MODEL_dfccd2bd49194b6ebf06cb55b1022505",
            "value": 100
          }
        },
        "7d443f85b83549a08f3111fd1296a707": {
          "model_module": "@jupyter-widgets/controls",
          "model_name": "HTMLModel",
          "model_module_version": "1.5.0",
          "state": {
            "_dom_classes": [],
            "_model_module": "@jupyter-widgets/controls",
            "_model_module_version": "1.5.0",
            "_model_name": "HTMLModel",
            "_view_count": null,
            "_view_module": "@jupyter-widgets/controls",
            "_view_module_version": "1.5.0",
            "_view_name": "HTMLView",
            "description": "",
            "description_tooltip": null,
            "layout": "IPY_MODEL_7e2168d6b41642a7ad5d28a175b96e52",
            "placeholder": "​",
            "style": "IPY_MODEL_3ea56a6e216847f3adafdd8cf11b0bbc",
            "value": " 100/100 [04:36&lt;00:00,  2.85s/epoch]"
          }
        },
        "965200e2aa58430eb9f8714f29767963": {
          "model_module": "@jupyter-widgets/base",
          "model_name": "LayoutModel",
          "model_module_version": "1.2.0",
          "state": {
            "_model_module": "@jupyter-widgets/base",
            "_model_module_version": "1.2.0",
            "_model_name": "LayoutModel",
            "_view_count": null,
            "_view_module": "@jupyter-widgets/base",
            "_view_module_version": "1.2.0",
            "_view_name": "LayoutView",
            "align_content": null,
            "align_items": null,
            "align_self": null,
            "border": null,
            "bottom": null,
            "display": null,
            "flex": null,
            "flex_flow": null,
            "grid_area": null,
            "grid_auto_columns": null,
            "grid_auto_flow": null,
            "grid_auto_rows": null,
            "grid_column": null,
            "grid_gap": null,
            "grid_row": null,
            "grid_template_areas": null,
            "grid_template_columns": null,
            "grid_template_rows": null,
            "height": null,
            "justify_content": null,
            "justify_items": null,
            "left": null,
            "margin": null,
            "max_height": null,
            "max_width": null,
            "min_height": null,
            "min_width": null,
            "object_fit": null,
            "object_position": null,
            "order": null,
            "overflow": null,
            "overflow_x": null,
            "overflow_y": null,
            "padding": null,
            "right": null,
            "top": null,
            "visibility": null,
            "width": null
          }
        },
        "58ee4cbf9b9d4d88990acf11ac254711": {
          "model_module": "@jupyter-widgets/base",
          "model_name": "LayoutModel",
          "model_module_version": "1.2.0",
          "state": {
            "_model_module": "@jupyter-widgets/base",
            "_model_module_version": "1.2.0",
            "_model_name": "LayoutModel",
            "_view_count": null,
            "_view_module": "@jupyter-widgets/base",
            "_view_module_version": "1.2.0",
            "_view_name": "LayoutView",
            "align_content": null,
            "align_items": null,
            "align_self": null,
            "border": null,
            "bottom": null,
            "display": null,
            "flex": null,
            "flex_flow": null,
            "grid_area": null,
            "grid_auto_columns": null,
            "grid_auto_flow": null,
            "grid_auto_rows": null,
            "grid_column": null,
            "grid_gap": null,
            "grid_row": null,
            "grid_template_areas": null,
            "grid_template_columns": null,
            "grid_template_rows": null,
            "height": null,
            "justify_content": null,
            "justify_items": null,
            "left": null,
            "margin": null,
            "max_height": null,
            "max_width": null,
            "min_height": null,
            "min_width": null,
            "object_fit": null,
            "object_position": null,
            "order": null,
            "overflow": null,
            "overflow_x": null,
            "overflow_y": null,
            "padding": null,
            "right": null,
            "top": null,
            "visibility": null,
            "width": null
          }
        },
        "a94a4202bb06425982baf7d7d1166ad3": {
          "model_module": "@jupyter-widgets/controls",
          "model_name": "DescriptionStyleModel",
          "model_module_version": "1.5.0",
          "state": {
            "_model_module": "@jupyter-widgets/controls",
            "_model_module_version": "1.5.0",
            "_model_name": "DescriptionStyleModel",
            "_view_count": null,
            "_view_module": "@jupyter-widgets/base",
            "_view_module_version": "1.2.0",
            "_view_name": "StyleView",
            "description_width": ""
          }
        },
        "461f22916df6466d84e9382a976cb444": {
          "model_module": "@jupyter-widgets/base",
          "model_name": "LayoutModel",
          "model_module_version": "1.2.0",
          "state": {
            "_model_module": "@jupyter-widgets/base",
            "_model_module_version": "1.2.0",
            "_model_name": "LayoutModel",
            "_view_count": null,
            "_view_module": "@jupyter-widgets/base",
            "_view_module_version": "1.2.0",
            "_view_name": "LayoutView",
            "align_content": null,
            "align_items": null,
            "align_self": null,
            "border": null,
            "bottom": null,
            "display": null,
            "flex": null,
            "flex_flow": null,
            "grid_area": null,
            "grid_auto_columns": null,
            "grid_auto_flow": null,
            "grid_auto_rows": null,
            "grid_column": null,
            "grid_gap": null,
            "grid_row": null,
            "grid_template_areas": null,
            "grid_template_columns": null,
            "grid_template_rows": null,
            "height": null,
            "justify_content": null,
            "justify_items": null,
            "left": null,
            "margin": null,
            "max_height": null,
            "max_width": null,
            "min_height": null,
            "min_width": null,
            "object_fit": null,
            "object_position": null,
            "order": null,
            "overflow": null,
            "overflow_x": null,
            "overflow_y": null,
            "padding": null,
            "right": null,
            "top": null,
            "visibility": null,
            "width": null
          }
        },
        "dfccd2bd49194b6ebf06cb55b1022505": {
          "model_module": "@jupyter-widgets/controls",
          "model_name": "ProgressStyleModel",
          "model_module_version": "1.5.0",
          "state": {
            "_model_module": "@jupyter-widgets/controls",
            "_model_module_version": "1.5.0",
            "_model_name": "ProgressStyleModel",
            "_view_count": null,
            "_view_module": "@jupyter-widgets/base",
            "_view_module_version": "1.2.0",
            "_view_name": "StyleView",
            "bar_color": null,
            "description_width": ""
          }
        },
        "7e2168d6b41642a7ad5d28a175b96e52": {
          "model_module": "@jupyter-widgets/base",
          "model_name": "LayoutModel",
          "model_module_version": "1.2.0",
          "state": {
            "_model_module": "@jupyter-widgets/base",
            "_model_module_version": "1.2.0",
            "_model_name": "LayoutModel",
            "_view_count": null,
            "_view_module": "@jupyter-widgets/base",
            "_view_module_version": "1.2.0",
            "_view_name": "LayoutView",
            "align_content": null,
            "align_items": null,
            "align_self": null,
            "border": null,
            "bottom": null,
            "display": null,
            "flex": null,
            "flex_flow": null,
            "grid_area": null,
            "grid_auto_columns": null,
            "grid_auto_flow": null,
            "grid_auto_rows": null,
            "grid_column": null,
            "grid_gap": null,
            "grid_row": null,
            "grid_template_areas": null,
            "grid_template_columns": null,
            "grid_template_rows": null,
            "height": null,
            "justify_content": null,
            "justify_items": null,
            "left": null,
            "margin": null,
            "max_height": null,
            "max_width": null,
            "min_height": null,
            "min_width": null,
            "object_fit": null,
            "object_position": null,
            "order": null,
            "overflow": null,
            "overflow_x": null,
            "overflow_y": null,
            "padding": null,
            "right": null,
            "top": null,
            "visibility": null,
            "width": null
          }
        },
        "3ea56a6e216847f3adafdd8cf11b0bbc": {
          "model_module": "@jupyter-widgets/controls",
          "model_name": "DescriptionStyleModel",
          "model_module_version": "1.5.0",
          "state": {
            "_model_module": "@jupyter-widgets/controls",
            "_model_module_version": "1.5.0",
            "_model_name": "DescriptionStyleModel",
            "_view_count": null,
            "_view_module": "@jupyter-widgets/base",
            "_view_module_version": "1.2.0",
            "_view_name": "StyleView",
            "description_width": ""
          }
        },
        "41084e2755f04089a33bd31cb1cf5df0": {
          "model_module": "@jupyter-widgets/controls",
          "model_name": "HBoxModel",
          "model_module_version": "1.5.0",
          "state": {
            "_dom_classes": [],
            "_model_module": "@jupyter-widgets/controls",
            "_model_module_version": "1.5.0",
            "_model_name": "HBoxModel",
            "_view_count": null,
            "_view_module": "@jupyter-widgets/controls",
            "_view_module_version": "1.5.0",
            "_view_name": "HBoxView",
            "box_style": "",
            "children": [
              "IPY_MODEL_4c99e3ea8b464483ae8f2f91dec3260b",
              "IPY_MODEL_a46840e335a14bdcb44e878ac1aa6517",
              "IPY_MODEL_0d19589a22ff426983a07c80ac37ad39"
            ],
            "layout": "IPY_MODEL_c42cd1d3cbdb498280b4c5a860a93bc1"
          }
        },
        "4c99e3ea8b464483ae8f2f91dec3260b": {
          "model_module": "@jupyter-widgets/controls",
          "model_name": "HTMLModel",
          "model_module_version": "1.5.0",
          "state": {
            "_dom_classes": [],
            "_model_module": "@jupyter-widgets/controls",
            "_model_module_version": "1.5.0",
            "_model_name": "HTMLModel",
            "_view_count": null,
            "_view_module": "@jupyter-widgets/controls",
            "_view_module_version": "1.5.0",
            "_view_name": "HTMLView",
            "description": "",
            "description_tooltip": null,
            "layout": "IPY_MODEL_fed769cb2df243218146caf8e66e90c1",
            "placeholder": "​",
            "style": "IPY_MODEL_e628d27f2b0346f18b27223d966ec818",
            "value": "100%"
          }
        },
        "a46840e335a14bdcb44e878ac1aa6517": {
          "model_module": "@jupyter-widgets/controls",
          "model_name": "FloatProgressModel",
          "model_module_version": "1.5.0",
          "state": {
            "_dom_classes": [],
            "_model_module": "@jupyter-widgets/controls",
            "_model_module_version": "1.5.0",
            "_model_name": "FloatProgressModel",
            "_view_count": null,
            "_view_module": "@jupyter-widgets/controls",
            "_view_module_version": "1.5.0",
            "_view_name": "ProgressView",
            "bar_style": "success",
            "description": "",
            "description_tooltip": null,
            "layout": "IPY_MODEL_7238629d9a0f4c748c3e797372cd7f95",
            "max": 100,
            "min": 0,
            "orientation": "horizontal",
            "style": "IPY_MODEL_e348415593e1414ab10713f4c719adae",
            "value": 100
          }
        },
        "0d19589a22ff426983a07c80ac37ad39": {
          "model_module": "@jupyter-widgets/controls",
          "model_name": "HTMLModel",
          "model_module_version": "1.5.0",
          "state": {
            "_dom_classes": [],
            "_model_module": "@jupyter-widgets/controls",
            "_model_module_version": "1.5.0",
            "_model_name": "HTMLModel",
            "_view_count": null,
            "_view_module": "@jupyter-widgets/controls",
            "_view_module_version": "1.5.0",
            "_view_name": "HTMLView",
            "description": "",
            "description_tooltip": null,
            "layout": "IPY_MODEL_c244b7e564574fcc9636acaaf297c9ad",
            "placeholder": "​",
            "style": "IPY_MODEL_c9816a0cf29b4baab3629d027f4db955",
            "value": " 100/100 [05:05&lt;00:00,  2.74s/epoch]"
          }
        },
        "c42cd1d3cbdb498280b4c5a860a93bc1": {
          "model_module": "@jupyter-widgets/base",
          "model_name": "LayoutModel",
          "model_module_version": "1.2.0",
          "state": {
            "_model_module": "@jupyter-widgets/base",
            "_model_module_version": "1.2.0",
            "_model_name": "LayoutModel",
            "_view_count": null,
            "_view_module": "@jupyter-widgets/base",
            "_view_module_version": "1.2.0",
            "_view_name": "LayoutView",
            "align_content": null,
            "align_items": null,
            "align_self": null,
            "border": null,
            "bottom": null,
            "display": null,
            "flex": null,
            "flex_flow": null,
            "grid_area": null,
            "grid_auto_columns": null,
            "grid_auto_flow": null,
            "grid_auto_rows": null,
            "grid_column": null,
            "grid_gap": null,
            "grid_row": null,
            "grid_template_areas": null,
            "grid_template_columns": null,
            "grid_template_rows": null,
            "height": null,
            "justify_content": null,
            "justify_items": null,
            "left": null,
            "margin": null,
            "max_height": null,
            "max_width": null,
            "min_height": null,
            "min_width": null,
            "object_fit": null,
            "object_position": null,
            "order": null,
            "overflow": null,
            "overflow_x": null,
            "overflow_y": null,
            "padding": null,
            "right": null,
            "top": null,
            "visibility": null,
            "width": null
          }
        },
        "fed769cb2df243218146caf8e66e90c1": {
          "model_module": "@jupyter-widgets/base",
          "model_name": "LayoutModel",
          "model_module_version": "1.2.0",
          "state": {
            "_model_module": "@jupyter-widgets/base",
            "_model_module_version": "1.2.0",
            "_model_name": "LayoutModel",
            "_view_count": null,
            "_view_module": "@jupyter-widgets/base",
            "_view_module_version": "1.2.0",
            "_view_name": "LayoutView",
            "align_content": null,
            "align_items": null,
            "align_self": null,
            "border": null,
            "bottom": null,
            "display": null,
            "flex": null,
            "flex_flow": null,
            "grid_area": null,
            "grid_auto_columns": null,
            "grid_auto_flow": null,
            "grid_auto_rows": null,
            "grid_column": null,
            "grid_gap": null,
            "grid_row": null,
            "grid_template_areas": null,
            "grid_template_columns": null,
            "grid_template_rows": null,
            "height": null,
            "justify_content": null,
            "justify_items": null,
            "left": null,
            "margin": null,
            "max_height": null,
            "max_width": null,
            "min_height": null,
            "min_width": null,
            "object_fit": null,
            "object_position": null,
            "order": null,
            "overflow": null,
            "overflow_x": null,
            "overflow_y": null,
            "padding": null,
            "right": null,
            "top": null,
            "visibility": null,
            "width": null
          }
        },
        "e628d27f2b0346f18b27223d966ec818": {
          "model_module": "@jupyter-widgets/controls",
          "model_name": "DescriptionStyleModel",
          "model_module_version": "1.5.0",
          "state": {
            "_model_module": "@jupyter-widgets/controls",
            "_model_module_version": "1.5.0",
            "_model_name": "DescriptionStyleModel",
            "_view_count": null,
            "_view_module": "@jupyter-widgets/base",
            "_view_module_version": "1.2.0",
            "_view_name": "StyleView",
            "description_width": ""
          }
        },
        "7238629d9a0f4c748c3e797372cd7f95": {
          "model_module": "@jupyter-widgets/base",
          "model_name": "LayoutModel",
          "model_module_version": "1.2.0",
          "state": {
            "_model_module": "@jupyter-widgets/base",
            "_model_module_version": "1.2.0",
            "_model_name": "LayoutModel",
            "_view_count": null,
            "_view_module": "@jupyter-widgets/base",
            "_view_module_version": "1.2.0",
            "_view_name": "LayoutView",
            "align_content": null,
            "align_items": null,
            "align_self": null,
            "border": null,
            "bottom": null,
            "display": null,
            "flex": null,
            "flex_flow": null,
            "grid_area": null,
            "grid_auto_columns": null,
            "grid_auto_flow": null,
            "grid_auto_rows": null,
            "grid_column": null,
            "grid_gap": null,
            "grid_row": null,
            "grid_template_areas": null,
            "grid_template_columns": null,
            "grid_template_rows": null,
            "height": null,
            "justify_content": null,
            "justify_items": null,
            "left": null,
            "margin": null,
            "max_height": null,
            "max_width": null,
            "min_height": null,
            "min_width": null,
            "object_fit": null,
            "object_position": null,
            "order": null,
            "overflow": null,
            "overflow_x": null,
            "overflow_y": null,
            "padding": null,
            "right": null,
            "top": null,
            "visibility": null,
            "width": null
          }
        },
        "e348415593e1414ab10713f4c719adae": {
          "model_module": "@jupyter-widgets/controls",
          "model_name": "ProgressStyleModel",
          "model_module_version": "1.5.0",
          "state": {
            "_model_module": "@jupyter-widgets/controls",
            "_model_module_version": "1.5.0",
            "_model_name": "ProgressStyleModel",
            "_view_count": null,
            "_view_module": "@jupyter-widgets/base",
            "_view_module_version": "1.2.0",
            "_view_name": "StyleView",
            "bar_color": null,
            "description_width": ""
          }
        },
        "c244b7e564574fcc9636acaaf297c9ad": {
          "model_module": "@jupyter-widgets/base",
          "model_name": "LayoutModel",
          "model_module_version": "1.2.0",
          "state": {
            "_model_module": "@jupyter-widgets/base",
            "_model_module_version": "1.2.0",
            "_model_name": "LayoutModel",
            "_view_count": null,
            "_view_module": "@jupyter-widgets/base",
            "_view_module_version": "1.2.0",
            "_view_name": "LayoutView",
            "align_content": null,
            "align_items": null,
            "align_self": null,
            "border": null,
            "bottom": null,
            "display": null,
            "flex": null,
            "flex_flow": null,
            "grid_area": null,
            "grid_auto_columns": null,
            "grid_auto_flow": null,
            "grid_auto_rows": null,
            "grid_column": null,
            "grid_gap": null,
            "grid_row": null,
            "grid_template_areas": null,
            "grid_template_columns": null,
            "grid_template_rows": null,
            "height": null,
            "justify_content": null,
            "justify_items": null,
            "left": null,
            "margin": null,
            "max_height": null,
            "max_width": null,
            "min_height": null,
            "min_width": null,
            "object_fit": null,
            "object_position": null,
            "order": null,
            "overflow": null,
            "overflow_x": null,
            "overflow_y": null,
            "padding": null,
            "right": null,
            "top": null,
            "visibility": null,
            "width": null
          }
        },
        "c9816a0cf29b4baab3629d027f4db955": {
          "model_module": "@jupyter-widgets/controls",
          "model_name": "DescriptionStyleModel",
          "model_module_version": "1.5.0",
          "state": {
            "_model_module": "@jupyter-widgets/controls",
            "_model_module_version": "1.5.0",
            "_model_name": "DescriptionStyleModel",
            "_view_count": null,
            "_view_module": "@jupyter-widgets/base",
            "_view_module_version": "1.2.0",
            "_view_name": "StyleView",
            "description_width": ""
          }
        },
        "d19f65534a5c49e98472108e10945f46": {
          "model_module": "@jupyter-widgets/controls",
          "model_name": "HBoxModel",
          "model_module_version": "1.5.0",
          "state": {
            "_dom_classes": [],
            "_model_module": "@jupyter-widgets/controls",
            "_model_module_version": "1.5.0",
            "_model_name": "HBoxModel",
            "_view_count": null,
            "_view_module": "@jupyter-widgets/controls",
            "_view_module_version": "1.5.0",
            "_view_name": "HBoxView",
            "box_style": "",
            "children": [
              "IPY_MODEL_258f694e296c479ea7db8fbab247d04b",
              "IPY_MODEL_a49a10ce21b44b9ea7d46ac71ee72f71",
              "IPY_MODEL_183a565725ad4d0f8b19ceed424a2a05"
            ],
            "layout": "IPY_MODEL_90a1562a8c0f4a889b2ff70bc7a9ba02"
          }
        },
        "258f694e296c479ea7db8fbab247d04b": {
          "model_module": "@jupyter-widgets/controls",
          "model_name": "HTMLModel",
          "model_module_version": "1.5.0",
          "state": {
            "_dom_classes": [],
            "_model_module": "@jupyter-widgets/controls",
            "_model_module_version": "1.5.0",
            "_model_name": "HTMLModel",
            "_view_count": null,
            "_view_module": "@jupyter-widgets/controls",
            "_view_module_version": "1.5.0",
            "_view_name": "HTMLView",
            "description": "",
            "description_tooltip": null,
            "layout": "IPY_MODEL_9dc0331ebe5b4d2683392dfa1f182df2",
            "placeholder": "​",
            "style": "IPY_MODEL_f095806794c24f2581443f71e5e6d125",
            "value": "100%"
          }
        },
        "a49a10ce21b44b9ea7d46ac71ee72f71": {
          "model_module": "@jupyter-widgets/controls",
          "model_name": "FloatProgressModel",
          "model_module_version": "1.5.0",
          "state": {
            "_dom_classes": [],
            "_model_module": "@jupyter-widgets/controls",
            "_model_module_version": "1.5.0",
            "_model_name": "FloatProgressModel",
            "_view_count": null,
            "_view_module": "@jupyter-widgets/controls",
            "_view_module_version": "1.5.0",
            "_view_name": "ProgressView",
            "bar_style": "success",
            "description": "",
            "description_tooltip": null,
            "layout": "IPY_MODEL_71aaa4995efe474db6b60dcdad8f88d9",
            "max": 100,
            "min": 0,
            "orientation": "horizontal",
            "style": "IPY_MODEL_eaf8c796563149faa803002ab74f78a4",
            "value": 100
          }
        },
        "183a565725ad4d0f8b19ceed424a2a05": {
          "model_module": "@jupyter-widgets/controls",
          "model_name": "HTMLModel",
          "model_module_version": "1.5.0",
          "state": {
            "_dom_classes": [],
            "_model_module": "@jupyter-widgets/controls",
            "_model_module_version": "1.5.0",
            "_model_name": "HTMLModel",
            "_view_count": null,
            "_view_module": "@jupyter-widgets/controls",
            "_view_module_version": "1.5.0",
            "_view_name": "HTMLView",
            "description": "",
            "description_tooltip": null,
            "layout": "IPY_MODEL_88bd71f177b44766a2bd06ad460fb7cd",
            "placeholder": "​",
            "style": "IPY_MODEL_a7e89fa8efc54707888a1886af2c3289",
            "value": " 100/100 [05:02&lt;00:00,  3.34s/epoch]"
          }
        },
        "90a1562a8c0f4a889b2ff70bc7a9ba02": {
          "model_module": "@jupyter-widgets/base",
          "model_name": "LayoutModel",
          "model_module_version": "1.2.0",
          "state": {
            "_model_module": "@jupyter-widgets/base",
            "_model_module_version": "1.2.0",
            "_model_name": "LayoutModel",
            "_view_count": null,
            "_view_module": "@jupyter-widgets/base",
            "_view_module_version": "1.2.0",
            "_view_name": "LayoutView",
            "align_content": null,
            "align_items": null,
            "align_self": null,
            "border": null,
            "bottom": null,
            "display": null,
            "flex": null,
            "flex_flow": null,
            "grid_area": null,
            "grid_auto_columns": null,
            "grid_auto_flow": null,
            "grid_auto_rows": null,
            "grid_column": null,
            "grid_gap": null,
            "grid_row": null,
            "grid_template_areas": null,
            "grid_template_columns": null,
            "grid_template_rows": null,
            "height": null,
            "justify_content": null,
            "justify_items": null,
            "left": null,
            "margin": null,
            "max_height": null,
            "max_width": null,
            "min_height": null,
            "min_width": null,
            "object_fit": null,
            "object_position": null,
            "order": null,
            "overflow": null,
            "overflow_x": null,
            "overflow_y": null,
            "padding": null,
            "right": null,
            "top": null,
            "visibility": null,
            "width": null
          }
        },
        "9dc0331ebe5b4d2683392dfa1f182df2": {
          "model_module": "@jupyter-widgets/base",
          "model_name": "LayoutModel",
          "model_module_version": "1.2.0",
          "state": {
            "_model_module": "@jupyter-widgets/base",
            "_model_module_version": "1.2.0",
            "_model_name": "LayoutModel",
            "_view_count": null,
            "_view_module": "@jupyter-widgets/base",
            "_view_module_version": "1.2.0",
            "_view_name": "LayoutView",
            "align_content": null,
            "align_items": null,
            "align_self": null,
            "border": null,
            "bottom": null,
            "display": null,
            "flex": null,
            "flex_flow": null,
            "grid_area": null,
            "grid_auto_columns": null,
            "grid_auto_flow": null,
            "grid_auto_rows": null,
            "grid_column": null,
            "grid_gap": null,
            "grid_row": null,
            "grid_template_areas": null,
            "grid_template_columns": null,
            "grid_template_rows": null,
            "height": null,
            "justify_content": null,
            "justify_items": null,
            "left": null,
            "margin": null,
            "max_height": null,
            "max_width": null,
            "min_height": null,
            "min_width": null,
            "object_fit": null,
            "object_position": null,
            "order": null,
            "overflow": null,
            "overflow_x": null,
            "overflow_y": null,
            "padding": null,
            "right": null,
            "top": null,
            "visibility": null,
            "width": null
          }
        },
        "f095806794c24f2581443f71e5e6d125": {
          "model_module": "@jupyter-widgets/controls",
          "model_name": "DescriptionStyleModel",
          "model_module_version": "1.5.0",
          "state": {
            "_model_module": "@jupyter-widgets/controls",
            "_model_module_version": "1.5.0",
            "_model_name": "DescriptionStyleModel",
            "_view_count": null,
            "_view_module": "@jupyter-widgets/base",
            "_view_module_version": "1.2.0",
            "_view_name": "StyleView",
            "description_width": ""
          }
        },
        "71aaa4995efe474db6b60dcdad8f88d9": {
          "model_module": "@jupyter-widgets/base",
          "model_name": "LayoutModel",
          "model_module_version": "1.2.0",
          "state": {
            "_model_module": "@jupyter-widgets/base",
            "_model_module_version": "1.2.0",
            "_model_name": "LayoutModel",
            "_view_count": null,
            "_view_module": "@jupyter-widgets/base",
            "_view_module_version": "1.2.0",
            "_view_name": "LayoutView",
            "align_content": null,
            "align_items": null,
            "align_self": null,
            "border": null,
            "bottom": null,
            "display": null,
            "flex": null,
            "flex_flow": null,
            "grid_area": null,
            "grid_auto_columns": null,
            "grid_auto_flow": null,
            "grid_auto_rows": null,
            "grid_column": null,
            "grid_gap": null,
            "grid_row": null,
            "grid_template_areas": null,
            "grid_template_columns": null,
            "grid_template_rows": null,
            "height": null,
            "justify_content": null,
            "justify_items": null,
            "left": null,
            "margin": null,
            "max_height": null,
            "max_width": null,
            "min_height": null,
            "min_width": null,
            "object_fit": null,
            "object_position": null,
            "order": null,
            "overflow": null,
            "overflow_x": null,
            "overflow_y": null,
            "padding": null,
            "right": null,
            "top": null,
            "visibility": null,
            "width": null
          }
        },
        "eaf8c796563149faa803002ab74f78a4": {
          "model_module": "@jupyter-widgets/controls",
          "model_name": "ProgressStyleModel",
          "model_module_version": "1.5.0",
          "state": {
            "_model_module": "@jupyter-widgets/controls",
            "_model_module_version": "1.5.0",
            "_model_name": "ProgressStyleModel",
            "_view_count": null,
            "_view_module": "@jupyter-widgets/base",
            "_view_module_version": "1.2.0",
            "_view_name": "StyleView",
            "bar_color": null,
            "description_width": ""
          }
        },
        "88bd71f177b44766a2bd06ad460fb7cd": {
          "model_module": "@jupyter-widgets/base",
          "model_name": "LayoutModel",
          "model_module_version": "1.2.0",
          "state": {
            "_model_module": "@jupyter-widgets/base",
            "_model_module_version": "1.2.0",
            "_model_name": "LayoutModel",
            "_view_count": null,
            "_view_module": "@jupyter-widgets/base",
            "_view_module_version": "1.2.0",
            "_view_name": "LayoutView",
            "align_content": null,
            "align_items": null,
            "align_self": null,
            "border": null,
            "bottom": null,
            "display": null,
            "flex": null,
            "flex_flow": null,
            "grid_area": null,
            "grid_auto_columns": null,
            "grid_auto_flow": null,
            "grid_auto_rows": null,
            "grid_column": null,
            "grid_gap": null,
            "grid_row": null,
            "grid_template_areas": null,
            "grid_template_columns": null,
            "grid_template_rows": null,
            "height": null,
            "justify_content": null,
            "justify_items": null,
            "left": null,
            "margin": null,
            "max_height": null,
            "max_width": null,
            "min_height": null,
            "min_width": null,
            "object_fit": null,
            "object_position": null,
            "order": null,
            "overflow": null,
            "overflow_x": null,
            "overflow_y": null,
            "padding": null,
            "right": null,
            "top": null,
            "visibility": null,
            "width": null
          }
        },
        "a7e89fa8efc54707888a1886af2c3289": {
          "model_module": "@jupyter-widgets/controls",
          "model_name": "DescriptionStyleModel",
          "model_module_version": "1.5.0",
          "state": {
            "_model_module": "@jupyter-widgets/controls",
            "_model_module_version": "1.5.0",
            "_model_name": "DescriptionStyleModel",
            "_view_count": null,
            "_view_module": "@jupyter-widgets/base",
            "_view_module_version": "1.2.0",
            "_view_name": "StyleView",
            "description_width": ""
          }
        },
        "14f2212a569940a3932385e35eab3d7c": {
          "model_module": "@jupyter-widgets/controls",
          "model_name": "HBoxModel",
          "model_module_version": "1.5.0",
          "state": {
            "_dom_classes": [],
            "_model_module": "@jupyter-widgets/controls",
            "_model_module_version": "1.5.0",
            "_model_name": "HBoxModel",
            "_view_count": null,
            "_view_module": "@jupyter-widgets/controls",
            "_view_module_version": "1.5.0",
            "_view_name": "HBoxView",
            "box_style": "",
            "children": [
              "IPY_MODEL_2dbf7e48e11d4d9ba645af2740edc0c8",
              "IPY_MODEL_ec06eb0c50964b10bd220769468b3fb1",
              "IPY_MODEL_df7fd33d6d724be29dbd96e14f11457e"
            ],
            "layout": "IPY_MODEL_43d7478a6bb145adaa41fbe5ddb5104f"
          }
        },
        "2dbf7e48e11d4d9ba645af2740edc0c8": {
          "model_module": "@jupyter-widgets/controls",
          "model_name": "HTMLModel",
          "model_module_version": "1.5.0",
          "state": {
            "_dom_classes": [],
            "_model_module": "@jupyter-widgets/controls",
            "_model_module_version": "1.5.0",
            "_model_name": "HTMLModel",
            "_view_count": null,
            "_view_module": "@jupyter-widgets/controls",
            "_view_module_version": "1.5.0",
            "_view_name": "HTMLView",
            "description": "",
            "description_tooltip": null,
            "layout": "IPY_MODEL_3d130be0ae1342d69d0ca85b62a09a9d",
            "placeholder": "​",
            "style": "IPY_MODEL_f0f119933eba410181c5bee0e2584d92",
            "value": "100%"
          }
        },
        "ec06eb0c50964b10bd220769468b3fb1": {
          "model_module": "@jupyter-widgets/controls",
          "model_name": "FloatProgressModel",
          "model_module_version": "1.5.0",
          "state": {
            "_dom_classes": [],
            "_model_module": "@jupyter-widgets/controls",
            "_model_module_version": "1.5.0",
            "_model_name": "FloatProgressModel",
            "_view_count": null,
            "_view_module": "@jupyter-widgets/controls",
            "_view_module_version": "1.5.0",
            "_view_name": "ProgressView",
            "bar_style": "success",
            "description": "",
            "description_tooltip": null,
            "layout": "IPY_MODEL_b3ec6eca3d7b480fbbb77939433e65dd",
            "max": 100,
            "min": 0,
            "orientation": "horizontal",
            "style": "IPY_MODEL_eb6ba21ea6724f7eb23851513d0e4eac",
            "value": 100
          }
        },
        "df7fd33d6d724be29dbd96e14f11457e": {
          "model_module": "@jupyter-widgets/controls",
          "model_name": "HTMLModel",
          "model_module_version": "1.5.0",
          "state": {
            "_dom_classes": [],
            "_model_module": "@jupyter-widgets/controls",
            "_model_module_version": "1.5.0",
            "_model_name": "HTMLModel",
            "_view_count": null,
            "_view_module": "@jupyter-widgets/controls",
            "_view_module_version": "1.5.0",
            "_view_name": "HTMLView",
            "description": "",
            "description_tooltip": null,
            "layout": "IPY_MODEL_c4749bf0f9564875a50784c3b1ea4c07",
            "placeholder": "​",
            "style": "IPY_MODEL_d7db32732fb24b4daa54f08158ab2139",
            "value": " 100/100 [06:01&lt;00:00,  3.67s/epoch]"
          }
        },
        "43d7478a6bb145adaa41fbe5ddb5104f": {
          "model_module": "@jupyter-widgets/base",
          "model_name": "LayoutModel",
          "model_module_version": "1.2.0",
          "state": {
            "_model_module": "@jupyter-widgets/base",
            "_model_module_version": "1.2.0",
            "_model_name": "LayoutModel",
            "_view_count": null,
            "_view_module": "@jupyter-widgets/base",
            "_view_module_version": "1.2.0",
            "_view_name": "LayoutView",
            "align_content": null,
            "align_items": null,
            "align_self": null,
            "border": null,
            "bottom": null,
            "display": null,
            "flex": null,
            "flex_flow": null,
            "grid_area": null,
            "grid_auto_columns": null,
            "grid_auto_flow": null,
            "grid_auto_rows": null,
            "grid_column": null,
            "grid_gap": null,
            "grid_row": null,
            "grid_template_areas": null,
            "grid_template_columns": null,
            "grid_template_rows": null,
            "height": null,
            "justify_content": null,
            "justify_items": null,
            "left": null,
            "margin": null,
            "max_height": null,
            "max_width": null,
            "min_height": null,
            "min_width": null,
            "object_fit": null,
            "object_position": null,
            "order": null,
            "overflow": null,
            "overflow_x": null,
            "overflow_y": null,
            "padding": null,
            "right": null,
            "top": null,
            "visibility": null,
            "width": null
          }
        },
        "3d130be0ae1342d69d0ca85b62a09a9d": {
          "model_module": "@jupyter-widgets/base",
          "model_name": "LayoutModel",
          "model_module_version": "1.2.0",
          "state": {
            "_model_module": "@jupyter-widgets/base",
            "_model_module_version": "1.2.0",
            "_model_name": "LayoutModel",
            "_view_count": null,
            "_view_module": "@jupyter-widgets/base",
            "_view_module_version": "1.2.0",
            "_view_name": "LayoutView",
            "align_content": null,
            "align_items": null,
            "align_self": null,
            "border": null,
            "bottom": null,
            "display": null,
            "flex": null,
            "flex_flow": null,
            "grid_area": null,
            "grid_auto_columns": null,
            "grid_auto_flow": null,
            "grid_auto_rows": null,
            "grid_column": null,
            "grid_gap": null,
            "grid_row": null,
            "grid_template_areas": null,
            "grid_template_columns": null,
            "grid_template_rows": null,
            "height": null,
            "justify_content": null,
            "justify_items": null,
            "left": null,
            "margin": null,
            "max_height": null,
            "max_width": null,
            "min_height": null,
            "min_width": null,
            "object_fit": null,
            "object_position": null,
            "order": null,
            "overflow": null,
            "overflow_x": null,
            "overflow_y": null,
            "padding": null,
            "right": null,
            "top": null,
            "visibility": null,
            "width": null
          }
        },
        "f0f119933eba410181c5bee0e2584d92": {
          "model_module": "@jupyter-widgets/controls",
          "model_name": "DescriptionStyleModel",
          "model_module_version": "1.5.0",
          "state": {
            "_model_module": "@jupyter-widgets/controls",
            "_model_module_version": "1.5.0",
            "_model_name": "DescriptionStyleModel",
            "_view_count": null,
            "_view_module": "@jupyter-widgets/base",
            "_view_module_version": "1.2.0",
            "_view_name": "StyleView",
            "description_width": ""
          }
        },
        "b3ec6eca3d7b480fbbb77939433e65dd": {
          "model_module": "@jupyter-widgets/base",
          "model_name": "LayoutModel",
          "model_module_version": "1.2.0",
          "state": {
            "_model_module": "@jupyter-widgets/base",
            "_model_module_version": "1.2.0",
            "_model_name": "LayoutModel",
            "_view_count": null,
            "_view_module": "@jupyter-widgets/base",
            "_view_module_version": "1.2.0",
            "_view_name": "LayoutView",
            "align_content": null,
            "align_items": null,
            "align_self": null,
            "border": null,
            "bottom": null,
            "display": null,
            "flex": null,
            "flex_flow": null,
            "grid_area": null,
            "grid_auto_columns": null,
            "grid_auto_flow": null,
            "grid_auto_rows": null,
            "grid_column": null,
            "grid_gap": null,
            "grid_row": null,
            "grid_template_areas": null,
            "grid_template_columns": null,
            "grid_template_rows": null,
            "height": null,
            "justify_content": null,
            "justify_items": null,
            "left": null,
            "margin": null,
            "max_height": null,
            "max_width": null,
            "min_height": null,
            "min_width": null,
            "object_fit": null,
            "object_position": null,
            "order": null,
            "overflow": null,
            "overflow_x": null,
            "overflow_y": null,
            "padding": null,
            "right": null,
            "top": null,
            "visibility": null,
            "width": null
          }
        },
        "eb6ba21ea6724f7eb23851513d0e4eac": {
          "model_module": "@jupyter-widgets/controls",
          "model_name": "ProgressStyleModel",
          "model_module_version": "1.5.0",
          "state": {
            "_model_module": "@jupyter-widgets/controls",
            "_model_module_version": "1.5.0",
            "_model_name": "ProgressStyleModel",
            "_view_count": null,
            "_view_module": "@jupyter-widgets/base",
            "_view_module_version": "1.2.0",
            "_view_name": "StyleView",
            "bar_color": null,
            "description_width": ""
          }
        },
        "c4749bf0f9564875a50784c3b1ea4c07": {
          "model_module": "@jupyter-widgets/base",
          "model_name": "LayoutModel",
          "model_module_version": "1.2.0",
          "state": {
            "_model_module": "@jupyter-widgets/base",
            "_model_module_version": "1.2.0",
            "_model_name": "LayoutModel",
            "_view_count": null,
            "_view_module": "@jupyter-widgets/base",
            "_view_module_version": "1.2.0",
            "_view_name": "LayoutView",
            "align_content": null,
            "align_items": null,
            "align_self": null,
            "border": null,
            "bottom": null,
            "display": null,
            "flex": null,
            "flex_flow": null,
            "grid_area": null,
            "grid_auto_columns": null,
            "grid_auto_flow": null,
            "grid_auto_rows": null,
            "grid_column": null,
            "grid_gap": null,
            "grid_row": null,
            "grid_template_areas": null,
            "grid_template_columns": null,
            "grid_template_rows": null,
            "height": null,
            "justify_content": null,
            "justify_items": null,
            "left": null,
            "margin": null,
            "max_height": null,
            "max_width": null,
            "min_height": null,
            "min_width": null,
            "object_fit": null,
            "object_position": null,
            "order": null,
            "overflow": null,
            "overflow_x": null,
            "overflow_y": null,
            "padding": null,
            "right": null,
            "top": null,
            "visibility": null,
            "width": null
          }
        },
        "d7db32732fb24b4daa54f08158ab2139": {
          "model_module": "@jupyter-widgets/controls",
          "model_name": "DescriptionStyleModel",
          "model_module_version": "1.5.0",
          "state": {
            "_model_module": "@jupyter-widgets/controls",
            "_model_module_version": "1.5.0",
            "_model_name": "DescriptionStyleModel",
            "_view_count": null,
            "_view_module": "@jupyter-widgets/base",
            "_view_module_version": "1.2.0",
            "_view_name": "StyleView",
            "description_width": ""
          }
        },
        "a9212f1ca18b49cfac188ab6c2565c73": {
          "model_module": "@jupyter-widgets/controls",
          "model_name": "HBoxModel",
          "model_module_version": "1.5.0",
          "state": {
            "_dom_classes": [],
            "_model_module": "@jupyter-widgets/controls",
            "_model_module_version": "1.5.0",
            "_model_name": "HBoxModel",
            "_view_count": null,
            "_view_module": "@jupyter-widgets/controls",
            "_view_module_version": "1.5.0",
            "_view_name": "HBoxView",
            "box_style": "",
            "children": [
              "IPY_MODEL_0cd8aabf162f4b9a86e2c7be3a5bb46a",
              "IPY_MODEL_1a071ce3a60a4c1fa1fa54a6fea0777e",
              "IPY_MODEL_20dd0ad9e4cd42f586fa107df7153274"
            ],
            "layout": "IPY_MODEL_152ac696608e45a586f483bb3e211a49"
          }
        },
        "0cd8aabf162f4b9a86e2c7be3a5bb46a": {
          "model_module": "@jupyter-widgets/controls",
          "model_name": "HTMLModel",
          "model_module_version": "1.5.0",
          "state": {
            "_dom_classes": [],
            "_model_module": "@jupyter-widgets/controls",
            "_model_module_version": "1.5.0",
            "_model_name": "HTMLModel",
            "_view_count": null,
            "_view_module": "@jupyter-widgets/controls",
            "_view_module_version": "1.5.0",
            "_view_name": "HTMLView",
            "description": "",
            "description_tooltip": null,
            "layout": "IPY_MODEL_4a787ec1480a4afb86d4be37f723174b",
            "placeholder": "​",
            "style": "IPY_MODEL_8ead3d8e0e454bc59e4ad28fb16c5cdb",
            "value": "100%"
          }
        },
        "1a071ce3a60a4c1fa1fa54a6fea0777e": {
          "model_module": "@jupyter-widgets/controls",
          "model_name": "FloatProgressModel",
          "model_module_version": "1.5.0",
          "state": {
            "_dom_classes": [],
            "_model_module": "@jupyter-widgets/controls",
            "_model_module_version": "1.5.0",
            "_model_name": "FloatProgressModel",
            "_view_count": null,
            "_view_module": "@jupyter-widgets/controls",
            "_view_module_version": "1.5.0",
            "_view_name": "ProgressView",
            "bar_style": "success",
            "description": "",
            "description_tooltip": null,
            "layout": "IPY_MODEL_f8e4af9d0a3b4999aac00fff9929a1a8",
            "max": 100,
            "min": 0,
            "orientation": "horizontal",
            "style": "IPY_MODEL_4b0eccc187a74c6897dadea09113d282",
            "value": 100
          }
        },
        "20dd0ad9e4cd42f586fa107df7153274": {
          "model_module": "@jupyter-widgets/controls",
          "model_name": "HTMLModel",
          "model_module_version": "1.5.0",
          "state": {
            "_dom_classes": [],
            "_model_module": "@jupyter-widgets/controls",
            "_model_module_version": "1.5.0",
            "_model_name": "HTMLModel",
            "_view_count": null,
            "_view_module": "@jupyter-widgets/controls",
            "_view_module_version": "1.5.0",
            "_view_name": "HTMLView",
            "description": "",
            "description_tooltip": null,
            "layout": "IPY_MODEL_cff169d4ac2646178beeaf1afb15ec84",
            "placeholder": "​",
            "style": "IPY_MODEL_bf3d7f0e8f2b451ea416b3a7c2f35bfc",
            "value": " 100/100 [06:01&lt;00:00,  3.52s/epoch]"
          }
        },
        "152ac696608e45a586f483bb3e211a49": {
          "model_module": "@jupyter-widgets/base",
          "model_name": "LayoutModel",
          "model_module_version": "1.2.0",
          "state": {
            "_model_module": "@jupyter-widgets/base",
            "_model_module_version": "1.2.0",
            "_model_name": "LayoutModel",
            "_view_count": null,
            "_view_module": "@jupyter-widgets/base",
            "_view_module_version": "1.2.0",
            "_view_name": "LayoutView",
            "align_content": null,
            "align_items": null,
            "align_self": null,
            "border": null,
            "bottom": null,
            "display": null,
            "flex": null,
            "flex_flow": null,
            "grid_area": null,
            "grid_auto_columns": null,
            "grid_auto_flow": null,
            "grid_auto_rows": null,
            "grid_column": null,
            "grid_gap": null,
            "grid_row": null,
            "grid_template_areas": null,
            "grid_template_columns": null,
            "grid_template_rows": null,
            "height": null,
            "justify_content": null,
            "justify_items": null,
            "left": null,
            "margin": null,
            "max_height": null,
            "max_width": null,
            "min_height": null,
            "min_width": null,
            "object_fit": null,
            "object_position": null,
            "order": null,
            "overflow": null,
            "overflow_x": null,
            "overflow_y": null,
            "padding": null,
            "right": null,
            "top": null,
            "visibility": null,
            "width": null
          }
        },
        "4a787ec1480a4afb86d4be37f723174b": {
          "model_module": "@jupyter-widgets/base",
          "model_name": "LayoutModel",
          "model_module_version": "1.2.0",
          "state": {
            "_model_module": "@jupyter-widgets/base",
            "_model_module_version": "1.2.0",
            "_model_name": "LayoutModel",
            "_view_count": null,
            "_view_module": "@jupyter-widgets/base",
            "_view_module_version": "1.2.0",
            "_view_name": "LayoutView",
            "align_content": null,
            "align_items": null,
            "align_self": null,
            "border": null,
            "bottom": null,
            "display": null,
            "flex": null,
            "flex_flow": null,
            "grid_area": null,
            "grid_auto_columns": null,
            "grid_auto_flow": null,
            "grid_auto_rows": null,
            "grid_column": null,
            "grid_gap": null,
            "grid_row": null,
            "grid_template_areas": null,
            "grid_template_columns": null,
            "grid_template_rows": null,
            "height": null,
            "justify_content": null,
            "justify_items": null,
            "left": null,
            "margin": null,
            "max_height": null,
            "max_width": null,
            "min_height": null,
            "min_width": null,
            "object_fit": null,
            "object_position": null,
            "order": null,
            "overflow": null,
            "overflow_x": null,
            "overflow_y": null,
            "padding": null,
            "right": null,
            "top": null,
            "visibility": null,
            "width": null
          }
        },
        "8ead3d8e0e454bc59e4ad28fb16c5cdb": {
          "model_module": "@jupyter-widgets/controls",
          "model_name": "DescriptionStyleModel",
          "model_module_version": "1.5.0",
          "state": {
            "_model_module": "@jupyter-widgets/controls",
            "_model_module_version": "1.5.0",
            "_model_name": "DescriptionStyleModel",
            "_view_count": null,
            "_view_module": "@jupyter-widgets/base",
            "_view_module_version": "1.2.0",
            "_view_name": "StyleView",
            "description_width": ""
          }
        },
        "f8e4af9d0a3b4999aac00fff9929a1a8": {
          "model_module": "@jupyter-widgets/base",
          "model_name": "LayoutModel",
          "model_module_version": "1.2.0",
          "state": {
            "_model_module": "@jupyter-widgets/base",
            "_model_module_version": "1.2.0",
            "_model_name": "LayoutModel",
            "_view_count": null,
            "_view_module": "@jupyter-widgets/base",
            "_view_module_version": "1.2.0",
            "_view_name": "LayoutView",
            "align_content": null,
            "align_items": null,
            "align_self": null,
            "border": null,
            "bottom": null,
            "display": null,
            "flex": null,
            "flex_flow": null,
            "grid_area": null,
            "grid_auto_columns": null,
            "grid_auto_flow": null,
            "grid_auto_rows": null,
            "grid_column": null,
            "grid_gap": null,
            "grid_row": null,
            "grid_template_areas": null,
            "grid_template_columns": null,
            "grid_template_rows": null,
            "height": null,
            "justify_content": null,
            "justify_items": null,
            "left": null,
            "margin": null,
            "max_height": null,
            "max_width": null,
            "min_height": null,
            "min_width": null,
            "object_fit": null,
            "object_position": null,
            "order": null,
            "overflow": null,
            "overflow_x": null,
            "overflow_y": null,
            "padding": null,
            "right": null,
            "top": null,
            "visibility": null,
            "width": null
          }
        },
        "4b0eccc187a74c6897dadea09113d282": {
          "model_module": "@jupyter-widgets/controls",
          "model_name": "ProgressStyleModel",
          "model_module_version": "1.5.0",
          "state": {
            "_model_module": "@jupyter-widgets/controls",
            "_model_module_version": "1.5.0",
            "_model_name": "ProgressStyleModel",
            "_view_count": null,
            "_view_module": "@jupyter-widgets/base",
            "_view_module_version": "1.2.0",
            "_view_name": "StyleView",
            "bar_color": null,
            "description_width": ""
          }
        },
        "cff169d4ac2646178beeaf1afb15ec84": {
          "model_module": "@jupyter-widgets/base",
          "model_name": "LayoutModel",
          "model_module_version": "1.2.0",
          "state": {
            "_model_module": "@jupyter-widgets/base",
            "_model_module_version": "1.2.0",
            "_model_name": "LayoutModel",
            "_view_count": null,
            "_view_module": "@jupyter-widgets/base",
            "_view_module_version": "1.2.0",
            "_view_name": "LayoutView",
            "align_content": null,
            "align_items": null,
            "align_self": null,
            "border": null,
            "bottom": null,
            "display": null,
            "flex": null,
            "flex_flow": null,
            "grid_area": null,
            "grid_auto_columns": null,
            "grid_auto_flow": null,
            "grid_auto_rows": null,
            "grid_column": null,
            "grid_gap": null,
            "grid_row": null,
            "grid_template_areas": null,
            "grid_template_columns": null,
            "grid_template_rows": null,
            "height": null,
            "justify_content": null,
            "justify_items": null,
            "left": null,
            "margin": null,
            "max_height": null,
            "max_width": null,
            "min_height": null,
            "min_width": null,
            "object_fit": null,
            "object_position": null,
            "order": null,
            "overflow": null,
            "overflow_x": null,
            "overflow_y": null,
            "padding": null,
            "right": null,
            "top": null,
            "visibility": null,
            "width": null
          }
        },
        "bf3d7f0e8f2b451ea416b3a7c2f35bfc": {
          "model_module": "@jupyter-widgets/controls",
          "model_name": "DescriptionStyleModel",
          "model_module_version": "1.5.0",
          "state": {
            "_model_module": "@jupyter-widgets/controls",
            "_model_module_version": "1.5.0",
            "_model_name": "DescriptionStyleModel",
            "_view_count": null,
            "_view_module": "@jupyter-widgets/base",
            "_view_module_version": "1.2.0",
            "_view_name": "StyleView",
            "description_width": ""
          }
        }
      }
    }
  },
  "cells": [
    {
      "cell_type": "markdown",
      "source": [
        "### 01_Exercise\n",
        "Task\n",
        "* Build, train, and evaluate a neural network with Pytorch.\n",
        "* It should have minimum ***2 hidden*** layers \n",
        "* Experiment with at least ***5 different variations*** of hyperparameters (n layers / neurons, activation function, epochs, optimizers, learning rate etc.).\n",
        "* Use gradio to build a simple interactive demo (in the notebook)."
      ],
      "metadata": {
        "id": "9HHRnRy54TM9"
      }
    },
    {
      "cell_type": "code",
      "execution_count": 1,
      "metadata": {
        "id": "U0qWyOA38bqA"
      },
      "outputs": [],
      "source": [
        "# Importing Required Libraries\n",
        "import pandas as pd\n",
        "import numpy as np \n",
        "import torch\n",
        "import matplotlib.pyplot as plt\n",
        "from tqdm import tqdm_notebook\n",
        "from sklearn.metrics import accuracy_score, mean_squared_error\n",
        "from statistics import mean\n",
        "from sklearn.preprocessing import MinMaxScaler\n",
        "from sklearn.model_selection import train_test_split"
      ]
    },
    {
      "cell_type": "markdown",
      "source": [
        "#### 1. data import and Feature selection."
      ],
      "metadata": {
        "id": "nTVh-bGAFxcA"
      }
    },
    {
      "cell_type": "code",
      "source": [
        "df = pd.read_csv('https://raw.githubusercontent.com/Brlsadiksha/project/main/hr_final.csv?token=GHSAT0AAAAAAB6FESXTL3WEJUZ25ZE6Y4XIY6456WQ')"
      ],
      "metadata": {
        "id": "m2rQZlIe-OA8"
      },
      "execution_count": 2,
      "outputs": []
    },
    {
      "cell_type": "code",
      "source": [
        "df.head()"
      ],
      "metadata": {
        "colab": {
          "base_uri": "https://localhost:8080/",
          "height": 317
        },
        "id": "TEkIIvGa-N-I",
        "outputId": "9a8921b8-a547-476f-928c-a6415b1efc34"
      },
      "execution_count": 3,
      "outputs": [
        {
          "output_type": "execute_result",
          "data": {
            "text/plain": [
              "   Unnamed: 0  Age  Attrition  BusinessTravel  Department  DistanceFromHome  \\\n",
              "0           0   51          0               2           2                 6   \n",
              "1           1   31          1               1           1                10   \n",
              "2           2   32          0               1           1                17   \n",
              "3           3   38          0               0           1                 2   \n",
              "4           4   32          0               2           1                10   \n",
              "\n",
              "   Education  EducationField  Gender  JobLevel  ...  YearsWithCurrManager  \\\n",
              "0          2               1       0         1  ...                     0   \n",
              "1          1               1       0         1  ...                     4   \n",
              "2          4               4       1         4  ...                     3   \n",
              "3          5               1       1         3  ...                     5   \n",
              "4          1               3       1         1  ...                     4   \n",
              "\n",
              "   JobInvolvement  PerformanceRating  EnvironmentSatisfaction  \\\n",
              "0               3                  3                      3.0   \n",
              "1               2                  4                      3.0   \n",
              "2               3                  3                      2.0   \n",
              "3               2                  3                      4.0   \n",
              "4               3                  3                      4.0   \n",
              "\n",
              "   JobSatisfaction  WorkLifeBalance  Age_tier  distancehome_tier  \\\n",
              "0              4.0              2.0         3                  3   \n",
              "1              2.0              4.0         1                  3   \n",
              "2              2.0              1.0         1                  2   \n",
              "3              4.0              3.0         1                  4   \n",
              "4              1.0              3.0         1                  3   \n",
              "\n",
              "   JobRole_tier  MonthlyIncome_tier  \n",
              "0             4                   5  \n",
              "1             1                   3  \n",
              "2             1                   5  \n",
              "3             4                   4  \n",
              "4             1                   1  \n",
              "\n",
              "[5 rows x 30 columns]"
            ],
            "text/html": [
              "\n",
              "  <div id=\"df-fcf870c0-b773-4634-bed2-d161bca023e5\">\n",
              "    <div class=\"colab-df-container\">\n",
              "      <div>\n",
              "<style scoped>\n",
              "    .dataframe tbody tr th:only-of-type {\n",
              "        vertical-align: middle;\n",
              "    }\n",
              "\n",
              "    .dataframe tbody tr th {\n",
              "        vertical-align: top;\n",
              "    }\n",
              "\n",
              "    .dataframe thead th {\n",
              "        text-align: right;\n",
              "    }\n",
              "</style>\n",
              "<table border=\"1\" class=\"dataframe\">\n",
              "  <thead>\n",
              "    <tr style=\"text-align: right;\">\n",
              "      <th></th>\n",
              "      <th>Unnamed: 0</th>\n",
              "      <th>Age</th>\n",
              "      <th>Attrition</th>\n",
              "      <th>BusinessTravel</th>\n",
              "      <th>Department</th>\n",
              "      <th>DistanceFromHome</th>\n",
              "      <th>Education</th>\n",
              "      <th>EducationField</th>\n",
              "      <th>Gender</th>\n",
              "      <th>JobLevel</th>\n",
              "      <th>...</th>\n",
              "      <th>YearsWithCurrManager</th>\n",
              "      <th>JobInvolvement</th>\n",
              "      <th>PerformanceRating</th>\n",
              "      <th>EnvironmentSatisfaction</th>\n",
              "      <th>JobSatisfaction</th>\n",
              "      <th>WorkLifeBalance</th>\n",
              "      <th>Age_tier</th>\n",
              "      <th>distancehome_tier</th>\n",
              "      <th>JobRole_tier</th>\n",
              "      <th>MonthlyIncome_tier</th>\n",
              "    </tr>\n",
              "  </thead>\n",
              "  <tbody>\n",
              "    <tr>\n",
              "      <th>0</th>\n",
              "      <td>0</td>\n",
              "      <td>51</td>\n",
              "      <td>0</td>\n",
              "      <td>2</td>\n",
              "      <td>2</td>\n",
              "      <td>6</td>\n",
              "      <td>2</td>\n",
              "      <td>1</td>\n",
              "      <td>0</td>\n",
              "      <td>1</td>\n",
              "      <td>...</td>\n",
              "      <td>0</td>\n",
              "      <td>3</td>\n",
              "      <td>3</td>\n",
              "      <td>3.0</td>\n",
              "      <td>4.0</td>\n",
              "      <td>2.0</td>\n",
              "      <td>3</td>\n",
              "      <td>3</td>\n",
              "      <td>4</td>\n",
              "      <td>5</td>\n",
              "    </tr>\n",
              "    <tr>\n",
              "      <th>1</th>\n",
              "      <td>1</td>\n",
              "      <td>31</td>\n",
              "      <td>1</td>\n",
              "      <td>1</td>\n",
              "      <td>1</td>\n",
              "      <td>10</td>\n",
              "      <td>1</td>\n",
              "      <td>1</td>\n",
              "      <td>0</td>\n",
              "      <td>1</td>\n",
              "      <td>...</td>\n",
              "      <td>4</td>\n",
              "      <td>2</td>\n",
              "      <td>4</td>\n",
              "      <td>3.0</td>\n",
              "      <td>2.0</td>\n",
              "      <td>4.0</td>\n",
              "      <td>1</td>\n",
              "      <td>3</td>\n",
              "      <td>1</td>\n",
              "      <td>3</td>\n",
              "    </tr>\n",
              "    <tr>\n",
              "      <th>2</th>\n",
              "      <td>2</td>\n",
              "      <td>32</td>\n",
              "      <td>0</td>\n",
              "      <td>1</td>\n",
              "      <td>1</td>\n",
              "      <td>17</td>\n",
              "      <td>4</td>\n",
              "      <td>4</td>\n",
              "      <td>1</td>\n",
              "      <td>4</td>\n",
              "      <td>...</td>\n",
              "      <td>3</td>\n",
              "      <td>3</td>\n",
              "      <td>3</td>\n",
              "      <td>2.0</td>\n",
              "      <td>2.0</td>\n",
              "      <td>1.0</td>\n",
              "      <td>1</td>\n",
              "      <td>2</td>\n",
              "      <td>1</td>\n",
              "      <td>5</td>\n",
              "    </tr>\n",
              "    <tr>\n",
              "      <th>3</th>\n",
              "      <td>3</td>\n",
              "      <td>38</td>\n",
              "      <td>0</td>\n",
              "      <td>0</td>\n",
              "      <td>1</td>\n",
              "      <td>2</td>\n",
              "      <td>5</td>\n",
              "      <td>1</td>\n",
              "      <td>1</td>\n",
              "      <td>3</td>\n",
              "      <td>...</td>\n",
              "      <td>5</td>\n",
              "      <td>2</td>\n",
              "      <td>3</td>\n",
              "      <td>4.0</td>\n",
              "      <td>4.0</td>\n",
              "      <td>3.0</td>\n",
              "      <td>1</td>\n",
              "      <td>4</td>\n",
              "      <td>4</td>\n",
              "      <td>4</td>\n",
              "    </tr>\n",
              "    <tr>\n",
              "      <th>4</th>\n",
              "      <td>4</td>\n",
              "      <td>32</td>\n",
              "      <td>0</td>\n",
              "      <td>2</td>\n",
              "      <td>1</td>\n",
              "      <td>10</td>\n",
              "      <td>1</td>\n",
              "      <td>3</td>\n",
              "      <td>1</td>\n",
              "      <td>1</td>\n",
              "      <td>...</td>\n",
              "      <td>4</td>\n",
              "      <td>3</td>\n",
              "      <td>3</td>\n",
              "      <td>4.0</td>\n",
              "      <td>1.0</td>\n",
              "      <td>3.0</td>\n",
              "      <td>1</td>\n",
              "      <td>3</td>\n",
              "      <td>1</td>\n",
              "      <td>1</td>\n",
              "    </tr>\n",
              "  </tbody>\n",
              "</table>\n",
              "<p>5 rows × 30 columns</p>\n",
              "</div>\n",
              "      <button class=\"colab-df-convert\" onclick=\"convertToInteractive('df-fcf870c0-b773-4634-bed2-d161bca023e5')\"\n",
              "              title=\"Convert this dataframe to an interactive table.\"\n",
              "              style=\"display:none;\">\n",
              "        \n",
              "  <svg xmlns=\"http://www.w3.org/2000/svg\" height=\"24px\"viewBox=\"0 0 24 24\"\n",
              "       width=\"24px\">\n",
              "    <path d=\"M0 0h24v24H0V0z\" fill=\"none\"/>\n",
              "    <path d=\"M18.56 5.44l.94 2.06.94-2.06 2.06-.94-2.06-.94-.94-2.06-.94 2.06-2.06.94zm-11 1L8.5 8.5l.94-2.06 2.06-.94-2.06-.94L8.5 2.5l-.94 2.06-2.06.94zm10 10l.94 2.06.94-2.06 2.06-.94-2.06-.94-.94-2.06-.94 2.06-2.06.94z\"/><path d=\"M17.41 7.96l-1.37-1.37c-.4-.4-.92-.59-1.43-.59-.52 0-1.04.2-1.43.59L10.3 9.45l-7.72 7.72c-.78.78-.78 2.05 0 2.83L4 21.41c.39.39.9.59 1.41.59.51 0 1.02-.2 1.41-.59l7.78-7.78 2.81-2.81c.8-.78.8-2.07 0-2.86zM5.41 20L4 18.59l7.72-7.72 1.47 1.35L5.41 20z\"/>\n",
              "  </svg>\n",
              "      </button>\n",
              "      \n",
              "  <style>\n",
              "    .colab-df-container {\n",
              "      display:flex;\n",
              "      flex-wrap:wrap;\n",
              "      gap: 12px;\n",
              "    }\n",
              "\n",
              "    .colab-df-convert {\n",
              "      background-color: #E8F0FE;\n",
              "      border: none;\n",
              "      border-radius: 50%;\n",
              "      cursor: pointer;\n",
              "      display: none;\n",
              "      fill: #1967D2;\n",
              "      height: 32px;\n",
              "      padding: 0 0 0 0;\n",
              "      width: 32px;\n",
              "    }\n",
              "\n",
              "    .colab-df-convert:hover {\n",
              "      background-color: #E2EBFA;\n",
              "      box-shadow: 0px 1px 2px rgba(60, 64, 67, 0.3), 0px 1px 3px 1px rgba(60, 64, 67, 0.15);\n",
              "      fill: #174EA6;\n",
              "    }\n",
              "\n",
              "    [theme=dark] .colab-df-convert {\n",
              "      background-color: #3B4455;\n",
              "      fill: #D2E3FC;\n",
              "    }\n",
              "\n",
              "    [theme=dark] .colab-df-convert:hover {\n",
              "      background-color: #434B5C;\n",
              "      box-shadow: 0px 1px 3px 1px rgba(0, 0, 0, 0.15);\n",
              "      filter: drop-shadow(0px 1px 2px rgba(0, 0, 0, 0.3));\n",
              "      fill: #FFFFFF;\n",
              "    }\n",
              "  </style>\n",
              "\n",
              "      <script>\n",
              "        const buttonEl =\n",
              "          document.querySelector('#df-fcf870c0-b773-4634-bed2-d161bca023e5 button.colab-df-convert');\n",
              "        buttonEl.style.display =\n",
              "          google.colab.kernel.accessAllowed ? 'block' : 'none';\n",
              "\n",
              "        async function convertToInteractive(key) {\n",
              "          const element = document.querySelector('#df-fcf870c0-b773-4634-bed2-d161bca023e5');\n",
              "          const dataTable =\n",
              "            await google.colab.kernel.invokeFunction('convertToInteractive',\n",
              "                                                     [key], {});\n",
              "          if (!dataTable) return;\n",
              "\n",
              "          const docLinkHtml = 'Like what you see? Visit the ' +\n",
              "            '<a target=\"_blank\" href=https://colab.research.google.com/notebooks/data_table.ipynb>data table notebook</a>'\n",
              "            + ' to learn more about interactive tables.';\n",
              "          element.innerHTML = '';\n",
              "          dataTable['output_type'] = 'display_data';\n",
              "          await google.colab.output.renderOutput(dataTable, element);\n",
              "          const docLink = document.createElement('div');\n",
              "          docLink.innerHTML = docLinkHtml;\n",
              "          element.appendChild(docLink);\n",
              "        }\n",
              "      </script>\n",
              "    </div>\n",
              "  </div>\n",
              "  "
            ]
          },
          "metadata": {},
          "execution_count": 3
        }
      ]
    },
    {
      "cell_type": "markdown",
      "source": [
        "We selected data and features from our first project 'HR Attrition'.\n",
        "We used 4 input data: 'TotalWorkingYears', 'MonthlyIncome', 'JobSatisfaction', 'WorkLifeBalance' and output data:  'Attrition'.\n",
        "The input data is from the most important features operation."
      ],
      "metadata": {
        "id": "_jXTMlxX2s5K"
      }
    },
    {
      "cell_type": "code",
      "source": [
        "# features selection\n",
        "df_s = df[['TotalWorkingYears','MonthlyIncome','JobSatisfaction','WorkLifeBalance','Attrition']]"
      ],
      "metadata": {
        "id": "_ZtSA60r-N7c"
      },
      "execution_count": 4,
      "outputs": []
    },
    {
      "cell_type": "code",
      "source": [
        "df_s.head()"
      ],
      "metadata": {
        "colab": {
          "base_uri": "https://localhost:8080/",
          "height": 206
        },
        "id": "ZJ_JaqJo-Ny_",
        "outputId": "3080aeb0-ca81-4705-ebb9-9856de845061"
      },
      "execution_count": 5,
      "outputs": [
        {
          "output_type": "execute_result",
          "data": {
            "text/plain": [
              "   TotalWorkingYears  MonthlyIncome  JobSatisfaction  WorkLifeBalance  \\\n",
              "0                1.0         131160              4.0              2.0   \n",
              "1                6.0          41890              2.0              4.0   \n",
              "2                5.0         193280              2.0              1.0   \n",
              "3               13.0          83210              4.0              3.0   \n",
              "4                9.0          23420              1.0              3.0   \n",
              "\n",
              "   Attrition  \n",
              "0          0  \n",
              "1          1  \n",
              "2          0  \n",
              "3          0  \n",
              "4          0  "
            ],
            "text/html": [
              "\n",
              "  <div id=\"df-bc36266c-2b68-4545-a9e8-4ec594732f4f\">\n",
              "    <div class=\"colab-df-container\">\n",
              "      <div>\n",
              "<style scoped>\n",
              "    .dataframe tbody tr th:only-of-type {\n",
              "        vertical-align: middle;\n",
              "    }\n",
              "\n",
              "    .dataframe tbody tr th {\n",
              "        vertical-align: top;\n",
              "    }\n",
              "\n",
              "    .dataframe thead th {\n",
              "        text-align: right;\n",
              "    }\n",
              "</style>\n",
              "<table border=\"1\" class=\"dataframe\">\n",
              "  <thead>\n",
              "    <tr style=\"text-align: right;\">\n",
              "      <th></th>\n",
              "      <th>TotalWorkingYears</th>\n",
              "      <th>MonthlyIncome</th>\n",
              "      <th>JobSatisfaction</th>\n",
              "      <th>WorkLifeBalance</th>\n",
              "      <th>Attrition</th>\n",
              "    </tr>\n",
              "  </thead>\n",
              "  <tbody>\n",
              "    <tr>\n",
              "      <th>0</th>\n",
              "      <td>1.0</td>\n",
              "      <td>131160</td>\n",
              "      <td>4.0</td>\n",
              "      <td>2.0</td>\n",
              "      <td>0</td>\n",
              "    </tr>\n",
              "    <tr>\n",
              "      <th>1</th>\n",
              "      <td>6.0</td>\n",
              "      <td>41890</td>\n",
              "      <td>2.0</td>\n",
              "      <td>4.0</td>\n",
              "      <td>1</td>\n",
              "    </tr>\n",
              "    <tr>\n",
              "      <th>2</th>\n",
              "      <td>5.0</td>\n",
              "      <td>193280</td>\n",
              "      <td>2.0</td>\n",
              "      <td>1.0</td>\n",
              "      <td>0</td>\n",
              "    </tr>\n",
              "    <tr>\n",
              "      <th>3</th>\n",
              "      <td>13.0</td>\n",
              "      <td>83210</td>\n",
              "      <td>4.0</td>\n",
              "      <td>3.0</td>\n",
              "      <td>0</td>\n",
              "    </tr>\n",
              "    <tr>\n",
              "      <th>4</th>\n",
              "      <td>9.0</td>\n",
              "      <td>23420</td>\n",
              "      <td>1.0</td>\n",
              "      <td>3.0</td>\n",
              "      <td>0</td>\n",
              "    </tr>\n",
              "  </tbody>\n",
              "</table>\n",
              "</div>\n",
              "      <button class=\"colab-df-convert\" onclick=\"convertToInteractive('df-bc36266c-2b68-4545-a9e8-4ec594732f4f')\"\n",
              "              title=\"Convert this dataframe to an interactive table.\"\n",
              "              style=\"display:none;\">\n",
              "        \n",
              "  <svg xmlns=\"http://www.w3.org/2000/svg\" height=\"24px\"viewBox=\"0 0 24 24\"\n",
              "       width=\"24px\">\n",
              "    <path d=\"M0 0h24v24H0V0z\" fill=\"none\"/>\n",
              "    <path d=\"M18.56 5.44l.94 2.06.94-2.06 2.06-.94-2.06-.94-.94-2.06-.94 2.06-2.06.94zm-11 1L8.5 8.5l.94-2.06 2.06-.94-2.06-.94L8.5 2.5l-.94 2.06-2.06.94zm10 10l.94 2.06.94-2.06 2.06-.94-2.06-.94-.94-2.06-.94 2.06-2.06.94z\"/><path d=\"M17.41 7.96l-1.37-1.37c-.4-.4-.92-.59-1.43-.59-.52 0-1.04.2-1.43.59L10.3 9.45l-7.72 7.72c-.78.78-.78 2.05 0 2.83L4 21.41c.39.39.9.59 1.41.59.51 0 1.02-.2 1.41-.59l7.78-7.78 2.81-2.81c.8-.78.8-2.07 0-2.86zM5.41 20L4 18.59l7.72-7.72 1.47 1.35L5.41 20z\"/>\n",
              "  </svg>\n",
              "      </button>\n",
              "      \n",
              "  <style>\n",
              "    .colab-df-container {\n",
              "      display:flex;\n",
              "      flex-wrap:wrap;\n",
              "      gap: 12px;\n",
              "    }\n",
              "\n",
              "    .colab-df-convert {\n",
              "      background-color: #E8F0FE;\n",
              "      border: none;\n",
              "      border-radius: 50%;\n",
              "      cursor: pointer;\n",
              "      display: none;\n",
              "      fill: #1967D2;\n",
              "      height: 32px;\n",
              "      padding: 0 0 0 0;\n",
              "      width: 32px;\n",
              "    }\n",
              "\n",
              "    .colab-df-convert:hover {\n",
              "      background-color: #E2EBFA;\n",
              "      box-shadow: 0px 1px 2px rgba(60, 64, 67, 0.3), 0px 1px 3px 1px rgba(60, 64, 67, 0.15);\n",
              "      fill: #174EA6;\n",
              "    }\n",
              "\n",
              "    [theme=dark] .colab-df-convert {\n",
              "      background-color: #3B4455;\n",
              "      fill: #D2E3FC;\n",
              "    }\n",
              "\n",
              "    [theme=dark] .colab-df-convert:hover {\n",
              "      background-color: #434B5C;\n",
              "      box-shadow: 0px 1px 3px 1px rgba(0, 0, 0, 0.15);\n",
              "      filter: drop-shadow(0px 1px 2px rgba(0, 0, 0, 0.3));\n",
              "      fill: #FFFFFF;\n",
              "    }\n",
              "  </style>\n",
              "\n",
              "      <script>\n",
              "        const buttonEl =\n",
              "          document.querySelector('#df-bc36266c-2b68-4545-a9e8-4ec594732f4f button.colab-df-convert');\n",
              "        buttonEl.style.display =\n",
              "          google.colab.kernel.accessAllowed ? 'block' : 'none';\n",
              "\n",
              "        async function convertToInteractive(key) {\n",
              "          const element = document.querySelector('#df-bc36266c-2b68-4545-a9e8-4ec594732f4f');\n",
              "          const dataTable =\n",
              "            await google.colab.kernel.invokeFunction('convertToInteractive',\n",
              "                                                     [key], {});\n",
              "          if (!dataTable) return;\n",
              "\n",
              "          const docLinkHtml = 'Like what you see? Visit the ' +\n",
              "            '<a target=\"_blank\" href=https://colab.research.google.com/notebooks/data_table.ipynb>data table notebook</a>'\n",
              "            + ' to learn more about interactive tables.';\n",
              "          element.innerHTML = '';\n",
              "          dataTable['output_type'] = 'display_data';\n",
              "          await google.colab.output.renderOutput(dataTable, element);\n",
              "          const docLink = document.createElement('div');\n",
              "          docLink.innerHTML = docLinkHtml;\n",
              "          element.appendChild(docLink);\n",
              "        }\n",
              "      </script>\n",
              "    </div>\n",
              "  </div>\n",
              "  "
            ]
          },
          "metadata": {},
          "execution_count": 5
        }
      ]
    },
    {
      "cell_type": "code",
      "source": [
        "df_s.shape"
      ],
      "metadata": {
        "colab": {
          "base_uri": "https://localhost:8080/"
        },
        "id": "cbh6CzRLCjUh",
        "outputId": "d990a6ec-314e-41c7-91f7-74b56e610202"
      },
      "execution_count": 6,
      "outputs": [
        {
          "output_type": "execute_result",
          "data": {
            "text/plain": [
              "(4382, 5)"
            ]
          },
          "metadata": {},
          "execution_count": 6
        }
      ]
    },
    {
      "cell_type": "markdown",
      "source": [
        "#### 2. Standard ML preprocessing"
      ],
      "metadata": {
        "id": "LL5xsll0GCoO"
      }
    },
    {
      "cell_type": "code",
      "source": [
        "# Standard ML preprocessing, Scaling\n",
        "scaler = MinMaxScaler() \n",
        "data_scaled = scaler.fit_transform(df_s[['TotalWorkingYears','MonthlyIncome','JobSatisfaction','WorkLifeBalance']])\n",
        "data = pd.DataFrame(data_scaled, columns=['TotalWorkingYears','MonthlyIncome','JobSatisfaction','WorkLifeBalance'])"
      ],
      "metadata": {
        "id": "pyBaGM0JC1bz"
      },
      "execution_count": 7,
      "outputs": []
    },
    {
      "cell_type": "code",
      "source": [
        "data.head()"
      ],
      "metadata": {
        "colab": {
          "base_uri": "https://localhost:8080/",
          "height": 206
        },
        "id": "Zzmq1Y6zC1Zk",
        "outputId": "fc9c017e-622c-42ea-9932-7ecd8f4aefcd"
      },
      "execution_count": 8,
      "outputs": [
        {
          "output_type": "execute_result",
          "data": {
            "text/plain": [
              "   TotalWorkingYears  MonthlyIncome  JobSatisfaction  WorkLifeBalance\n",
              "0              0.025       0.637546         1.000000         0.333333\n",
              "1              0.150       0.167457         0.333333         1.000000\n",
              "2              0.125       0.964666         0.333333         0.000000\n",
              "3              0.325       0.385045         1.000000         0.666667\n",
              "4              0.225       0.070195         0.000000         0.666667"
            ],
            "text/html": [
              "\n",
              "  <div id=\"df-11709992-bb55-454c-814e-080676a0af16\">\n",
              "    <div class=\"colab-df-container\">\n",
              "      <div>\n",
              "<style scoped>\n",
              "    .dataframe tbody tr th:only-of-type {\n",
              "        vertical-align: middle;\n",
              "    }\n",
              "\n",
              "    .dataframe tbody tr th {\n",
              "        vertical-align: top;\n",
              "    }\n",
              "\n",
              "    .dataframe thead th {\n",
              "        text-align: right;\n",
              "    }\n",
              "</style>\n",
              "<table border=\"1\" class=\"dataframe\">\n",
              "  <thead>\n",
              "    <tr style=\"text-align: right;\">\n",
              "      <th></th>\n",
              "      <th>TotalWorkingYears</th>\n",
              "      <th>MonthlyIncome</th>\n",
              "      <th>JobSatisfaction</th>\n",
              "      <th>WorkLifeBalance</th>\n",
              "    </tr>\n",
              "  </thead>\n",
              "  <tbody>\n",
              "    <tr>\n",
              "      <th>0</th>\n",
              "      <td>0.025</td>\n",
              "      <td>0.637546</td>\n",
              "      <td>1.000000</td>\n",
              "      <td>0.333333</td>\n",
              "    </tr>\n",
              "    <tr>\n",
              "      <th>1</th>\n",
              "      <td>0.150</td>\n",
              "      <td>0.167457</td>\n",
              "      <td>0.333333</td>\n",
              "      <td>1.000000</td>\n",
              "    </tr>\n",
              "    <tr>\n",
              "      <th>2</th>\n",
              "      <td>0.125</td>\n",
              "      <td>0.964666</td>\n",
              "      <td>0.333333</td>\n",
              "      <td>0.000000</td>\n",
              "    </tr>\n",
              "    <tr>\n",
              "      <th>3</th>\n",
              "      <td>0.325</td>\n",
              "      <td>0.385045</td>\n",
              "      <td>1.000000</td>\n",
              "      <td>0.666667</td>\n",
              "    </tr>\n",
              "    <tr>\n",
              "      <th>4</th>\n",
              "      <td>0.225</td>\n",
              "      <td>0.070195</td>\n",
              "      <td>0.000000</td>\n",
              "      <td>0.666667</td>\n",
              "    </tr>\n",
              "  </tbody>\n",
              "</table>\n",
              "</div>\n",
              "      <button class=\"colab-df-convert\" onclick=\"convertToInteractive('df-11709992-bb55-454c-814e-080676a0af16')\"\n",
              "              title=\"Convert this dataframe to an interactive table.\"\n",
              "              style=\"display:none;\">\n",
              "        \n",
              "  <svg xmlns=\"http://www.w3.org/2000/svg\" height=\"24px\"viewBox=\"0 0 24 24\"\n",
              "       width=\"24px\">\n",
              "    <path d=\"M0 0h24v24H0V0z\" fill=\"none\"/>\n",
              "    <path d=\"M18.56 5.44l.94 2.06.94-2.06 2.06-.94-2.06-.94-.94-2.06-.94 2.06-2.06.94zm-11 1L8.5 8.5l.94-2.06 2.06-.94-2.06-.94L8.5 2.5l-.94 2.06-2.06.94zm10 10l.94 2.06.94-2.06 2.06-.94-2.06-.94-.94-2.06-.94 2.06-2.06.94z\"/><path d=\"M17.41 7.96l-1.37-1.37c-.4-.4-.92-.59-1.43-.59-.52 0-1.04.2-1.43.59L10.3 9.45l-7.72 7.72c-.78.78-.78 2.05 0 2.83L4 21.41c.39.39.9.59 1.41.59.51 0 1.02-.2 1.41-.59l7.78-7.78 2.81-2.81c.8-.78.8-2.07 0-2.86zM5.41 20L4 18.59l7.72-7.72 1.47 1.35L5.41 20z\"/>\n",
              "  </svg>\n",
              "      </button>\n",
              "      \n",
              "  <style>\n",
              "    .colab-df-container {\n",
              "      display:flex;\n",
              "      flex-wrap:wrap;\n",
              "      gap: 12px;\n",
              "    }\n",
              "\n",
              "    .colab-df-convert {\n",
              "      background-color: #E8F0FE;\n",
              "      border: none;\n",
              "      border-radius: 50%;\n",
              "      cursor: pointer;\n",
              "      display: none;\n",
              "      fill: #1967D2;\n",
              "      height: 32px;\n",
              "      padding: 0 0 0 0;\n",
              "      width: 32px;\n",
              "    }\n",
              "\n",
              "    .colab-df-convert:hover {\n",
              "      background-color: #E2EBFA;\n",
              "      box-shadow: 0px 1px 2px rgba(60, 64, 67, 0.3), 0px 1px 3px 1px rgba(60, 64, 67, 0.15);\n",
              "      fill: #174EA6;\n",
              "    }\n",
              "\n",
              "    [theme=dark] .colab-df-convert {\n",
              "      background-color: #3B4455;\n",
              "      fill: #D2E3FC;\n",
              "    }\n",
              "\n",
              "    [theme=dark] .colab-df-convert:hover {\n",
              "      background-color: #434B5C;\n",
              "      box-shadow: 0px 1px 3px 1px rgba(0, 0, 0, 0.15);\n",
              "      filter: drop-shadow(0px 1px 2px rgba(0, 0, 0, 0.3));\n",
              "      fill: #FFFFFF;\n",
              "    }\n",
              "  </style>\n",
              "\n",
              "      <script>\n",
              "        const buttonEl =\n",
              "          document.querySelector('#df-11709992-bb55-454c-814e-080676a0af16 button.colab-df-convert');\n",
              "        buttonEl.style.display =\n",
              "          google.colab.kernel.accessAllowed ? 'block' : 'none';\n",
              "\n",
              "        async function convertToInteractive(key) {\n",
              "          const element = document.querySelector('#df-11709992-bb55-454c-814e-080676a0af16');\n",
              "          const dataTable =\n",
              "            await google.colab.kernel.invokeFunction('convertToInteractive',\n",
              "                                                     [key], {});\n",
              "          if (!dataTable) return;\n",
              "\n",
              "          const docLinkHtml = 'Like what you see? Visit the ' +\n",
              "            '<a target=\"_blank\" href=https://colab.research.google.com/notebooks/data_table.ipynb>data table notebook</a>'\n",
              "            + ' to learn more about interactive tables.';\n",
              "          element.innerHTML = '';\n",
              "          dataTable['output_type'] = 'display_data';\n",
              "          await google.colab.output.renderOutput(dataTable, element);\n",
              "          const docLink = document.createElement('div');\n",
              "          docLink.innerHTML = docLinkHtml;\n",
              "          element.appendChild(docLink);\n",
              "        }\n",
              "      </script>\n",
              "    </div>\n",
              "  </div>\n",
              "  "
            ]
          },
          "metadata": {},
          "execution_count": 8
        }
      ]
    },
    {
      "cell_type": "code",
      "source": [
        "data_all = pd.concat([df_s['Attrition'], data], axis=1)\n",
        "data_all.head()"
      ],
      "metadata": {
        "colab": {
          "base_uri": "https://localhost:8080/",
          "height": 206
        },
        "id": "XcNcrNZ0EwHH",
        "outputId": "5faf5ccf-4219-47e6-88a9-0d3f2a65cffa"
      },
      "execution_count": 10,
      "outputs": [
        {
          "output_type": "execute_result",
          "data": {
            "text/plain": [
              "   Attrition  TotalWorkingYears  MonthlyIncome  JobSatisfaction  \\\n",
              "0          0              0.025       0.637546         1.000000   \n",
              "1          1              0.150       0.167457         0.333333   \n",
              "2          0              0.125       0.964666         0.333333   \n",
              "3          0              0.325       0.385045         1.000000   \n",
              "4          0              0.225       0.070195         0.000000   \n",
              "\n",
              "   WorkLifeBalance  \n",
              "0         0.333333  \n",
              "1         1.000000  \n",
              "2         0.000000  \n",
              "3         0.666667  \n",
              "4         0.666667  "
            ],
            "text/html": [
              "\n",
              "  <div id=\"df-b59a886e-2d0a-4b7a-8f4b-9e666eea362d\">\n",
              "    <div class=\"colab-df-container\">\n",
              "      <div>\n",
              "<style scoped>\n",
              "    .dataframe tbody tr th:only-of-type {\n",
              "        vertical-align: middle;\n",
              "    }\n",
              "\n",
              "    .dataframe tbody tr th {\n",
              "        vertical-align: top;\n",
              "    }\n",
              "\n",
              "    .dataframe thead th {\n",
              "        text-align: right;\n",
              "    }\n",
              "</style>\n",
              "<table border=\"1\" class=\"dataframe\">\n",
              "  <thead>\n",
              "    <tr style=\"text-align: right;\">\n",
              "      <th></th>\n",
              "      <th>Attrition</th>\n",
              "      <th>TotalWorkingYears</th>\n",
              "      <th>MonthlyIncome</th>\n",
              "      <th>JobSatisfaction</th>\n",
              "      <th>WorkLifeBalance</th>\n",
              "    </tr>\n",
              "  </thead>\n",
              "  <tbody>\n",
              "    <tr>\n",
              "      <th>0</th>\n",
              "      <td>0</td>\n",
              "      <td>0.025</td>\n",
              "      <td>0.637546</td>\n",
              "      <td>1.000000</td>\n",
              "      <td>0.333333</td>\n",
              "    </tr>\n",
              "    <tr>\n",
              "      <th>1</th>\n",
              "      <td>1</td>\n",
              "      <td>0.150</td>\n",
              "      <td>0.167457</td>\n",
              "      <td>0.333333</td>\n",
              "      <td>1.000000</td>\n",
              "    </tr>\n",
              "    <tr>\n",
              "      <th>2</th>\n",
              "      <td>0</td>\n",
              "      <td>0.125</td>\n",
              "      <td>0.964666</td>\n",
              "      <td>0.333333</td>\n",
              "      <td>0.000000</td>\n",
              "    </tr>\n",
              "    <tr>\n",
              "      <th>3</th>\n",
              "      <td>0</td>\n",
              "      <td>0.325</td>\n",
              "      <td>0.385045</td>\n",
              "      <td>1.000000</td>\n",
              "      <td>0.666667</td>\n",
              "    </tr>\n",
              "    <tr>\n",
              "      <th>4</th>\n",
              "      <td>0</td>\n",
              "      <td>0.225</td>\n",
              "      <td>0.070195</td>\n",
              "      <td>0.000000</td>\n",
              "      <td>0.666667</td>\n",
              "    </tr>\n",
              "  </tbody>\n",
              "</table>\n",
              "</div>\n",
              "      <button class=\"colab-df-convert\" onclick=\"convertToInteractive('df-b59a886e-2d0a-4b7a-8f4b-9e666eea362d')\"\n",
              "              title=\"Convert this dataframe to an interactive table.\"\n",
              "              style=\"display:none;\">\n",
              "        \n",
              "  <svg xmlns=\"http://www.w3.org/2000/svg\" height=\"24px\"viewBox=\"0 0 24 24\"\n",
              "       width=\"24px\">\n",
              "    <path d=\"M0 0h24v24H0V0z\" fill=\"none\"/>\n",
              "    <path d=\"M18.56 5.44l.94 2.06.94-2.06 2.06-.94-2.06-.94-.94-2.06-.94 2.06-2.06.94zm-11 1L8.5 8.5l.94-2.06 2.06-.94-2.06-.94L8.5 2.5l-.94 2.06-2.06.94zm10 10l.94 2.06.94-2.06 2.06-.94-2.06-.94-.94-2.06-.94 2.06-2.06.94z\"/><path d=\"M17.41 7.96l-1.37-1.37c-.4-.4-.92-.59-1.43-.59-.52 0-1.04.2-1.43.59L10.3 9.45l-7.72 7.72c-.78.78-.78 2.05 0 2.83L4 21.41c.39.39.9.59 1.41.59.51 0 1.02-.2 1.41-.59l7.78-7.78 2.81-2.81c.8-.78.8-2.07 0-2.86zM5.41 20L4 18.59l7.72-7.72 1.47 1.35L5.41 20z\"/>\n",
              "  </svg>\n",
              "      </button>\n",
              "      \n",
              "  <style>\n",
              "    .colab-df-container {\n",
              "      display:flex;\n",
              "      flex-wrap:wrap;\n",
              "      gap: 12px;\n",
              "    }\n",
              "\n",
              "    .colab-df-convert {\n",
              "      background-color: #E8F0FE;\n",
              "      border: none;\n",
              "      border-radius: 50%;\n",
              "      cursor: pointer;\n",
              "      display: none;\n",
              "      fill: #1967D2;\n",
              "      height: 32px;\n",
              "      padding: 0 0 0 0;\n",
              "      width: 32px;\n",
              "    }\n",
              "\n",
              "    .colab-df-convert:hover {\n",
              "      background-color: #E2EBFA;\n",
              "      box-shadow: 0px 1px 2px rgba(60, 64, 67, 0.3), 0px 1px 3px 1px rgba(60, 64, 67, 0.15);\n",
              "      fill: #174EA6;\n",
              "    }\n",
              "\n",
              "    [theme=dark] .colab-df-convert {\n",
              "      background-color: #3B4455;\n",
              "      fill: #D2E3FC;\n",
              "    }\n",
              "\n",
              "    [theme=dark] .colab-df-convert:hover {\n",
              "      background-color: #434B5C;\n",
              "      box-shadow: 0px 1px 3px 1px rgba(0, 0, 0, 0.15);\n",
              "      filter: drop-shadow(0px 1px 2px rgba(0, 0, 0, 0.3));\n",
              "      fill: #FFFFFF;\n",
              "    }\n",
              "  </style>\n",
              "\n",
              "      <script>\n",
              "        const buttonEl =\n",
              "          document.querySelector('#df-b59a886e-2d0a-4b7a-8f4b-9e666eea362d button.colab-df-convert');\n",
              "        buttonEl.style.display =\n",
              "          google.colab.kernel.accessAllowed ? 'block' : 'none';\n",
              "\n",
              "        async function convertToInteractive(key) {\n",
              "          const element = document.querySelector('#df-b59a886e-2d0a-4b7a-8f4b-9e666eea362d');\n",
              "          const dataTable =\n",
              "            await google.colab.kernel.invokeFunction('convertToInteractive',\n",
              "                                                     [key], {});\n",
              "          if (!dataTable) return;\n",
              "\n",
              "          const docLinkHtml = 'Like what you see? Visit the ' +\n",
              "            '<a target=\"_blank\" href=https://colab.research.google.com/notebooks/data_table.ipynb>data table notebook</a>'\n",
              "            + ' to learn more about interactive tables.';\n",
              "          element.innerHTML = '';\n",
              "          dataTable['output_type'] = 'display_data';\n",
              "          await google.colab.output.renderOutput(dataTable, element);\n",
              "          const docLink = document.createElement('div');\n",
              "          docLink.innerHTML = docLinkHtml;\n",
              "          element.appendChild(docLink);\n",
              "        }\n",
              "      </script>\n",
              "    </div>\n",
              "  </div>\n",
              "  "
            ]
          },
          "metadata": {},
          "execution_count": 10
        }
      ]
    },
    {
      "cell_type": "code",
      "source": [
        "# Train-test split.\n",
        "data_x = torch.tensor(data_all[['TotalWorkingYears','MonthlyIncome','JobSatisfaction','WorkLifeBalance']].values.astype(np.float32))\n",
        "data_y = torch.tensor(data_all[['Attrition']].values.astype(np.float32))"
      ],
      "metadata": {
        "id": "cLf9cBOwC1XN"
      },
      "execution_count": 11,
      "outputs": []
    },
    {
      "cell_type": "code",
      "source": [
        "print(data_x.size())\n",
        "print(data_y.size())"
      ],
      "metadata": {
        "colab": {
          "base_uri": "https://localhost:8080/"
        },
        "id": "0Oz0qgqYC1Uj",
        "outputId": "29143343-f5aa-4a82-94d8-a616c9bf0223"
      },
      "execution_count": 12,
      "outputs": [
        {
          "output_type": "stream",
          "name": "stdout",
          "text": [
            "torch.Size([4382, 4])\n",
            "torch.Size([4382, 1])\n"
          ]
        }
      ]
    },
    {
      "cell_type": "code",
      "source": [
        "X_train , X_test , y_train ,y_test = train_test_split(data_x , data_y, test_size=0.2 , random_state= 52)\n",
        "print(X_train.shape)\n",
        "print(y_train.shape)"
      ],
      "metadata": {
        "colab": {
          "base_uri": "https://localhost:8080/"
        },
        "id": "7lct5FuSBqjM",
        "outputId": "13ef0b24-a27a-43ab-f6c7-ac242f6d9080"
      },
      "execution_count": 13,
      "outputs": [
        {
          "output_type": "stream",
          "name": "stdout",
          "text": [
            "torch.Size([3505, 4])\n",
            "torch.Size([3505, 1])\n"
          ]
        }
      ]
    },
    {
      "cell_type": "code",
      "source": [
        "print(X_test.shape)\n",
        "print(y_test.shape)"
      ],
      "metadata": {
        "colab": {
          "base_uri": "https://localhost:8080/"
        },
        "id": "kPHMy3JYB8VR",
        "outputId": "be5a52b0-247e-4807-e450-5c3e5249dcf1"
      },
      "execution_count": 14,
      "outputs": [
        {
          "output_type": "stream",
          "name": "stdout",
          "text": [
            "torch.Size([877, 4])\n",
            "torch.Size([877, 1])\n"
          ]
        }
      ]
    },
    {
      "cell_type": "markdown",
      "source": [
        "#### 4. Define a training loop and training the model.\n",
        "Experiment with at least 5 different variations of hyperparameters (n layers / neurons, activation function, epochs, optimizers, learning rate etc.).\n",
        "\n",
        "we will run with 5 different variations, \n",
        "1. n layer = 3 (include output layer: 2 hidden layer and 1 output layer), 4 (include output layer: 3 hidden layer and 1 output layer)\n",
        "2. epochs = 50 and 100\n",
        "3. hidden activation function =ReLU / Sigmoid / Tanh\n",
        "4. output layer function = Sigmoid / Softmax Activation\n",
        "5. learning rate = 0.01 / 0.05\n",
        "\n",
        "\n",
        "why we choose Binary & Muliticlassification as output layer Activation function?\n",
        "\n",
        "![image.png](data:image/png;base64,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)"
      ],
      "metadata": {
        "id": "addp6pp17p6F"
      }
    },
    {
      "cell_type": "markdown",
      "source": [
        "below coding is basic training sample with \n",
        "* n_layer = 3\n",
        "* epochs = 100\n",
        "* hidden layers function = ReLU\n",
        "* Output layer function = Sigmoid\n",
        "* learning rate = 0.01\n",
        "* optimizer = RMSprop"
      ],
      "metadata": {
        "id": "eilgWKXLIpQ0"
      }
    },
    {
      "cell_type": "code",
      "source": [
        "# this is a basic sample. \n",
        "# condition : n layer = 3, epochs = 100\n",
        "# hidden activation function = ReLU, Output activation function = Sigmoid\n",
        "# learning rate = 0.01 \n",
        "# optimizer = RMSprop\n",
        "\n",
        "# Initializing Hyperparameters\n",
        "epochs = 100\n",
        "learning_rate = 0.01\n",
        "loss_set = {}\n",
        "\n",
        "# 1. Creating a FeedForwardNetwork\n",
        "model_net1 = torch.nn.Sequential(\n",
        "                         torch.nn.Linear(4,6),\n",
        "                         torch.nn.ReLU(),\n",
        "                         torch.nn.Linear(6,5),\n",
        "                         torch.nn.ReLU(),\n",
        "                         torch.nn.Linear(5,1),\n",
        "                         torch.nn.Sigmoid()\n",
        "                         );\n",
        "loss_mse = torch.nn.MSELoss()\n",
        "optimizer = torch.optim.RMSprop(model_net1.parameters(), lr=learning_rate)\n",
        "\n",
        "# Loop over the number of epochs\n",
        "for i in tqdm_notebook(range(epochs), total=epochs, unit=\"epoch\"):\n",
        "      lost_set_epoch = {}\n",
        "      j = 0\n",
        "      for x, y_t in zip(X_train, y_train):\n",
        "          output = model_net1.forward(x.float())\n",
        "          # 2. FeedForward Evaluation\n",
        "          loss = loss_mse(output, y_t.float())\n",
        "          optimizer.zero_grad();\n",
        "\n",
        "          # 3. Backward / Gradient Calculation\n",
        "          loss.backward()\n",
        "          # 4. Back Propagation\n",
        "          optimizer.step()\n",
        "          # Store the loss for each sample of data\n",
        "          lost_set_epoch[j] = loss\n",
        "          j = j + 1\n",
        "      \n",
        "      # Store the loss for each epoch\n",
        "      loss_set[i] = torch.mean(torch.stack(list(lost_set_epoch.values()))).detach().numpy()\n",
        "\n",
        "      # Display the loss after every 10 epochs\n",
        "      if (i % 10)==0:\n",
        "         print (f\"Loss: {loss_set[i]}\")"
      ],
      "metadata": {
        "colab": {
          "base_uri": "https://localhost:8080/",
          "height": 275,
          "referenced_widgets": [
            "50a874092a78439aa53758512fabb875",
            "5556d8365843406ba37dbbb1f077cee9",
            "ac41dbfde9374dec96cf6b72e5d45800",
            "b65b60110de74ab7ad2b904bb602926b",
            "cf2e333530c849b6a000b5a170944fab",
            "d6a1609d191a42eda182da577b35f721",
            "23d683e0258e406682e96e2755fa51ca",
            "70b1872384be4ab091f5ba0a0dacfc33",
            "00052c9b270f45519d04b57abdd6521b",
            "1b180cb92b5c49368ea8e502bcb42360",
            "675e96c013674b7ba9c7603d9c78f9c7"
          ]
        },
        "id": "RV0iw2g3Aeyx",
        "outputId": "a419d4b5-af35-4703-f10f-c574d294a7e3"
      },
      "execution_count": 26,
      "outputs": [
        {
          "output_type": "stream",
          "name": "stderr",
          "text": [
            "<ipython-input-26-691aab2b7245>:25: TqdmDeprecationWarning: This function will be removed in tqdm==5.0.0\n",
            "Please use `tqdm.notebook.tqdm` instead of `tqdm.tqdm_notebook`\n",
            "  for i in tqdm_notebook(range(epochs), total=epochs, unit=\"epoch\"):\n"
          ]
        },
        {
          "output_type": "display_data",
          "data": {
            "text/plain": [
              "  0%|          | 0/100 [00:00<?, ?epoch/s]"
            ],
            "application/vnd.jupyter.widget-view+json": {
              "version_major": 2,
              "version_minor": 0,
              "model_id": "50a874092a78439aa53758512fabb875"
            }
          },
          "metadata": {}
        },
        {
          "output_type": "stream",
          "name": "stdout",
          "text": [
            "Loss: 0.1312597095966339\n",
            "Loss: 0.12687769532203674\n",
            "Loss: 0.1267751008272171\n",
            "Loss: 0.12672683596611023\n",
            "Loss: 0.12670913338661194\n",
            "Loss: 0.12674419581890106\n",
            "Loss: 0.12674997746944427\n",
            "Loss: 0.12680834531784058\n",
            "Loss: 0.12685035169124603\n",
            "Loss: 0.12684454023838043\n"
          ]
        }
      ]
    },
    {
      "cell_type": "code",
      "source": [
        "plt.plot(np.array(list(loss_set.values())).astype(float))\n",
        "plt.xlabel('Epochs')\n",
        "plt.ylabel('Mean Squared Error')\n",
        "plt.show()"
      ],
      "metadata": {
        "colab": {
          "base_uri": "https://localhost:8080/",
          "height": 279
        },
        "id": "GtzazEmn8Dj9",
        "outputId": "4be317f1-127f-4bb8-8d60-0f93e7f600e8"
      },
      "execution_count": 27,
      "outputs": [
        {
          "output_type": "display_data",
          "data": {
            "text/plain": [
              "<Figure size 432x288 with 1 Axes>"
            ],
            "image/png": "[encoded data removed]"
          },
          "metadata": {
            "needs_background": "light"
          }
        }
      ]
    },
    {
      "cell_type": "markdown",
      "source": [
        "### Test_01 (by n_layer: 4 layers include outlayer)"
      ],
      "metadata": {
        "id": "Dn4z0yB36zPn"
      }
    },
    {
      "cell_type": "code",
      "source": [
        "# condition : n layer = 4, epochs = 100\n",
        "# hidden activation function = ReLU, Output activation function = Sigmoid\n",
        "# learning rate = 0.01 \n",
        "# optimizer = RMSprop\n",
        "\n",
        "# Initializing Hyperparameters\n",
        "epochs = 100\n",
        "learning_rate = 0.01\n",
        "loss_set = {}\n",
        "\n",
        "\n",
        "# 1. Creating a FeedForwardNetwork\n",
        "model_net2 = torch.nn.Sequential(\n",
        "                         torch.nn.Linear(4,6),\n",
        "                         torch.nn.ReLU(),\n",
        "                         torch.nn.Linear(6,5),\n",
        "                         torch.nn.ReLU(),\n",
        "                         torch.nn.Linear(5,3),\n",
        "                         torch.nn.ReLU(),\n",
        "                         torch.nn.Linear(3,1),\n",
        "                         torch.nn.Sigmoid()\n",
        "                         );\n",
        "loss_mse = torch.nn.MSELoss()\n",
        "optimizer = torch.optim.RMSprop(model_net2.parameters(), lr=learning_rate)\n",
        "\n",
        "# Loop over the number of epochs\n",
        "for i in tqdm_notebook(range(epochs), total=epochs, unit=\"epoch\"):\n",
        "      lost_set_epoch = {}\n",
        "      j = 0\n",
        "      for x, y_t in zip(X_train, y_train):\n",
        "          output = model_net2.forward(x.float())\n",
        "          # 2. FeedForward Evaluation\n",
        "          loss = loss_mse(output, y_t.float())\n",
        "          optimizer.zero_grad();\n",
        "\n",
        "          # 3. Backward / Gradient Calculation\n",
        "          loss.backward()\n",
        "          # 4. Back Propagation\n",
        "          optimizer.step()\n",
        "          # Store the loss for each sample of data\n",
        "          lost_set_epoch[j] = loss\n",
        "          j = j + 1\n",
        "      \n",
        "      # Store the loss for each epoch\n",
        "      loss_set[i] = torch.mean(torch.stack(list(lost_set_epoch.values()))).detach().numpy()\n",
        "\n",
        "      # Display the loss after every 10 epochs\n",
        "      if (i % 10)==0:\n",
        "         print (f\"Loss: {loss_set[i]}\")"
      ],
      "metadata": {
        "colab": {
          "base_uri": "https://localhost:8080/",
          "height": 275,
          "referenced_widgets": [
            "d5ae01a3477a442594772b11964558d7",
            "ec722094e07a4d6f9311e430a13bb26d",
            "92340b02a71e4ae6aebccaa373e1d04c",
            "6f2147d831b842c7bb4ffaf3e4c996a2",
            "bce24b6cc92b49c1a74f5b37f2777d00",
            "aaaa3d45a4ea4d9bbb855009cfb36590",
            "9064ddf89c7145aca854c1885f39ca07",
            "91920c338a8f43018dba111424ff7ecd",
            "016be17769b34bba8715b9d21eb22936",
            "ecdb37e30a7343209cc1f3dd8e8478d6",
            "664c73a1a3664778ba46584eaea0bdea"
          ]
        },
        "id": "eV671glHFqNa",
        "outputId": "3401e722-400e-45b9-a650-11ec4ec7fa37"
      },
      "execution_count": 28,
      "outputs": [
        {
          "output_type": "stream",
          "name": "stderr",
          "text": [
            "<ipython-input-28-d55fe1de6eee>:27: TqdmDeprecationWarning: This function will be removed in tqdm==5.0.0\n",
            "Please use `tqdm.notebook.tqdm` instead of `tqdm.tqdm_notebook`\n",
            "  for i in tqdm_notebook(range(epochs), total=epochs, unit=\"epoch\"):\n"
          ]
        },
        {
          "output_type": "display_data",
          "data": {
            "text/plain": [
              "  0%|          | 0/100 [00:00<?, ?epoch/s]"
            ],
            "application/vnd.jupyter.widget-view+json": {
              "version_major": 2,
              "version_minor": 0,
              "model_id": "d5ae01a3477a442594772b11964558d7"
            }
          },
          "metadata": {}
        },
        {
          "output_type": "stream",
          "name": "stdout",
          "text": [
            "Loss: 0.13247552514076233\n",
            "Loss: 0.12823998928070068\n",
            "Loss: 0.12814190983772278\n",
            "Loss: 0.12805694341659546\n",
            "Loss: 0.12761344015598297\n",
            "Loss: 0.12745004892349243\n",
            "Loss: 0.12757575511932373\n",
            "Loss: 0.12791140377521515\n",
            "Loss: 0.12808963656425476\n",
            "Loss: 0.12776322662830353\n"
          ]
        }
      ]
    },
    {
      "cell_type": "code",
      "source": [
        "plt.plot(np.array(list(loss_set.values())).astype(float))\n",
        "plt.xlabel('Epochs')\n",
        "plt.ylabel('Mean Squared Error')\n",
        "plt.show()"
      ],
      "metadata": {
        "colab": {
          "base_uri": "https://localhost:8080/",
          "height": 279
        },
        "id": "l0fQtdUqJpYf",
        "outputId": "fe7ffab6-50ea-426c-a345-21c835395c63"
      },
      "execution_count": 29,
      "outputs": [
        {
          "output_type": "display_data",
          "data": {
            "text/plain": [
              "<Figure size 432x288 with 1 Axes>"
            ],
            "image/png": "[encoded data removed]"
          },
          "metadata": {
            "needs_background": "light"
          }
        }
      ]
    },
    {
      "cell_type": "markdown",
      "source": [
        "## The result of ***'n_layer = 3'*** is better."
      ],
      "metadata": {
        "id": "5g6vPx59LE9G"
      }
    },
    {
      "cell_type": "markdown",
      "source": [
        "### Test_02 (by learning rate : 0.05)"
      ],
      "metadata": {
        "id": "EpQA2AZ465_8"
      }
    },
    {
      "cell_type": "code",
      "source": [
        "# condition : n layer = 3, epochs = 100\n",
        "# hidden activation function = ReLU, Output activation function = Sigmoid\n",
        "# learning rate = 0.05\n",
        "# optimizer = RMSprop\n",
        "\n",
        "# Initializing Hyperparameters\n",
        "epochs = 100\n",
        "learning_rate = 0.05\n",
        "loss_set = {}\n",
        "\n",
        "# 1. Creating a FeedForwardNetwork\n",
        "model_net1 = torch.nn.Sequential(\n",
        "                         torch.nn.Linear(4,6),\n",
        "                         torch.nn.ReLU(),\n",
        "                         torch.nn.Linear(6,5),\n",
        "                         torch.nn.ReLU(),\n",
        "                         torch.nn.Linear(5,1),\n",
        "                         torch.nn.Sigmoid()\n",
        "                         );\n",
        "loss_mse = torch.nn.MSELoss()\n",
        "optimizer = torch.optim.RMSprop(model_net1.parameters(), lr=learning_rate)\n",
        "\n",
        "# Loop over the number of epochs\n",
        "for i in tqdm_notebook(range(epochs), total=epochs, unit=\"epoch\"):\n",
        "      lost_set_epoch = {}\n",
        "      j = 0\n",
        "      for x, y_t in zip(X_train, y_train):\n",
        "          output = model_net1.forward(x.float())\n",
        "          # 2. FeedForward Evaluation\n",
        "          loss = loss_mse(output, y_t.float())\n",
        "          optimizer.zero_grad();\n",
        "\n",
        "          # 3. Backward / Gradient Calculation\n",
        "          loss.backward()\n",
        "          # 4. Back Propagation\n",
        "          optimizer.step()\n",
        "          # Store the loss for each sample of data\n",
        "          lost_set_epoch[j] = loss\n",
        "          j = j + 1\n",
        "      \n",
        "      # Store the loss for each epoch\n",
        "      loss_set[i] = torch.mean(torch.stack(list(lost_set_epoch.values()))).detach().numpy()\n",
        "\n",
        "      # Display the loss after every 10 epochs\n",
        "      if (i % 10)==0:\n",
        "         print (f\"Loss: {loss_set[i]}\")"
      ],
      "metadata": {
        "colab": {
          "base_uri": "https://localhost:8080/",
          "height": 275,
          "referenced_widgets": [
            "a6c79074b08b4cb3862fb7f86a06a317",
            "1bbb5d94ef3d41779ade6c9e3ec4680f",
            "3efe8b96e735463e9cec4a5fe97b8b96",
            "7d443f85b83549a08f3111fd1296a707",
            "965200e2aa58430eb9f8714f29767963",
            "58ee4cbf9b9d4d88990acf11ac254711",
            "a94a4202bb06425982baf7d7d1166ad3",
            "461f22916df6466d84e9382a976cb444",
            "dfccd2bd49194b6ebf06cb55b1022505",
            "7e2168d6b41642a7ad5d28a175b96e52",
            "3ea56a6e216847f3adafdd8cf11b0bbc"
          ]
        },
        "id": "XqsvhjUJD99x",
        "outputId": "2e50a6e7-67f6-49a4-9c92-ffb3c594bc9c"
      },
      "execution_count": 30,
      "outputs": [
        {
          "output_type": "stream",
          "name": "stderr",
          "text": [
            "<ipython-input-30-bab2296823ae>:24: TqdmDeprecationWarning: This function will be removed in tqdm==5.0.0\n",
            "Please use `tqdm.notebook.tqdm` instead of `tqdm.tqdm_notebook`\n",
            "  for i in tqdm_notebook(range(epochs), total=epochs, unit=\"epoch\"):\n"
          ]
        },
        {
          "output_type": "display_data",
          "data": {
            "text/plain": [
              "  0%|          | 0/100 [00:00<?, ?epoch/s]"
            ],
            "application/vnd.jupyter.widget-view+json": {
              "version_major": 2,
              "version_minor": 0,
              "model_id": "a6c79074b08b4cb3862fb7f86a06a317"
            }
          },
          "metadata": {}
        },
        {
          "output_type": "stream",
          "name": "stdout",
          "text": [
            "Loss: 0.13662943243980408\n",
            "Loss: 0.13640829920768738\n",
            "Loss: 0.13640829920768738\n",
            "Loss: 0.13640829920768738\n",
            "Loss: 0.13640829920768738\n",
            "Loss: 0.13640829920768738\n",
            "Loss: 0.13640829920768738\n",
            "Loss: 0.13640829920768738\n",
            "Loss: 0.13640829920768738\n",
            "Loss: 0.13640829920768738\n"
          ]
        }
      ]
    },
    {
      "cell_type": "code",
      "source": [
        "plt.plot(np.array(list(loss_set.values())).astype(float))\n",
        "plt.xlabel('Epochs')\n",
        "plt.ylabel('Mean Squared Error')\n",
        "plt.show()"
      ],
      "metadata": {
        "colab": {
          "base_uri": "https://localhost:8080/",
          "height": 279
        },
        "id": "T8axmqb6Fgcc",
        "outputId": "1c31a8ca-c888-4164-9904-23271cdaa762"
      },
      "execution_count": 31,
      "outputs": [
        {
          "output_type": "display_data",
          "data": {
            "text/plain": [
              "<Figure size 432x288 with 1 Axes>"
            ],
            "image/png": "[encoded data removed]"
          },
          "metadata": {
            "needs_background": "light"
          }
        }
      ]
    },
    {
      "cell_type": "markdown",
      "source": [
        "### the Result of the training with **learning rate = 0.01** is better."
      ],
      "metadata": {
        "id": "lR1A9HkePGhf"
      }
    },
    {
      "cell_type": "markdown",
      "source": [
        "### Test_03 (by hidden activation function ReLU to Tanh)"
      ],
      "metadata": {
        "id": "casFKTJk7Bvh"
      }
    },
    {
      "cell_type": "code",
      "source": [
        "# condition : n layer = 3, epochs = 100\n",
        "# hidden activation function = Tanh, Output activation function = Sigmoid\n",
        "# learning rate = 0.01 \n",
        "# optimizer = RMSprop\n",
        "\n",
        "# Initializing Hyperparameters\n",
        "epochs = 100\n",
        "learning_rate = 0.01\n",
        "loss_set = {}\n",
        "\n",
        "# 1. Creating a FeedForwardNetwork\n",
        "model_net2 = torch.nn.Sequential(\n",
        "                         torch.nn.Linear(4,6),\n",
        "                         torch.nn.Tanh(),\n",
        "                         torch.nn.Linear(6,5),\n",
        "                         torch.nn.Tanh(),\n",
        "                         torch.nn.Linear(5,1),\n",
        "                         torch.nn.Sigmoid()\n",
        "                         );\n",
        "loss_mse = torch.nn.MSELoss()\n",
        "optimizer = torch.optim.RMSprop(model_net2.parameters(), lr=learning_rate)\n",
        "\n",
        "# Loop over the number of epochs\n",
        "for i in tqdm_notebook(range(epochs), total=epochs, unit=\"epoch\"):\n",
        "      lost_set_epoch = {}\n",
        "      j = 0\n",
        "      for x, y_t in zip(X_train, y_train):\n",
        "          output = model_net2.forward(x.float())\n",
        "          # 2. FeedForward Evaluation\n",
        "          loss = loss_mse(output, y_t.float())\n",
        "          optimizer.zero_grad();\n",
        "\n",
        "          # 3. Backward / Gradient Calculation\n",
        "          loss.backward()\n",
        "          # 4. Back Propagation\n",
        "          optimizer.step()\n",
        "          # Store the loss for each sample of data\n",
        "          lost_set_epoch[j] = loss\n",
        "          j = j + 1\n",
        "      \n",
        "      # Store the loss for each epoch\n",
        "      loss_set[i] = torch.mean(torch.stack(list(lost_set_epoch.values()))).detach().numpy()\n",
        "\n",
        "      # Display the loss after every 10 epochs\n",
        "      if (i % 10)==0:\n",
        "         print (f\"Loss: {loss_set[i]}\")"
      ],
      "metadata": {
        "colab": {
          "base_uri": "https://localhost:8080/",
          "height": 275,
          "referenced_widgets": [
            "41084e2755f04089a33bd31cb1cf5df0",
            "4c99e3ea8b464483ae8f2f91dec3260b",
            "a46840e335a14bdcb44e878ac1aa6517",
            "0d19589a22ff426983a07c80ac37ad39",
            "c42cd1d3cbdb498280b4c5a860a93bc1",
            "fed769cb2df243218146caf8e66e90c1",
            "e628d27f2b0346f18b27223d966ec818",
            "7238629d9a0f4c748c3e797372cd7f95",
            "e348415593e1414ab10713f4c719adae",
            "c244b7e564574fcc9636acaaf297c9ad",
            "c9816a0cf29b4baab3629d027f4db955"
          ]
        },
        "id": "JBT6jl95FnFj",
        "outputId": "de033559-0168-4f9c-bb9a-fe899034d41f"
      },
      "execution_count": 32,
      "outputs": [
        {
          "output_type": "stream",
          "name": "stderr",
          "text": [
            "<ipython-input-32-2c949e9b6cce>:24: TqdmDeprecationWarning: This function will be removed in tqdm==5.0.0\n",
            "Please use `tqdm.notebook.tqdm` instead of `tqdm.tqdm_notebook`\n",
            "  for i in tqdm_notebook(range(epochs), total=epochs, unit=\"epoch\"):\n"
          ]
        },
        {
          "output_type": "display_data",
          "data": {
            "text/plain": [
              "  0%|          | 0/100 [00:00<?, ?epoch/s]"
            ],
            "application/vnd.jupyter.widget-view+json": {
              "version_major": 2,
              "version_minor": 0,
              "model_id": "41084e2755f04089a33bd31cb1cf5df0"
            }
          },
          "metadata": {}
        },
        {
          "output_type": "stream",
          "name": "stdout",
          "text": [
            "Loss: 0.13201366364955902\n",
            "Loss: 0.1255737841129303\n",
            "Loss: 0.12605951726436615\n",
            "Loss: 0.12536312639713287\n",
            "Loss: 0.12455091625452042\n",
            "Loss: 0.12217842042446136\n",
            "Loss: 0.12143524736166\n",
            "Loss: 0.12345422059297562\n",
            "Loss: 0.12350433319807053\n",
            "Loss: 0.12344937771558762\n"
          ]
        }
      ]
    },
    {
      "cell_type": "code",
      "source": [
        "plt.plot(np.array(list(loss_set.values())).astype(float))\n",
        "plt.xlabel('Epochs')\n",
        "plt.ylabel('Mean Squared Error')\n",
        "plt.show()"
      ],
      "metadata": {
        "id": "PVADwDh8GR-e",
        "colab": {
          "base_uri": "https://localhost:8080/",
          "height": 279
        },
        "outputId": "5cf81ffc-0e0f-44e1-c4d0-a9ea07a4501b"
      },
      "execution_count": 33,
      "outputs": [
        {
          "output_type": "display_data",
          "data": {
            "text/plain": [
              "<Figure size 432x288 with 1 Axes>"
            ],
            "image/png": "[encoded data removed]"
          },
          "metadata": {
            "needs_background": "light"
          }
        }
      ]
    },
    {
      "cell_type": "markdown",
      "source": [
        "### the Result of the training with **hidden layer function = Tanh** is better."
      ],
      "metadata": {
        "id": "pEHLRKZGPBNj"
      }
    },
    {
      "cell_type": "markdown",
      "source": [
        "### Test_04 (by Output activation function Sigmoid to Softmax)"
      ],
      "metadata": {
        "id": "VIx7_GIyO1IJ"
      }
    },
    {
      "cell_type": "code",
      "source": [
        "# Initializing Hyperparameters\n",
        "epochs = 100\n",
        "learning_rate = 0.01\n",
        "loss_set = {}\n",
        "\n",
        "# 1. Creating a FeedForwardNetwork\n",
        "model_net3 = torch.nn.Sequential(\n",
        "                         torch.nn.Linear(4,6),\n",
        "                         torch.nn.ReLU(),\n",
        "                         torch.nn.Linear(6,5),\n",
        "                         torch.nn.ReLU(),\n",
        "                         torch.nn.Linear(5,1),\n",
        "                         torch.nn.Softmax()\n",
        "                         );\n",
        "loss_mse = torch.nn.MSELoss()\n",
        "optimizer = torch.optim.RMSprop(model_net3.parameters(), lr=learning_rate)\n",
        "\n",
        "# Loop over the number of epochs\n",
        "for i in tqdm_notebook(range(epochs), total=epochs, unit=\"epoch\"):\n",
        "      lost_set_epoch = {}\n",
        "      j = 0\n",
        "      for x, y_t in zip(X_train, y_train):\n",
        "          output = model_net3.forward(x.float())\n",
        "          # 2. FeedForward Evaluation\n",
        "          loss = loss_mse(output, y_t.float())\n",
        "          optimizer.zero_grad();\n",
        "\n",
        "          # 3. Backward / Gradient Calculation\n",
        "          loss.backward()\n",
        "          # 4. Back Propagation\n",
        "          optimizer.step()\n",
        "          # Store the loss for each sample of data\n",
        "          lost_set_epoch[j] = loss\n",
        "          j = j + 1\n",
        "      \n",
        "      # Store the loss for each epoch\n",
        "      loss_set[i] = torch.mean(torch.stack(list(lost_set_epoch.values()))).detach().numpy()\n",
        "\n",
        "      # Display the loss after every 10 epochs\n",
        "      if (i % 10)==0:\n",
        "         print (f\"Loss: {loss_set[i]}\")"
      ],
      "metadata": {
        "colab": {
          "base_uri": "https://localhost:8080/",
          "height": 329,
          "referenced_widgets": [
            "d19f65534a5c49e98472108e10945f46",
            "258f694e296c479ea7db8fbab247d04b",
            "a49a10ce21b44b9ea7d46ac71ee72f71",
            "183a565725ad4d0f8b19ceed424a2a05",
            "90a1562a8c0f4a889b2ff70bc7a9ba02",
            "9dc0331ebe5b4d2683392dfa1f182df2",
            "f095806794c24f2581443f71e5e6d125",
            "71aaa4995efe474db6b60dcdad8f88d9",
            "eaf8c796563149faa803002ab74f78a4",
            "88bd71f177b44766a2bd06ad460fb7cd",
            "a7e89fa8efc54707888a1886af2c3289"
          ]
        },
        "id": "62An9cTb7H-4",
        "outputId": "9886b380-fd39-41b7-b639-b72ca3d7160b"
      },
      "execution_count": 34,
      "outputs": [
        {
          "output_type": "stream",
          "name": "stderr",
          "text": [
            "<ipython-input-34-c02d22d270aa>:19: TqdmDeprecationWarning: This function will be removed in tqdm==5.0.0\n",
            "Please use `tqdm.notebook.tqdm` instead of `tqdm.tqdm_notebook`\n",
            "  for i in tqdm_notebook(range(epochs), total=epochs, unit=\"epoch\"):\n"
          ]
        },
        {
          "output_type": "display_data",
          "data": {
            "text/plain": [
              "  0%|          | 0/100 [00:00<?, ?epoch/s]"
            ],
            "application/vnd.jupyter.widget-view+json": {
              "version_major": 2,
              "version_minor": 0,
              "model_id": "d19f65534a5c49e98472108e10945f46"
            }
          },
          "metadata": {}
        },
        {
          "output_type": "stream",
          "name": "stderr",
          "text": [
            "/usr/local/lib/python3.8/dist-packages/torch/nn/modules/container.py:204: UserWarning: Implicit dimension choice for softmax has been deprecated. Change the call to include dim=X as an argument.\n",
            "  input = module(input)\n"
          ]
        },
        {
          "output_type": "stream",
          "name": "stdout",
          "text": [
            "Loss: 0.8388017416000366\n",
            "Loss: 0.8388017416000366\n",
            "Loss: 0.8388017416000366\n",
            "Loss: 0.8388017416000366\n",
            "Loss: 0.8388017416000366\n",
            "Loss: 0.8388017416000366\n",
            "Loss: 0.8388017416000366\n",
            "Loss: 0.8388017416000366\n",
            "Loss: 0.8388017416000366\n",
            "Loss: 0.8388017416000366\n"
          ]
        }
      ]
    },
    {
      "cell_type": "code",
      "source": [
        "plt.plot(np.array(list(loss_set.values())).astype(float))\n",
        "plt.xlabel('Epochs')\n",
        "plt.ylabel('Mean Squared Error')\n",
        "plt.show()"
      ],
      "metadata": {
        "colab": {
          "base_uri": "https://localhost:8080/",
          "height": 279
        },
        "id": "MyZJdez87H7h",
        "outputId": "69906f04-6f71-446c-f085-3336e6ee650c"
      },
      "execution_count": 35,
      "outputs": [
        {
          "output_type": "display_data",
          "data": {
            "text/plain": [
              "<Figure size 432x288 with 1 Axes>"
            ],
            "image/png": "[encoded data removed]"
          },
          "metadata": {
            "needs_background": "light"
          }
        }
      ]
    },
    {
      "cell_type": "markdown",
      "source": [
        "### the Result of the training with **'Output layer function = Sigmoid'** is better."
      ],
      "metadata": {
        "id": "AXTXjfnOYoFz"
      }
    },
    {
      "cell_type": "markdown",
      "source": [
        "Test_05 (by Optimizer RMSprop to Adam)"
      ],
      "metadata": {
        "id": "jz3NNweKRz29"
      }
    },
    {
      "cell_type": "code",
      "source": [
        "# Initializing Hyperparameters\n",
        "epochs = 100\n",
        "learning_rate = 0.01\n",
        "loss_set = {}\n",
        "\n",
        "# 1. Creating a FeedForwardNetwork\n",
        "model_net1 = torch.nn.Sequential(\n",
        "                         torch.nn.Linear(4,6),\n",
        "                         torch.nn.ReLU(),\n",
        "                         torch.nn.Linear(6,5),\n",
        "                         torch.nn.ReLU(),\n",
        "                         torch.nn.Linear(5,1),\n",
        "                         torch.nn.Sigmoid()\n",
        "                         );\n",
        "loss_mse = torch.nn.MSELoss()\n",
        "optimizer = torch.optim.Adam(model_net1.parameters(), lr=learning_rate)\n",
        "\n",
        "# Loop over the number of epochs\n",
        "for i in tqdm_notebook(range(epochs), total=epochs, unit=\"epoch\"):\n",
        "      lost_set_epoch = {}\n",
        "      j = 0\n",
        "      for x, y_t in zip(X_train, y_train):\n",
        "          output = model_net1.forward(x.float())\n",
        "          # 2. FeedForward Evaluation\n",
        "          loss = loss_mse(output, y_t.float())\n",
        "          optimizer.zero_grad();\n",
        "\n",
        "          # 3. Backward / Gradient Calculation\n",
        "          loss.backward()\n",
        "          # 4. Back Propagation\n",
        "          optimizer.step()\n",
        "          # Store the loss for each sample of data\n",
        "          lost_set_epoch[j] = loss\n",
        "          j = j + 1\n",
        "      \n",
        "      # Store the loss for each epoch\n",
        "      loss_set[i] = torch.mean(torch.stack(list(lost_set_epoch.values()))).detach().numpy()\n",
        "\n",
        "      # Display the loss after every 10 epochs\n",
        "      if (i % 10)==0:\n",
        "         print (f\"Loss: {loss_set[i]}\")"
      ],
      "metadata": {
        "colab": {
          "base_uri": "https://localhost:8080/",
          "height": 275,
          "referenced_widgets": [
            "14f2212a569940a3932385e35eab3d7c",
            "2dbf7e48e11d4d9ba645af2740edc0c8",
            "ec06eb0c50964b10bd220769468b3fb1",
            "df7fd33d6d724be29dbd96e14f11457e",
            "43d7478a6bb145adaa41fbe5ddb5104f",
            "3d130be0ae1342d69d0ca85b62a09a9d",
            "f0f119933eba410181c5bee0e2584d92",
            "b3ec6eca3d7b480fbbb77939433e65dd",
            "eb6ba21ea6724f7eb23851513d0e4eac",
            "c4749bf0f9564875a50784c3b1ea4c07",
            "d7db32732fb24b4daa54f08158ab2139"
          ]
        },
        "id": "qAwd6lH87H5C",
        "outputId": "146fff5a-56d2-4593-a60a-b4f9af33aba2"
      },
      "execution_count": 36,
      "outputs": [
        {
          "output_type": "stream",
          "name": "stderr",
          "text": [
            "<ipython-input-36-c43b19478d35>:19: TqdmDeprecationWarning: This function will be removed in tqdm==5.0.0\n",
            "Please use `tqdm.notebook.tqdm` instead of `tqdm.tqdm_notebook`\n",
            "  for i in tqdm_notebook(range(epochs), total=epochs, unit=\"epoch\"):\n"
          ]
        },
        {
          "output_type": "display_data",
          "data": {
            "text/plain": [
              "  0%|          | 0/100 [00:00<?, ?epoch/s]"
            ],
            "application/vnd.jupyter.widget-view+json": {
              "version_major": 2,
              "version_minor": 0,
              "model_id": "14f2212a569940a3932385e35eab3d7c"
            }
          },
          "metadata": {}
        },
        {
          "output_type": "stream",
          "name": "stdout",
          "text": [
            "Loss: 0.13253355026245117\n",
            "Loss: 0.1276884227991104\n",
            "Loss: 0.12752419710159302\n",
            "Loss: 0.12728045880794525\n",
            "Loss: 0.12712830305099487\n",
            "Loss: 0.12689664959907532\n",
            "Loss: 0.12690578401088715\n",
            "Loss: 0.12659934163093567\n",
            "Loss: 0.12671376764774323\n",
            "Loss: 0.12665922939777374\n"
          ]
        }
      ]
    },
    {
      "cell_type": "code",
      "source": [
        "plt.plot(np.array(list(loss_set.values())).astype(float))\n",
        "plt.xlabel('Epochs')\n",
        "plt.ylabel('Mean Squared Error')\n",
        "plt.show()"
      ],
      "metadata": {
        "colab": {
          "base_uri": "https://localhost:8080/",
          "height": 279
        },
        "id": "009z_w937H2D",
        "outputId": "90d011df-cd5b-4e18-89e9-3d57cbc9b455"
      },
      "execution_count": 37,
      "outputs": [
        {
          "output_type": "display_data",
          "data": {
            "text/plain": [
              "<Figure size 432x288 with 1 Axes>"
            ],
            "image/png": "[encoded data removed]"
          },
          "metadata": {
            "needs_background": "light"
          }
        }
      ]
    },
    {
      "cell_type": "markdown",
      "source": [
        "### the Result of the training with  **'optimizer = Adam'**  is better."
      ],
      "metadata": {
        "id": "vgNreDepY6kS"
      }
    },
    {
      "cell_type": "markdown",
      "source": [
        "From the training, we found out the best model with following conditions.\n",
        "\n",
        "* n_layer = 3\n",
        "* epochs = 100 (best epochs = 60)\n",
        "* hidden layers function = Tanh\n",
        "* Output layer function = Sigmoid\n",
        "* learning rate = 0.01\n",
        "* optimizer = Adam"
      ],
      "metadata": {
        "id": "o3bGl1siVtR2"
      }
    },
    {
      "cell_type": "code",
      "source": [
        "# Initializing Hyperparameters\n",
        "epochs = 100\n",
        "learning_rate = 0.01\n",
        "loss_set = {}\n",
        "\n",
        "# 1. Creating a FeedForwardNetwork\n",
        "model_net4 = torch.nn.Sequential(\n",
        "                         torch.nn.Linear(4,6),\n",
        "                         torch.nn.Tanh(),\n",
        "                         torch.nn.Linear(6,5),\n",
        "                         torch.nn.Tanh(),\n",
        "                         torch.nn.Linear(5,1),\n",
        "                         torch.nn.Sigmoid()\n",
        "                         );\n",
        "loss_mse = torch.nn.MSELoss()\n",
        "optimizer = torch.optim.Adam(model_net4.parameters(), lr=learning_rate)\n",
        "\n",
        "# Loop over the number of epochs\n",
        "for i in tqdm_notebook(range(epochs), total=epochs, unit=\"epoch\"):\n",
        "      lost_set_epoch = {}\n",
        "      j = 0\n",
        "      for x, y_t in zip(X_train, y_train):\n",
        "          output = model_net4.forward(x.float())\n",
        "          # 2. FeedForward Evaluation\n",
        "          loss = loss_mse(output, y_t.float())\n",
        "          optimizer.zero_grad();\n",
        "\n",
        "          # 3. Backward / Gradient Calculation\n",
        "          loss.backward()\n",
        "          # 4. Back Propagation\n",
        "          optimizer.step()\n",
        "          # Store the loss for each sample of data\n",
        "          lost_set_epoch[j] = loss\n",
        "          j = j + 1\n",
        "      \n",
        "      # Store the loss for each epoch\n",
        "      loss_set[i] = torch.mean(torch.stack(list(lost_set_epoch.values()))).detach().numpy()\n",
        "\n",
        "      # Display the loss after every 10 epochs\n",
        "      if (i % 10)==0:\n",
        "         print (f\"Loss: {loss_set[i]}\")"
      ],
      "metadata": {
        "id": "QPwlhOPp66Do",
        "colab": {
          "base_uri": "https://localhost:8080/",
          "height": 275,
          "referenced_widgets": [
            "a9212f1ca18b49cfac188ab6c2565c73",
            "0cd8aabf162f4b9a86e2c7be3a5bb46a",
            "1a071ce3a60a4c1fa1fa54a6fea0777e",
            "20dd0ad9e4cd42f586fa107df7153274",
            "152ac696608e45a586f483bb3e211a49",
            "4a787ec1480a4afb86d4be37f723174b",
            "8ead3d8e0e454bc59e4ad28fb16c5cdb",
            "f8e4af9d0a3b4999aac00fff9929a1a8",
            "4b0eccc187a74c6897dadea09113d282",
            "cff169d4ac2646178beeaf1afb15ec84",
            "bf3d7f0e8f2b451ea416b3a7c2f35bfc"
          ]
        },
        "outputId": "435f4f54-964e-4dab-c60a-1811b811c41c"
      },
      "execution_count": 38,
      "outputs": [
        {
          "output_type": "stream",
          "name": "stderr",
          "text": [
            "<ipython-input-38-85bfad6bba65>:19: TqdmDeprecationWarning: This function will be removed in tqdm==5.0.0\n",
            "Please use `tqdm.notebook.tqdm` instead of `tqdm.tqdm_notebook`\n",
            "  for i in tqdm_notebook(range(epochs), total=epochs, unit=\"epoch\"):\n"
          ]
        },
        {
          "output_type": "display_data",
          "data": {
            "text/plain": [
              "  0%|          | 0/100 [00:00<?, ?epoch/s]"
            ],
            "application/vnd.jupyter.widget-view+json": {
              "version_major": 2,
              "version_minor": 0,
              "model_id": "a9212f1ca18b49cfac188ab6c2565c73"
            }
          },
          "metadata": {}
        },
        {
          "output_type": "stream",
          "name": "stdout",
          "text": [
            "Loss: 0.1335998773574829\n",
            "Loss: 0.12673448026180267\n",
            "Loss: 0.12516048550605774\n",
            "Loss: 0.12289618700742722\n",
            "Loss: 0.12259934842586517\n",
            "Loss: 0.12298157066106796\n",
            "Loss: 0.12182969599962234\n",
            "Loss: 0.12103929370641708\n",
            "Loss: 0.11923351883888245\n",
            "Loss: 0.11922450363636017\n"
          ]
        }
      ]
    },
    {
      "cell_type": "code",
      "source": [
        "plt.plot(np.array(list(loss_set.values())).astype(float))\n",
        "plt.xlabel('Epochs')\n",
        "plt.ylabel('Mean Squared Error')\n",
        "plt.show()"
      ],
      "metadata": {
        "id": "3TiDwhO766A8",
        "colab": {
          "base_uri": "https://localhost:8080/",
          "height": 279
        },
        "outputId": "6e76100d-2773-4451-abb0-166714f01c5b"
      },
      "execution_count": 39,
      "outputs": [
        {
          "output_type": "display_data",
          "data": {
            "text/plain": [
              "<Figure size 432x288 with 1 Axes>"
            ],
            "image/png": "[encoded data removed]"
          },
          "metadata": {
            "needs_background": "light"
          }
        }
      ]
    },
    {
      "cell_type": "code",
      "source": [
        "# save the trained model\n",
        "torch.save(model_net4, 'model_net4.pkl')"
      ],
      "metadata": {
        "id": "TDTFyWiI65-W"
      },
      "execution_count": 40,
      "outputs": []
    },
    {
      "cell_type": "code",
      "source": [
        "model = torch.load('model_net4.pkl')\n",
        "model.eval()"
      ],
      "metadata": {
        "id": "zMq4SJcfC1KK",
        "colab": {
          "base_uri": "https://localhost:8080/"
        },
        "outputId": "c1f70d23-2041-4ab4-84d4-fd3d1dc8b2bd"
      },
      "execution_count": 41,
      "outputs": [
        {
          "output_type": "execute_result",
          "data": {
            "text/plain": [
              "Sequential(\n",
              "  (0): Linear(in_features=4, out_features=6, bias=True)\n",
              "  (1): Tanh()\n",
              "  (2): Linear(in_features=6, out_features=5, bias=True)\n",
              "  (3): Tanh()\n",
              "  (4): Linear(in_features=5, out_features=1, bias=True)\n",
              "  (5): Sigmoid()\n",
              ")"
            ]
          },
          "metadata": {},
          "execution_count": 41
        }
      ]
    },
    {
      "cell_type": "markdown",
      "source": [
        "# Testing the trained model with our test data"
      ],
      "metadata": {
        "id": "LTCeodwqXGNM"
      }
    },
    {
      "cell_type": "code",
      "source": [
        "X_test"
      ],
      "metadata": {
        "colab": {
          "base_uri": "https://localhost:8080/"
        },
        "id": "vSSUxWdtXBLB",
        "outputId": "7ae25f65-535c-4167-92de-49d649c21ce6"
      },
      "execution_count": 46,
      "outputs": [
        {
          "output_type": "execute_result",
          "data": {
            "text/plain": [
              "tensor([[0.2750, 0.0759, 1.0000, 0.0000],\n",
              "        [0.3000, 0.1725, 0.6667, 0.3333],\n",
              "        [0.2250, 0.0591, 0.0000, 0.6667],\n",
              "        ...,\n",
              "        [0.3250, 0.0913, 0.3333, 0.6667],\n",
              "        [0.2500, 0.0753, 0.3333, 0.3333],\n",
              "        [0.5750, 0.0722, 0.6667, 0.6667]])"
            ]
          },
          "metadata": {},
          "execution_count": 46
        }
      ]
    },
    {
      "cell_type": "code",
      "source": [
        "model(torch.tensor([0.2750, 0.0759, 1.0000, 0.0000]))"
      ],
      "metadata": {
        "colab": {
          "base_uri": "https://localhost:8080/"
        },
        "id": "9cB8__ASYH1s",
        "outputId": "bf1848ec-21ae-403b-af51-9a3fdf336371"
      },
      "execution_count": 44,
      "outputs": [
        {
          "output_type": "execute_result",
          "data": {
            "text/plain": [
              "tensor([0.4592], grad_fn=<SigmoidBackward0>)"
            ]
          },
          "metadata": {},
          "execution_count": 44
        }
      ]
    }
  ]
}
